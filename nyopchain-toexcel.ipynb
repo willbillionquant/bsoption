{
 "cells": [
  {
   "cell_type": "markdown",
   "metadata": {},
   "source": [
    "## Modules"
   ]
  },
  {
   "cell_type": "code",
   "execution_count": 1,
   "metadata": {},
   "outputs": [],
   "source": [
    "import os\n",
    "codepath = os.path.dirname(os.path.abspath(__file__))\n",
    "import sys\n",
    "sys.path.append('..')\n",
    "\n",
    "from datetime import datetime, timedelta\n",
    "import numpy as np\n",
    "import pandas as pd\n",
    "from pandas import ExcelWriter\n",
    "\n",
    "import yfinance as yf"
   ]
  },
  {
   "cell_type": "markdown",
   "metadata": {},
   "source": [
    "## Function"
   ]
  },
  {
   "cell_type": "code",
   "execution_count": 2,
   "metadata": {},
   "outputs": [],
   "source": [
    "def getchain(asset):\n",
    "    \"\"\"Download option chain from yahoo finance API.\"\"\"\n",
    "    # All expiry days\n",
    "    Ticker = yf.Ticker(asset)\n",
    "    expdaylist = Ticker.options\n",
    "    # Last trading day\n",
    "    df1d = Ticker.history(period='1d')\n",
    "    lasttd = df1d.index[0].strftime('%Y%m%d')[2:]\n",
    "    # Option chain dict with each key-value pair being a single expiry day option series\n",
    "    chaindict = {}\n",
    "    for daystr in expdaylist:\n",
    "        expday = datetime.strptime(daystr, '%Y-%m-%d')\n",
    "        if expday.weekday() == 4:\n",
    "            chainlist = Ticker.option_chain(daystr)\n",
    "            dfcall = chainlist[0]\n",
    "            dfcall['optype'] = 'C'\n",
    "            dfput = chainlist[1]\n",
    "            dfput['optype'] = 'P'\n",
    "            renamedict = {'contractSymbol': 'contract', 'lastTradeDate': 'ltdate', 'lastPrice': 'last',\n",
    "                          'change': 'chg', 'percentChange': 'pctchg', 'volume': 'vol', 'openInterest': 'oi',\n",
    "                          'impliedVolatility': 'iv'}\n",
    "            for df in [dfcall, dfput]:\n",
    "                df.drop(['inTheMoney', 'contractSize', 'currency'], axis=1, inplace=True)\n",
    "                df.rename(columns=renamedict, inplace=True)\n",
    "                df['asset'] = asset\n",
    "                df['expiry'] = expday\n",
    "            dfchain = pd.concat([dfcall, dfput], axis=0)\n",
    "            collist = ['contract', 'asset', 'optype', 'expiry', 'strike', 'last', 'bid', 'ask', 'chg', 'pctchg', 'iv',\n",
    "                       'vol', 'oi']\n",
    "            dfchain = dfchain[collist]\n",
    "            for col in ['strike', 'last', 'bid', 'ask', 'chg', 'pctchg', 'iv', 'vol', 'oi']:\n",
    "                dfchain[col] = pd.to_numeric(dfchain[col])\n",
    "            dfchain['chg'] = np.round(dfchain['chg'], 2)\n",
    "            dfchain['pctchg'] = np.round(dfchain['pctchg'], 4)\n",
    "            dfchain['iv'] = np.round(100 * dfchain['iv'], 2)\n",
    "            dfchain.set_index('contract', inplace=True)\n",
    "            dfchain.sort_index(inplace=True)\n",
    "            chaindict[daystr] = dfchain\n",
    "            logging.info(f'Option chain for {asset} expiring on {daystr} is ready.')\n",
    "\n",
    "    # Export to excel files\n",
    "    excelfile = os.path.join(chainpath, f'{asset}-{lasttd}.xlsx')\n",
    "    masterwriter = ExcelWriter(excelfile, engine='xlsxwriter', datetime_format='yyyy-mm-dd', date_format='yyyy-mm-dd')\n",
    "    for expday, df in chaindict.items():\n",
    "        df.to_excel(masterwriter, sheet_name=expday)\n",
    "    for name, sheet in masterwriter.sheets.items():\n",
    "        sheet.freeze_panes(1, 1)\n",
    "        sheet.set_column('A:A', 20)\n",
    "        sheet.set_column('B:B', 6)\n",
    "        sheet.set_column('C:C', 12)\n",
    "        sheet.set_column('D:G', 8)\n",
    "        sheet.set_column('H:J', 12)\n",
    "        sheet.set_column('K:L', 8)\n",
    "    masterwriter.save()\n",
    "\n",
    "    return chaindict"
   ]
  },
  {
   "cell_type": "code",
   "execution_count": null,
   "metadata": {},
   "outputs": [],
   "source": []
  },
  {
   "cell_type": "code",
   "execution_count": null,
   "metadata": {},
   "outputs": [],
   "source": []
  },
  {
   "cell_type": "code",
   "execution_count": null,
   "metadata": {},
   "outputs": [],
   "source": []
  },
  {
   "cell_type": "code",
   "execution_count": null,
   "metadata": {},
   "outputs": [],
   "source": []
  },
  {
   "cell_type": "code",
   "execution_count": null,
   "metadata": {},
   "outputs": [],
   "source": []
  }
 ],
 "metadata": {
  "kernelspec": {
   "display_name": "Python 3",
   "language": "python",
   "name": "python3"
  },
  "language_info": {
   "codemirror_mode": {
    "name": "ipython",
    "version": 3
   },
   "file_extension": ".py",
   "mimetype": "text/x-python",
   "name": "python",
   "nbconvert_exporter": "python",
   "pygments_lexer": "ipython3",
   "version": "3.8.5"
  }
 },
 "nbformat": 4,
 "nbformat_minor": 4
}
