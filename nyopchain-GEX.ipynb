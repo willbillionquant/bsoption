{
 "cells": [
  {
   "cell_type": "markdown",
   "metadata": {},
   "source": [
    "## Modules"
   ]
  },
  {
   "cell_type": "code",
   "execution_count": 1,
   "metadata": {},
   "outputs": [],
   "source": [
    "import os\n",
    "import sys\n",
    "sys.path.append('..')\n",
    "\n",
    "import numpy as np\n",
    "import pandas as pd\n",
    "\n",
    "import plotly.graph_objects as go\n",
    "from plotly.subplots import make_subplots\n",
    "\n",
    "from bsoption.bsmodel import BSModel\n",
    "from bsoption.nyopchain import NYopchain\n",
    "Opchain = NYopchain()\n",
    "\n",
    "from litedata import *\n",
    "from litedata.loadyahoodata import getyahoodata"
   ]
  },
  {
   "cell_type": "markdown",
   "metadata": {},
   "source": [
    "### US stock list setting"
   ]
  },
  {
   "cell_type": "code",
   "execution_count": 2,
   "metadata": {},
   "outputs": [],
   "source": [
    "from configparser import ConfigParser\n",
    "configchain = ConfigParser()\n",
    "configchain.read('setting_yahoochain.ini')\n",
    "chainpath = configchain['paths'].get('chainpath')\n",
    "\n",
    "configassets = configchain['assets']\n",
    "etflist = list(configassets.get('etf').split(','))\n",
    "chipslist = list(configassets.get('chip').split(','))\n",
    "assetlist = etflist + chipslist"
   ]
  },
  {
   "cell_type": "markdown",
   "metadata": {},
   "source": [
    "## Gamma Exposure (GEX)"
   ]
  },
  {
   "cell_type": "markdown",
   "metadata": {},
   "source": [
    "### OHLC of all stocks"
   ]
  },
  {
   "cell_type": "code",
   "execution_count": 3,
   "metadata": {},
   "outputs": [
    {
     "name": "stdout",
     "output_type": "stream",
     "text": [
      "[*********************100%***********************]  24 of 24 completed\n"
     ]
    },
    {
     "name": "stderr",
     "output_type": "stream",
     "text": [
      "d:\\Anaconda\\lib\\site-packages\\IPython\\core\\interactiveshell.py:2923: PerformanceWarning: indexing past lexsort depth may impact performance.\n",
      "  return runner(coro)\n",
      "d:\\Anaconda\\lib\\site-packages\\IPython\\core\\interactiveshell.py:2923: PerformanceWarning: indexing past lexsort depth may impact performance.\n",
      "  return runner(coro)\n",
      "d:\\Anaconda\\lib\\site-packages\\IPython\\core\\interactiveshell.py:2923: PerformanceWarning: indexing past lexsort depth may impact performance.\n",
      "  return runner(coro)\n",
      "d:\\Anaconda\\lib\\site-packages\\IPython\\core\\interactiveshell.py:2923: PerformanceWarning: indexing past lexsort depth may impact performance.\n",
      "  return runner(coro)\n",
      "d:\\Anaconda\\lib\\site-packages\\IPython\\core\\interactiveshell.py:2923: PerformanceWarning: indexing past lexsort depth may impact performance.\n",
      "  return runner(coro)\n",
      "d:\\Anaconda\\lib\\site-packages\\IPython\\core\\interactiveshell.py:2923: PerformanceWarning: indexing past lexsort depth may impact performance.\n",
      "  return runner(coro)\n",
      "d:\\Anaconda\\lib\\site-packages\\IPython\\core\\interactiveshell.py:2923: PerformanceWarning: indexing past lexsort depth may impact performance.\n",
      "  return runner(coro)\n",
      "d:\\Anaconda\\lib\\site-packages\\IPython\\core\\interactiveshell.py:2923: PerformanceWarning: indexing past lexsort depth may impact performance.\n",
      "  return runner(coro)\n",
      "d:\\Anaconda\\lib\\site-packages\\IPython\\core\\interactiveshell.py:2923: PerformanceWarning: indexing past lexsort depth may impact performance.\n",
      "  return runner(coro)\n",
      "d:\\Anaconda\\lib\\site-packages\\IPython\\core\\interactiveshell.py:2923: PerformanceWarning: indexing past lexsort depth may impact performance.\n",
      "  return runner(coro)\n",
      "d:\\Anaconda\\lib\\site-packages\\IPython\\core\\interactiveshell.py:2923: PerformanceWarning: indexing past lexsort depth may impact performance.\n",
      "  return runner(coro)\n",
      "d:\\Anaconda\\lib\\site-packages\\IPython\\core\\interactiveshell.py:2923: PerformanceWarning: indexing past lexsort depth may impact performance.\n",
      "  return runner(coro)\n",
      "d:\\Anaconda\\lib\\site-packages\\IPython\\core\\interactiveshell.py:2923: PerformanceWarning: indexing past lexsort depth may impact performance.\n",
      "  return runner(coro)\n",
      "d:\\Anaconda\\lib\\site-packages\\IPython\\core\\interactiveshell.py:2923: PerformanceWarning: indexing past lexsort depth may impact performance.\n",
      "  return runner(coro)\n",
      "d:\\Anaconda\\lib\\site-packages\\IPython\\core\\interactiveshell.py:2923: PerformanceWarning: indexing past lexsort depth may impact performance.\n",
      "  return runner(coro)\n",
      "d:\\Anaconda\\lib\\site-packages\\IPython\\core\\interactiveshell.py:2923: PerformanceWarning: indexing past lexsort depth may impact performance.\n",
      "  return runner(coro)\n",
      "d:\\Anaconda\\lib\\site-packages\\IPython\\core\\interactiveshell.py:2923: PerformanceWarning: indexing past lexsort depth may impact performance.\n",
      "  return runner(coro)\n",
      "d:\\Anaconda\\lib\\site-packages\\IPython\\core\\interactiveshell.py:2923: PerformanceWarning: indexing past lexsort depth may impact performance.\n",
      "  return runner(coro)\n",
      "d:\\Anaconda\\lib\\site-packages\\IPython\\core\\interactiveshell.py:2923: PerformanceWarning: indexing past lexsort depth may impact performance.\n",
      "  return runner(coro)\n",
      "d:\\Anaconda\\lib\\site-packages\\IPython\\core\\interactiveshell.py:2923: PerformanceWarning: indexing past lexsort depth may impact performance.\n",
      "  return runner(coro)\n",
      "d:\\Anaconda\\lib\\site-packages\\IPython\\core\\interactiveshell.py:2923: PerformanceWarning: indexing past lexsort depth may impact performance.\n",
      "  return runner(coro)\n",
      "d:\\Anaconda\\lib\\site-packages\\IPython\\core\\interactiveshell.py:2923: PerformanceWarning: indexing past lexsort depth may impact performance.\n",
      "  return runner(coro)\n",
      "d:\\Anaconda\\lib\\site-packages\\IPython\\core\\interactiveshell.py:2923: PerformanceWarning: indexing past lexsort depth may impact performance.\n",
      "  return runner(coro)\n",
      "d:\\Anaconda\\lib\\site-packages\\IPython\\core\\interactiveshell.py:2923: PerformanceWarning: indexing past lexsort depth may impact performance.\n",
      "  return runner(coro)\n"
     ]
    }
   ],
   "source": [
    "dfohlcall = getyahoodata(assetlist)"
   ]
  },
  {
   "cell_type": "markdown",
   "metadata": {},
   "source": [
    "### Option chain with closing price >= 0.05 with greeks"
   ]
  },
  {
   "cell_type": "code",
   "execution_count": 4,
   "metadata": {},
   "outputs": [],
   "source": [
    "def loadopchain(daystr='2022-10-03', expiry='2022-10-14', asset='NVDA', bounds=(0, 1000), opbound=0.05):\n",
    "    \"\"\"Obtain all options of the same expiry with closing price > 0.01 with greeks.\"\"\"\n",
    "    # inputdict for `.loadopdata()` method and query\n",
    "    inputdict = {'asset': asset,  'optype': ('C', 'P'), \n",
    "                 'strike_lowerbound': bounds[0], 'strike_upperbound': bounds[1],  \n",
    "                 'startexpiry': expiry,  'endexpiry': expiry,  'starttd': daystr,  'endtd': daystr}\n",
    "    dfop = Opchain.loadopdata(inputdict)\n",
    "    # Filter strike price with BOTH call & put price over 1.00\n",
    "    dfcall = dfop[(dfop['optype'] == 'C') & (dfop['mid'] >= opbound)]\n",
    "    dfput = dfop[(dfop['optype'] == 'P') & (dfop['mid'] >= opbound)]\n",
    "    strikeset = set(dfcall['strike']).intersection(set(dfput['strike']))\n",
    "    dfop = dfop[dfop['strike'].isin(strikeset)]\n",
    "    # Underlying close price\n",
    "    spotprice = dfohlcall.loc[daystr, f'{asset}_cl']\n",
    "    dfop[f'{asset}_cl'] = spotprice\n",
    "    # Dummy column of `BSmodel()` object\n",
    "    tdays = (datetime.strptime(expiry, '%Y-%m-%d') - datetime.strptime(daystr, '%Y-%m-%d')).days\n",
    "    dfop['BS'] = dfop.apply(lambda row: BSModel(spotprice, row['strike'], tdays, row['iv'] / 100), axis=1)\n",
    "    # split option dataframe into call & put and compute delta and theta separately\n",
    "    dfcall = dfop[dfop['optype'] == 'C']\n",
    "    dfput = dfop[dfop['optype'] == 'P']\n",
    "    dfcall['delta'] = dfcall['BS'].apply(lambda x: x.cdelta)\n",
    "    dfcall['theta'] = dfcall['BS'].apply(lambda x: x.ctheta)\n",
    "    dfput['delta'] = dfput['BS'].apply(lambda x: x.pdelta)\n",
    "    dfput['theta'] = dfput['BS'].apply(lambda x: x.ptheta)\n",
    "    dfop = pd.concat([dfcall, dfput], axis=0)\n",
    "    # Compute vega & gamma columns (irrelevant of call/put)\n",
    "    dfop['vega'] = dfop['BS'].apply(lambda x: x.vega)\n",
    "    dfop['gamma'] = dfop['BS'].apply(lambda x: x.gamma)\n",
    "    # Drop dummy column\n",
    "    dfop.drop('BS', axis=1, inplace=True)\n",
    "    \n",
    "    return dfop"
   ]
  },
  {
   "cell_type": "code",
   "execution_count": 5,
   "metadata": {},
   "outputs": [
    {
     "name": "stderr",
     "output_type": "stream",
     "text": [
      "..\\bsoption\\bsmodel.py:37: RuntimeWarning: divide by zero encountered in double_scalars\n",
      "  d_1 = (np.log(self.S / self.K) + self.T * (self.rf + 0.5 * (self.sig ** 2))) / (self.sig * (self.T ** 0.5))\n",
      "..\\bsoption\\bsmodel.py:33: RuntimeWarning: invalid value encountered in double_scalars\n",
      "  self.gamma = round(norm.pdf(self.d_1) / (self.S * self.sig * (self.T ** 0.5)), 9)\n",
      "..\\bsoption\\nyopchain.py:135: SettingWithCopyWarning: \n",
      "A value is trying to be set on a copy of a slice from a DataFrame.\n",
      "Try using .loc[row_indexer,col_indexer] = value instead\n",
      "\n",
      "See the caveats in the documentation: https://pandas.pydata.org/pandas-docs/stable/user_guide/indexing.html#returning-a-view-versus-a-copy\n",
      "  dfcall['delta'] = dfcall['BS'].apply(lambda x: x.cdelta)\n",
      "..\\bsoption\\nyopchain.py:136: SettingWithCopyWarning: \n",
      "A value is trying to be set on a copy of a slice from a DataFrame.\n",
      "Try using .loc[row_indexer,col_indexer] = value instead\n",
      "\n",
      "See the caveats in the documentation: https://pandas.pydata.org/pandas-docs/stable/user_guide/indexing.html#returning-a-view-versus-a-copy\n",
      "  dfcall['theta'] = dfcall['BS'].apply(lambda x: x.ctheta)\n",
      "..\\bsoption\\nyopchain.py:137: SettingWithCopyWarning: \n",
      "A value is trying to be set on a copy of a slice from a DataFrame.\n",
      "Try using .loc[row_indexer,col_indexer] = value instead\n",
      "\n",
      "See the caveats in the documentation: https://pandas.pydata.org/pandas-docs/stable/user_guide/indexing.html#returning-a-view-versus-a-copy\n",
      "  dfput['delta'] = dfput['BS'].apply(lambda x: x.pdelta)\n",
      "..\\bsoption\\nyopchain.py:138: SettingWithCopyWarning: \n",
      "A value is trying to be set on a copy of a slice from a DataFrame.\n",
      "Try using .loc[row_indexer,col_indexer] = value instead\n",
      "\n",
      "See the caveats in the documentation: https://pandas.pydata.org/pandas-docs/stable/user_guide/indexing.html#returning-a-view-versus-a-copy\n",
      "  dfput['theta'] = dfput['BS'].apply(lambda x: x.ptheta)\n",
      "..\\bsoption\\nyopchain.py:141: SettingWithCopyWarning: \n",
      "A value is trying to be set on a copy of a slice from a DataFrame.\n",
      "Try using .loc[row_indexer,col_indexer] = value instead\n",
      "\n",
      "See the caveats in the documentation: https://pandas.pydata.org/pandas-docs/stable/user_guide/indexing.html#returning-a-view-versus-a-copy\n",
      "  df['vega'] = df['BS'].apply(lambda x: x.vega)\n",
      "..\\bsoption\\nyopchain.py:142: SettingWithCopyWarning: \n",
      "A value is trying to be set on a copy of a slice from a DataFrame.\n",
      "Try using .loc[row_indexer,col_indexer] = value instead\n",
      "\n",
      "See the caveats in the documentation: https://pandas.pydata.org/pandas-docs/stable/user_guide/indexing.html#returning-a-view-versus-a-copy\n",
      "  df['gamma'] = df['BS'].apply(lambda x: x.gamma)\n",
      "d:\\Anaconda\\lib\\site-packages\\pandas\\core\\frame.py:4163: SettingWithCopyWarning: \n",
      "A value is trying to be set on a copy of a slice from a DataFrame\n",
      "\n",
      "See the caveats in the documentation: https://pandas.pydata.org/pandas-docs/stable/user_guide/indexing.html#returning-a-view-versus-a-copy\n",
      "  return super().drop(\n",
      "d:\\Anaconda\\lib\\site-packages\\pandas\\core\\frame.py:4296: SettingWithCopyWarning: \n",
      "A value is trying to be set on a copy of a slice from a DataFrame\n",
      "\n",
      "See the caveats in the documentation: https://pandas.pydata.org/pandas-docs/stable/user_guide/indexing.html#returning-a-view-versus-a-copy\n",
      "  return super().rename(\n"
     ]
    },
    {
     "data": {
      "text/html": [
       "<div>\n",
       "<style scoped>\n",
       "    .dataframe tbody tr th:only-of-type {\n",
       "        vertical-align: middle;\n",
       "    }\n",
       "\n",
       "    .dataframe tbody tr th {\n",
       "        vertical-align: top;\n",
       "    }\n",
       "\n",
       "    .dataframe thead th {\n",
       "        text-align: right;\n",
       "    }\n",
       "</style>\n",
       "<table border=\"1\" class=\"dataframe\">\n",
       "  <thead>\n",
       "    <tr style=\"text-align: right;\">\n",
       "      <th></th>\n",
       "      <th>c_iv</th>\n",
       "      <th>c_vol</th>\n",
       "      <th>c_oi</th>\n",
       "      <th>c_mid</th>\n",
       "      <th>c_delta</th>\n",
       "      <th>c_theta</th>\n",
       "      <th>c_vega</th>\n",
       "      <th>c_gamma</th>\n",
       "      <th>p_iv</th>\n",
       "      <th>p_vol</th>\n",
       "      <th>p_oi</th>\n",
       "      <th>p_mid</th>\n",
       "      <th>p_delta</th>\n",
       "      <th>p_theta</th>\n",
       "      <th>p_vega</th>\n",
       "      <th>p_gamma</th>\n",
       "    </tr>\n",
       "    <tr>\n",
       "      <th>strike</th>\n",
       "      <th></th>\n",
       "      <th></th>\n",
       "      <th></th>\n",
       "      <th></th>\n",
       "      <th></th>\n",
       "      <th></th>\n",
       "      <th></th>\n",
       "      <th></th>\n",
       "      <th></th>\n",
       "      <th></th>\n",
       "      <th></th>\n",
       "      <th></th>\n",
       "      <th></th>\n",
       "      <th></th>\n",
       "      <th></th>\n",
       "      <th></th>\n",
       "    </tr>\n",
       "  </thead>\n",
       "  <tbody>\n",
       "    <tr>\n",
       "      <th>28.75</th>\n",
       "      <td>333.20</td>\n",
       "      <td>3.0</td>\n",
       "      <td>44</td>\n",
       "      <td>134.125</td>\n",
       "      <td>0.994873</td>\n",
       "      <td>-0.045735</td>\n",
       "      <td>0.005765</td>\n",
       "      <td>0.000114</td>\n",
       "      <td>275.78</td>\n",
       "      <td>1.0</td>\n",
       "      <td>525</td>\n",
       "      <td>0.060</td>\n",
       "      <td>-0.001591</td>\n",
       "      <td>-0.013181</td>\n",
       "      <td>0.002007</td>\n",
       "      <td>0.000048</td>\n",
       "    </tr>\n",
       "    <tr>\n",
       "      <th>31.25</th>\n",
       "      <td>338.67</td>\n",
       "      <td>4.0</td>\n",
       "      <td>15</td>\n",
       "      <td>131.775</td>\n",
       "      <td>0.992576</td>\n",
       "      <td>-0.064527</td>\n",
       "      <td>0.008002</td>\n",
       "      <td>0.000155</td>\n",
       "      <td>262.50</td>\n",
       "      <td>10.0</td>\n",
       "      <td>907</td>\n",
       "      <td>0.060</td>\n",
       "      <td>-0.001675</td>\n",
       "      <td>-0.013146</td>\n",
       "      <td>0.002103</td>\n",
       "      <td>0.000053</td>\n",
       "    </tr>\n",
       "    <tr>\n",
       "      <th>47.50</th>\n",
       "      <td>254.88</td>\n",
       "      <td>5.0</td>\n",
       "      <td>411</td>\n",
       "      <td>115.525</td>\n",
       "      <td>0.989776</td>\n",
       "      <td>-0.064295</td>\n",
       "      <td>0.010595</td>\n",
       "      <td>0.000273</td>\n",
       "      <td>202.34</td>\n",
       "      <td>1.0</td>\n",
       "      <td>200</td>\n",
       "      <td>0.075</td>\n",
       "      <td>-0.002739</td>\n",
       "      <td>-0.015830</td>\n",
       "      <td>0.003286</td>\n",
       "      <td>0.000107</td>\n",
       "    </tr>\n",
       "    <tr>\n",
       "      <th>107.50</th>\n",
       "      <td>94.53</td>\n",
       "      <td>22.0</td>\n",
       "      <td>222</td>\n",
       "      <td>55.500</td>\n",
       "      <td>0.973630</td>\n",
       "      <td>-0.053631</td>\n",
       "      <td>0.023828</td>\n",
       "      <td>0.001658</td>\n",
       "      <td>69.92</td>\n",
       "      <td>10.0</td>\n",
       "      <td>1325</td>\n",
       "      <td>0.050</td>\n",
       "      <td>-0.005395</td>\n",
       "      <td>-0.010043</td>\n",
       "      <td>0.006033</td>\n",
       "      <td>0.000568</td>\n",
       "    </tr>\n",
       "    <tr>\n",
       "      <th>110.00</th>\n",
       "      <td>110.64</td>\n",
       "      <td>22.0</td>\n",
       "      <td>362</td>\n",
       "      <td>52.575</td>\n",
       "      <td>0.945665</td>\n",
       "      <td>-0.113164</td>\n",
       "      <td>0.042958</td>\n",
       "      <td>0.002554</td>\n",
       "      <td>67.97</td>\n",
       "      <td>294.0</td>\n",
       "      <td>6150</td>\n",
       "      <td>0.060</td>\n",
       "      <td>-0.006628</td>\n",
       "      <td>-0.011717</td>\n",
       "      <td>0.007240</td>\n",
       "      <td>0.000701</td>\n",
       "    </tr>\n",
       "    <tr>\n",
       "      <th>112.50</th>\n",
       "      <td>62.89</td>\n",
       "      <td>7.0</td>\n",
       "      <td>408</td>\n",
       "      <td>50.150</td>\n",
       "      <td>0.994052</td>\n",
       "      <td>-0.009850</td>\n",
       "      <td>0.006578</td>\n",
       "      <td>0.000688</td>\n",
       "      <td>66.80</td>\n",
       "      <td>35.0</td>\n",
       "      <td>4387</td>\n",
       "      <td>0.080</td>\n",
       "      <td>-0.008725</td>\n",
       "      <td>-0.014668</td>\n",
       "      <td>0.009223</td>\n",
       "      <td>0.000908</td>\n",
       "    </tr>\n",
       "    <tr>\n",
       "      <th>115.00</th>\n",
       "      <td>86.28</td>\n",
       "      <td>18.0</td>\n",
       "      <td>135</td>\n",
       "      <td>48.150</td>\n",
       "      <td>0.962105</td>\n",
       "      <td>-0.066050</td>\n",
       "      <td>0.032152</td>\n",
       "      <td>0.002451</td>\n",
       "      <td>65.23</td>\n",
       "      <td>12.0</td>\n",
       "      <td>1265</td>\n",
       "      <td>0.100</td>\n",
       "      <td>-0.011010</td>\n",
       "      <td>-0.017551</td>\n",
       "      <td>0.011300</td>\n",
       "      <td>0.001140</td>\n",
       "    </tr>\n",
       "    <tr>\n",
       "      <th>117.50</th>\n",
       "      <td>71.88</td>\n",
       "      <td>2.0</td>\n",
       "      <td>421</td>\n",
       "      <td>45.375</td>\n",
       "      <td>0.975503</td>\n",
       "      <td>-0.038340</td>\n",
       "      <td>0.022403</td>\n",
       "      <td>0.002050</td>\n",
       "      <td>63.87</td>\n",
       "      <td>45.0</td>\n",
       "      <td>1005</td>\n",
       "      <td>0.130</td>\n",
       "      <td>-0.014078</td>\n",
       "      <td>-0.021261</td>\n",
       "      <td>0.013981</td>\n",
       "      <td>0.001440</td>\n",
       "    </tr>\n",
       "    <tr>\n",
       "      <th>120.00</th>\n",
       "      <td>59.86</td>\n",
       "      <td>18.0</td>\n",
       "      <td>456</td>\n",
       "      <td>42.725</td>\n",
       "      <td>0.985577</td>\n",
       "      <td>-0.020346</td>\n",
       "      <td>0.014275</td>\n",
       "      <td>0.001569</td>\n",
       "      <td>62.79</td>\n",
       "      <td>317.0</td>\n",
       "      <td>6089</td>\n",
       "      <td>0.170</td>\n",
       "      <td>-0.018288</td>\n",
       "      <td>-0.026155</td>\n",
       "      <td>0.017495</td>\n",
       "      <td>0.001833</td>\n",
       "    </tr>\n",
       "    <tr>\n",
       "      <th>122.50</th>\n",
       "      <td>74.32</td>\n",
       "      <td>24.0</td>\n",
       "      <td>672</td>\n",
       "      <td>40.700</td>\n",
       "      <td>0.953131</td>\n",
       "      <td>-0.067571</td>\n",
       "      <td>0.038186</td>\n",
       "      <td>0.003380</td>\n",
       "      <td>61.62</td>\n",
       "      <td>126.0</td>\n",
       "      <td>1673</td>\n",
       "      <td>0.220</td>\n",
       "      <td>-0.023415</td>\n",
       "      <td>-0.031644</td>\n",
       "      <td>0.021568</td>\n",
       "      <td>0.002302</td>\n",
       "    </tr>\n",
       "    <tr>\n",
       "      <th>125.00</th>\n",
       "      <td>59.08</td>\n",
       "      <td>26.0</td>\n",
       "      <td>1575</td>\n",
       "      <td>37.850</td>\n",
       "      <td>0.972854</td>\n",
       "      <td>-0.034340</td>\n",
       "      <td>0.024413</td>\n",
       "      <td>0.002718</td>\n",
       "      <td>61.04</td>\n",
       "      <td>418.0</td>\n",
       "      <td>4947</td>\n",
       "      <td>0.300</td>\n",
       "      <td>-0.030928</td>\n",
       "      <td>-0.039541</td>\n",
       "      <td>0.027207</td>\n",
       "      <td>0.002932</td>\n",
       "    </tr>\n",
       "    <tr>\n",
       "      <th>130.00</th>\n",
       "      <td>63.60</td>\n",
       "      <td>39.0</td>\n",
       "      <td>754</td>\n",
       "      <td>33.300</td>\n",
       "      <td>0.938353</td>\n",
       "      <td>-0.071838</td>\n",
       "      <td>0.047440</td>\n",
       "      <td>0.004907</td>\n",
       "      <td>59.67</td>\n",
       "      <td>1635.0</td>\n",
       "      <td>6342</td>\n",
       "      <td>0.525</td>\n",
       "      <td>-0.051250</td>\n",
       "      <td>-0.058265</td>\n",
       "      <td>0.041011</td>\n",
       "      <td>0.004521</td>\n",
       "    </tr>\n",
       "    <tr>\n",
       "      <th>135.00</th>\n",
       "      <td>59.84</td>\n",
       "      <td>25.0</td>\n",
       "      <td>700</td>\n",
       "      <td>28.575</td>\n",
       "      <td>0.913981</td>\n",
       "      <td>-0.087218</td>\n",
       "      <td>0.061216</td>\n",
       "      <td>0.006729</td>\n",
       "      <td>58.50</td>\n",
       "      <td>534.0</td>\n",
       "      <td>9207</td>\n",
       "      <td>0.895</td>\n",
       "      <td>-0.081702</td>\n",
       "      <td>-0.082030</td>\n",
       "      <td>0.058894</td>\n",
       "      <td>0.006622</td>\n",
       "    </tr>\n",
       "    <tr>\n",
       "      <th>140.00</th>\n",
       "      <td>61.77</td>\n",
       "      <td>41.0</td>\n",
       "      <td>867</td>\n",
       "      <td>24.425</td>\n",
       "      <td>0.860399</td>\n",
       "      <td>-0.127385</td>\n",
       "      <td>0.086615</td>\n",
       "      <td>0.009224</td>\n",
       "      <td>57.32</td>\n",
       "      <td>4115.0</td>\n",
       "      <td>15398</td>\n",
       "      <td>1.455</td>\n",
       "      <td>-0.124038</td>\n",
       "      <td>-0.108949</td>\n",
       "      <td>0.079830</td>\n",
       "      <td>0.009161</td>\n",
       "    </tr>\n",
       "    <tr>\n",
       "      <th>145.00</th>\n",
       "      <td>54.47</td>\n",
       "      <td>148.0</td>\n",
       "      <td>856</td>\n",
       "      <td>19.700</td>\n",
       "      <td>0.826359</td>\n",
       "      <td>-0.129704</td>\n",
       "      <td>0.100010</td>\n",
       "      <td>0.012078</td>\n",
       "      <td>56.16</td>\n",
       "      <td>2131.0</td>\n",
       "      <td>7042</td>\n",
       "      <td>2.270</td>\n",
       "      <td>-0.179943</td>\n",
       "      <td>-0.136776</td>\n",
       "      <td>0.102290</td>\n",
       "      <td>0.011981</td>\n",
       "    </tr>\n",
       "    <tr>\n",
       "      <th>150.00</th>\n",
       "      <td>55.95</td>\n",
       "      <td>214.0</td>\n",
       "      <td>3466</td>\n",
       "      <td>16.125</td>\n",
       "      <td>0.747263</td>\n",
       "      <td>-0.166007</td>\n",
       "      <td>0.124617</td>\n",
       "      <td>0.014651</td>\n",
       "      <td>54.94</td>\n",
       "      <td>6643.0</td>\n",
       "      <td>17923</td>\n",
       "      <td>3.400</td>\n",
       "      <td>-0.249616</td>\n",
       "      <td>-0.161943</td>\n",
       "      <td>0.123801</td>\n",
       "      <td>0.014823</td>\n",
       "    </tr>\n",
       "    <tr>\n",
       "      <th>155.00</th>\n",
       "      <td>54.86</td>\n",
       "      <td>131.0</td>\n",
       "      <td>2521</td>\n",
       "      <td>12.675</td>\n",
       "      <td>0.665422</td>\n",
       "      <td>-0.185448</td>\n",
       "      <td>0.141976</td>\n",
       "      <td>0.017024</td>\n",
       "      <td>53.63</td>\n",
       "      <td>1853.0</td>\n",
       "      <td>6946</td>\n",
       "      <td>4.900</td>\n",
       "      <td>-0.332100</td>\n",
       "      <td>-0.180759</td>\n",
       "      <td>0.141560</td>\n",
       "      <td>0.017363</td>\n",
       "    </tr>\n",
       "    <tr>\n",
       "      <th>157.50</th>\n",
       "      <td>53.91</td>\n",
       "      <td>258.0</td>\n",
       "      <td>315</td>\n",
       "      <td>11.050</td>\n",
       "      <td>0.621264</td>\n",
       "      <td>-0.190361</td>\n",
       "      <td>0.148306</td>\n",
       "      <td>0.018096</td>\n",
       "      <td>53.24</td>\n",
       "      <td>884.0</td>\n",
       "      <td>553</td>\n",
       "      <td>5.850</td>\n",
       "      <td>-0.377873</td>\n",
       "      <td>-0.187863</td>\n",
       "      <td>0.148201</td>\n",
       "      <td>0.018311</td>\n",
       "    </tr>\n",
       "    <tr>\n",
       "      <th>160.00</th>\n",
       "      <td>53.38</td>\n",
       "      <td>382.0</td>\n",
       "      <td>10004</td>\n",
       "      <td>9.600</td>\n",
       "      <td>0.574402</td>\n",
       "      <td>-0.194246</td>\n",
       "      <td>0.152835</td>\n",
       "      <td>0.018834</td>\n",
       "      <td>52.41</td>\n",
       "      <td>5331.0</td>\n",
       "      <td>19356</td>\n",
       "      <td>6.850</td>\n",
       "      <td>-0.425157</td>\n",
       "      <td>-0.190676</td>\n",
       "      <td>0.152803</td>\n",
       "      <td>0.019178</td>\n",
       "    </tr>\n",
       "    <tr>\n",
       "      <th>162.50</th>\n",
       "      <td>52.75</td>\n",
       "      <td>391.0</td>\n",
       "      <td>237</td>\n",
       "      <td>8.250</td>\n",
       "      <td>0.526223</td>\n",
       "      <td>-0.194939</td>\n",
       "      <td>0.155212</td>\n",
       "      <td>0.019355</td>\n",
       "      <td>51.78</td>\n",
       "      <td>650.0</td>\n",
       "      <td>569</td>\n",
       "      <td>8.000</td>\n",
       "      <td>-0.474222</td>\n",
       "      <td>-0.191368</td>\n",
       "      <td>0.155223</td>\n",
       "      <td>0.019719</td>\n",
       "    </tr>\n",
       "    <tr>\n",
       "      <th>165.00</th>\n",
       "      <td>51.99</td>\n",
       "      <td>2415.0</td>\n",
       "      <td>9247</td>\n",
       "      <td>7.000</td>\n",
       "      <td>0.477063</td>\n",
       "      <td>-0.192228</td>\n",
       "      <td>0.155291</td>\n",
       "      <td>0.019648</td>\n",
       "      <td>51.36</td>\n",
       "      <td>3723.0</td>\n",
       "      <td>11458</td>\n",
       "      <td>9.300</td>\n",
       "      <td>-0.523823</td>\n",
       "      <td>-0.189874</td>\n",
       "      <td>0.155271</td>\n",
       "      <td>0.019886</td>\n",
       "    </tr>\n",
       "    <tr>\n",
       "      <th>167.50</th>\n",
       "      <td>51.59</td>\n",
       "      <td>724.0</td>\n",
       "      <td>200</td>\n",
       "      <td>5.925</td>\n",
       "      <td>0.428397</td>\n",
       "      <td>-0.187979</td>\n",
       "      <td>0.153036</td>\n",
       "      <td>0.019513</td>\n",
       "      <td>50.77</td>\n",
       "      <td>3023.0</td>\n",
       "      <td>1990</td>\n",
       "      <td>10.700</td>\n",
       "      <td>-0.573525</td>\n",
       "      <td>-0.184826</td>\n",
       "      <td>0.152899</td>\n",
       "      <td>0.019810</td>\n",
       "    </tr>\n",
       "    <tr>\n",
       "      <th>170.00</th>\n",
       "      <td>51.06</td>\n",
       "      <td>3560.0</td>\n",
       "      <td>6368</td>\n",
       "      <td>4.950</td>\n",
       "      <td>0.380345</td>\n",
       "      <td>-0.180531</td>\n",
       "      <td>0.148498</td>\n",
       "      <td>0.019131</td>\n",
       "      <td>50.05</td>\n",
       "      <td>5341.0</td>\n",
       "      <td>9307</td>\n",
       "      <td>12.200</td>\n",
       "      <td>-0.622923</td>\n",
       "      <td>-0.176491</td>\n",
       "      <td>0.148105</td>\n",
       "      <td>0.019465</td>\n",
       "    </tr>\n",
       "    <tr>\n",
       "      <th>172.50</th>\n",
       "      <td>50.43</td>\n",
       "      <td>1604.0</td>\n",
       "      <td>2912</td>\n",
       "      <td>4.075</td>\n",
       "      <td>0.333384</td>\n",
       "      <td>-0.170233</td>\n",
       "      <td>0.141777</td>\n",
       "      <td>0.018493</td>\n",
       "      <td>49.90</td>\n",
       "      <td>1352.0</td>\n",
       "      <td>2477</td>\n",
       "      <td>13.850</td>\n",
       "      <td>-0.668741</td>\n",
       "      <td>-0.168017</td>\n",
       "      <td>0.141417</td>\n",
       "      <td>0.018642</td>\n",
       "    </tr>\n",
       "    <tr>\n",
       "      <th>175.00</th>\n",
       "      <td>50.09</td>\n",
       "      <td>3350.0</td>\n",
       "      <td>7915</td>\n",
       "      <td>3.350</td>\n",
       "      <td>0.289759</td>\n",
       "      <td>-0.159111</td>\n",
       "      <td>0.133413</td>\n",
       "      <td>0.017520</td>\n",
       "      <td>49.72</td>\n",
       "      <td>3226.0</td>\n",
       "      <td>9125</td>\n",
       "      <td>15.625</td>\n",
       "      <td>-0.711954</td>\n",
       "      <td>-0.157495</td>\n",
       "      <td>0.133041</td>\n",
       "      <td>0.017601</td>\n",
       "    </tr>\n",
       "    <tr>\n",
       "      <th>177.50</th>\n",
       "      <td>49.68</td>\n",
       "      <td>726.0</td>\n",
       "      <td>746</td>\n",
       "      <td>2.700</td>\n",
       "      <td>0.248669</td>\n",
       "      <td>-0.146143</td>\n",
       "      <td>0.123551</td>\n",
       "      <td>0.016359</td>\n",
       "      <td>49.13</td>\n",
       "      <td>2404.0</td>\n",
       "      <td>821</td>\n",
       "      <td>17.475</td>\n",
       "      <td>-0.754150</td>\n",
       "      <td>-0.143646</td>\n",
       "      <td>0.122800</td>\n",
       "      <td>0.016441</td>\n",
       "    </tr>\n",
       "    <tr>\n",
       "      <th>180.00</th>\n",
       "      <td>49.54</td>\n",
       "      <td>5166.0</td>\n",
       "      <td>9790</td>\n",
       "      <td>2.185</td>\n",
       "      <td>0.212250</td>\n",
       "      <td>-0.133374</td>\n",
       "      <td>0.113074</td>\n",
       "      <td>0.015014</td>\n",
       "      <td>49.00</td>\n",
       "      <td>1765.0</td>\n",
       "      <td>10767</td>\n",
       "      <td>19.475</td>\n",
       "      <td>-0.790668</td>\n",
       "      <td>-0.130853</td>\n",
       "      <td>0.112160</td>\n",
       "      <td>0.015057</td>\n",
       "    </tr>\n",
       "    <tr>\n",
       "      <th>182.50</th>\n",
       "      <td>49.27</td>\n",
       "      <td>756.0</td>\n",
       "      <td>413</td>\n",
       "      <td>1.750</td>\n",
       "      <td>0.178688</td>\n",
       "      <td>-0.119469</td>\n",
       "      <td>0.101840</td>\n",
       "      <td>0.013597</td>\n",
       "      <td>49.57</td>\n",
       "      <td>767.0</td>\n",
       "      <td>386</td>\n",
       "      <td>21.550</td>\n",
       "      <td>-0.819665</td>\n",
       "      <td>-0.120891</td>\n",
       "      <td>0.102429</td>\n",
       "      <td>0.013592</td>\n",
       "    </tr>\n",
       "    <tr>\n",
       "      <th>185.00</th>\n",
       "      <td>49.07</td>\n",
       "      <td>3317.0</td>\n",
       "      <td>12550</td>\n",
       "      <td>1.390</td>\n",
       "      <td>0.149122</td>\n",
       "      <td>-0.105797</td>\n",
       "      <td>0.090554</td>\n",
       "      <td>0.012139</td>\n",
       "      <td>49.54</td>\n",
       "      <td>644.0</td>\n",
       "      <td>12019</td>\n",
       "      <td>23.600</td>\n",
       "      <td>-0.848311</td>\n",
       "      <td>-0.108032</td>\n",
       "      <td>0.091589</td>\n",
       "      <td>0.012161</td>\n",
       "    </tr>\n",
       "    <tr>\n",
       "      <th>187.50</th>\n",
       "      <td>48.98</td>\n",
       "      <td>414.0</td>\n",
       "      <td>752</td>\n",
       "      <td>1.105</td>\n",
       "      <td>0.123721</td>\n",
       "      <td>-0.092930</td>\n",
       "      <td>0.079687</td>\n",
       "      <td>0.010702</td>\n",
       "      <td>54.57</td>\n",
       "      <td>76.0</td>\n",
       "      <td>192</td>\n",
       "      <td>25.975</td>\n",
       "      <td>-0.847410</td>\n",
       "      <td>-0.119469</td>\n",
       "      <td>0.091950</td>\n",
       "      <td>0.011084</td>\n",
       "    </tr>\n",
       "    <tr>\n",
       "      <th>190.00</th>\n",
       "      <td>49.12</td>\n",
       "      <td>2863.0</td>\n",
       "      <td>11197</td>\n",
       "      <td>0.880</td>\n",
       "      <td>0.102869</td>\n",
       "      <td>-0.081693</td>\n",
       "      <td>0.069851</td>\n",
       "      <td>0.009354</td>\n",
       "      <td>52.52</td>\n",
       "      <td>342.0</td>\n",
       "      <td>8458</td>\n",
       "      <td>28.125</td>\n",
       "      <td>-0.880116</td>\n",
       "      <td>-0.097466</td>\n",
       "      <td>0.077943</td>\n",
       "      <td>0.009762</td>\n",
       "    </tr>\n",
       "    <tr>\n",
       "      <th>192.50</th>\n",
       "      <td>49.12</td>\n",
       "      <td>369.0</td>\n",
       "      <td>502</td>\n",
       "      <td>0.700</td>\n",
       "      <td>0.084361</td>\n",
       "      <td>-0.070557</td>\n",
       "      <td>0.060330</td>\n",
       "      <td>0.008079</td>\n",
       "      <td>60.52</td>\n",
       "      <td>35.0</td>\n",
       "      <td>85</td>\n",
       "      <td>30.425</td>\n",
       "      <td>-0.862649</td>\n",
       "      <td>-0.123433</td>\n",
       "      <td>0.085661</td>\n",
       "      <td>0.009311</td>\n",
       "    </tr>\n",
       "    <tr>\n",
       "      <th>195.00</th>\n",
       "      <td>49.37</td>\n",
       "      <td>1347.0</td>\n",
       "      <td>5211</td>\n",
       "      <td>0.560</td>\n",
       "      <td>0.069742</td>\n",
       "      <td>-0.061363</td>\n",
       "      <td>0.052203</td>\n",
       "      <td>0.006955</td>\n",
       "      <td>50.85</td>\n",
       "      <td>251.0</td>\n",
       "      <td>2946</td>\n",
       "      <td>32.650</td>\n",
       "      <td>-0.923815</td>\n",
       "      <td>-0.067626</td>\n",
       "      <td>0.055856</td>\n",
       "      <td>0.007226</td>\n",
       "    </tr>\n",
       "    <tr>\n",
       "      <th>197.50</th>\n",
       "      <td>49.68</td>\n",
       "      <td>211.0</td>\n",
       "      <td>754</td>\n",
       "      <td>0.445</td>\n",
       "      <td>0.057668</td>\n",
       "      <td>-0.053256</td>\n",
       "      <td>0.045023</td>\n",
       "      <td>0.005961</td>\n",
       "      <td>50.59</td>\n",
       "      <td>54.0</td>\n",
       "      <td>124</td>\n",
       "      <td>35.175</td>\n",
       "      <td>-0.938726</td>\n",
       "      <td>-0.056872</td>\n",
       "      <td>0.047216</td>\n",
       "      <td>0.006139</td>\n",
       "    </tr>\n",
       "    <tr>\n",
       "      <th>200.00</th>\n",
       "      <td>50.00</td>\n",
       "      <td>5222.0</td>\n",
       "      <td>17191</td>\n",
       "      <td>0.360</td>\n",
       "      <td>0.047589</td>\n",
       "      <td>-0.046018</td>\n",
       "      <td>0.038655</td>\n",
       "      <td>0.005085</td>\n",
       "      <td>55.64</td>\n",
       "      <td>320.0</td>\n",
       "      <td>7335</td>\n",
       "      <td>38.025</td>\n",
       "      <td>-0.931454</td>\n",
       "      <td>-0.068241</td>\n",
       "      <td>0.051512</td>\n",
       "      <td>0.006090</td>\n",
       "    </tr>\n",
       "    <tr>\n",
       "      <th>202.50</th>\n",
       "      <td>50.10</td>\n",
       "      <td>126.0</td>\n",
       "      <td>864</td>\n",
       "      <td>0.290</td>\n",
       "      <td>0.038489</td>\n",
       "      <td>-0.038842</td>\n",
       "      <td>0.032562</td>\n",
       "      <td>0.004275</td>\n",
       "      <td>60.55</td>\n",
       "      <td>104.0</td>\n",
       "      <td>129</td>\n",
       "      <td>39.675</td>\n",
       "      <td>-0.925120</td>\n",
       "      <td>-0.079472</td>\n",
       "      <td>0.055125</td>\n",
       "      <td>0.005989</td>\n",
       "    </tr>\n",
       "    <tr>\n",
       "      <th>205.00</th>\n",
       "      <td>50.64</td>\n",
       "      <td>718.0</td>\n",
       "      <td>4572</td>\n",
       "      <td>0.240</td>\n",
       "      <td>0.032202</td>\n",
       "      <td>-0.033918</td>\n",
       "      <td>0.028131</td>\n",
       "      <td>0.003654</td>\n",
       "      <td>54.15</td>\n",
       "      <td>168.0</td>\n",
       "      <td>2508</td>\n",
       "      <td>41.975</td>\n",
       "      <td>-0.957406</td>\n",
       "      <td>-0.045582</td>\n",
       "      <td>0.035355</td>\n",
       "      <td>0.004295</td>\n",
       "    </tr>\n",
       "    <tr>\n",
       "      <th>210.00</th>\n",
       "      <td>51.47</td>\n",
       "      <td>4483.0</td>\n",
       "      <td>10223</td>\n",
       "      <td>0.160</td>\n",
       "      <td>0.022070</td>\n",
       "      <td>-0.025145</td>\n",
       "      <td>0.020519</td>\n",
       "      <td>0.002622</td>\n",
       "      <td>57.03</td>\n",
       "      <td>74.0</td>\n",
       "      <td>4407</td>\n",
       "      <td>47.075</td>\n",
       "      <td>-0.964372</td>\n",
       "      <td>-0.041510</td>\n",
       "      <td>0.030570</td>\n",
       "      <td>0.003526</td>\n",
       "    </tr>\n",
       "    <tr>\n",
       "      <th>215.00</th>\n",
       "      <td>52.93</td>\n",
       "      <td>729.0</td>\n",
       "      <td>6601</td>\n",
       "      <td>0.115</td>\n",
       "      <td>0.016213</td>\n",
       "      <td>-0.019892</td>\n",
       "      <td>0.015784</td>\n",
       "      <td>0.001962</td>\n",
       "      <td>78.22</td>\n",
       "      <td>111.0</td>\n",
       "      <td>2602</td>\n",
       "      <td>52.400</td>\n",
       "      <td>-0.918741</td>\n",
       "      <td>-0.109234</td>\n",
       "      <td>0.058653</td>\n",
       "      <td>0.004932</td>\n",
       "    </tr>\n",
       "    <tr>\n",
       "      <th>220.00</th>\n",
       "      <td>54.30</td>\n",
       "      <td>508.0</td>\n",
       "      <td>8820</td>\n",
       "      <td>0.085</td>\n",
       "      <td>0.011960</td>\n",
       "      <td>-0.015699</td>\n",
       "      <td>0.012143</td>\n",
       "      <td>0.001471</td>\n",
       "      <td>87.89</td>\n",
       "      <td>25.0</td>\n",
       "      <td>4012</td>\n",
       "      <td>57.025</td>\n",
       "      <td>-0.908261</td>\n",
       "      <td>-0.134392</td>\n",
       "      <td>0.064222</td>\n",
       "      <td>0.004807</td>\n",
       "    </tr>\n",
       "    <tr>\n",
       "      <th>225.00</th>\n",
       "      <td>55.47</td>\n",
       "      <td>131.0</td>\n",
       "      <td>6624</td>\n",
       "      <td>0.060</td>\n",
       "      <td>0.008729</td>\n",
       "      <td>-0.012186</td>\n",
       "      <td>0.009227</td>\n",
       "      <td>0.001094</td>\n",
       "      <td>90.99</td>\n",
       "      <td>18.0</td>\n",
       "      <td>4098</td>\n",
       "      <td>62.325</td>\n",
       "      <td>-0.916278</td>\n",
       "      <td>-0.129956</td>\n",
       "      <td>0.059986</td>\n",
       "      <td>0.004337</td>\n",
       "    </tr>\n",
       "    <tr>\n",
       "      <th>230.00</th>\n",
       "      <td>58.01</td>\n",
       "      <td>113.0</td>\n",
       "      <td>7835</td>\n",
       "      <td>0.055</td>\n",
       "      <td>0.007658</td>\n",
       "      <td>-0.011359</td>\n",
       "      <td>0.008224</td>\n",
       "      <td>0.000933</td>\n",
       "      <td>76.47</td>\n",
       "      <td>13.0</td>\n",
       "      <td>2518</td>\n",
       "      <td>67.800</td>\n",
       "      <td>-0.964112</td>\n",
       "      <td>-0.055992</td>\n",
       "      <td>0.030753</td>\n",
       "      <td>0.002645</td>\n",
       "    </tr>\n",
       "    <tr>\n",
       "      <th>420.00</th>\n",
       "      <td>139.84</td>\n",
       "      <td>10.0</td>\n",
       "      <td>1222</td>\n",
       "      <td>0.060</td>\n",
       "      <td>0.003880</td>\n",
       "      <td>-0.014967</td>\n",
       "      <td>0.004495</td>\n",
       "      <td>0.000211</td>\n",
       "      <td>0.00</td>\n",
       "      <td>1.0</td>\n",
       "      <td>94</td>\n",
       "      <td>207.675</td>\n",
       "      <td>-1.000000</td>\n",
       "      <td>0.000000</td>\n",
       "      <td>0.000000</td>\n",
       "      <td>NaN</td>\n",
       "    </tr>\n",
       "    <tr>\n",
       "      <th>440.00</th>\n",
       "      <td>145.70</td>\n",
       "      <td>192.0</td>\n",
       "      <td>712</td>\n",
       "      <td>0.060</td>\n",
       "      <td>0.003741</td>\n",
       "      <td>-0.015092</td>\n",
       "      <td>0.004350</td>\n",
       "      <td>0.000196</td>\n",
       "      <td>149.41</td>\n",
       "      <td>4.0</td>\n",
       "      <td>0</td>\n",
       "      <td>277.475</td>\n",
       "      <td>-0.995330</td>\n",
       "      <td>-0.018871</td>\n",
       "      <td>0.005305</td>\n",
       "      <td>0.000234</td>\n",
       "    </tr>\n",
       "    <tr>\n",
       "      <th>480.00</th>\n",
       "      <td>153.91</td>\n",
       "      <td>6.0</td>\n",
       "      <td>196</td>\n",
       "      <td>0.050</td>\n",
       "      <td>0.002994</td>\n",
       "      <td>-0.013049</td>\n",
       "      <td>0.003561</td>\n",
       "      <td>0.000152</td>\n",
       "      <td>0.00</td>\n",
       "      <td>2.0</td>\n",
       "      <td>0</td>\n",
       "      <td>312.850</td>\n",
       "      <td>-1.000000</td>\n",
       "      <td>0.000000</td>\n",
       "      <td>0.000000</td>\n",
       "      <td>NaN</td>\n",
       "    </tr>\n",
       "    <tr>\n",
       "      <th>490.00</th>\n",
       "      <td>157.81</td>\n",
       "      <td>40.0</td>\n",
       "      <td>203</td>\n",
       "      <td>0.055</td>\n",
       "      <td>0.003208</td>\n",
       "      <td>-0.014237</td>\n",
       "      <td>0.003789</td>\n",
       "      <td>0.000158</td>\n",
       "      <td>163.28</td>\n",
       "      <td>1.0</td>\n",
       "      <td>0</td>\n",
       "      <td>327.475</td>\n",
       "      <td>-0.995623</td>\n",
       "      <td>-0.019464</td>\n",
       "      <td>0.005007</td>\n",
       "      <td>0.000202</td>\n",
       "    </tr>\n",
       "  </tbody>\n",
       "</table>\n",
       "</div>"
      ],
      "text/plain": [
       "          c_iv   c_vol   c_oi    c_mid   c_delta   c_theta    c_vega  \\\n",
       "strike                                                                 \n",
       "28.75   333.20     3.0     44  134.125  0.994873 -0.045735  0.005765   \n",
       "31.25   338.67     4.0     15  131.775  0.992576 -0.064527  0.008002   \n",
       "47.50   254.88     5.0    411  115.525  0.989776 -0.064295  0.010595   \n",
       "107.50   94.53    22.0    222   55.500  0.973630 -0.053631  0.023828   \n",
       "110.00  110.64    22.0    362   52.575  0.945665 -0.113164  0.042958   \n",
       "112.50   62.89     7.0    408   50.150  0.994052 -0.009850  0.006578   \n",
       "115.00   86.28    18.0    135   48.150  0.962105 -0.066050  0.032152   \n",
       "117.50   71.88     2.0    421   45.375  0.975503 -0.038340  0.022403   \n",
       "120.00   59.86    18.0    456   42.725  0.985577 -0.020346  0.014275   \n",
       "122.50   74.32    24.0    672   40.700  0.953131 -0.067571  0.038186   \n",
       "125.00   59.08    26.0   1575   37.850  0.972854 -0.034340  0.024413   \n",
       "130.00   63.60    39.0    754   33.300  0.938353 -0.071838  0.047440   \n",
       "135.00   59.84    25.0    700   28.575  0.913981 -0.087218  0.061216   \n",
       "140.00   61.77    41.0    867   24.425  0.860399 -0.127385  0.086615   \n",
       "145.00   54.47   148.0    856   19.700  0.826359 -0.129704  0.100010   \n",
       "150.00   55.95   214.0   3466   16.125  0.747263 -0.166007  0.124617   \n",
       "155.00   54.86   131.0   2521   12.675  0.665422 -0.185448  0.141976   \n",
       "157.50   53.91   258.0    315   11.050  0.621264 -0.190361  0.148306   \n",
       "160.00   53.38   382.0  10004    9.600  0.574402 -0.194246  0.152835   \n",
       "162.50   52.75   391.0    237    8.250  0.526223 -0.194939  0.155212   \n",
       "165.00   51.99  2415.0   9247    7.000  0.477063 -0.192228  0.155291   \n",
       "167.50   51.59   724.0    200    5.925  0.428397 -0.187979  0.153036   \n",
       "170.00   51.06  3560.0   6368    4.950  0.380345 -0.180531  0.148498   \n",
       "172.50   50.43  1604.0   2912    4.075  0.333384 -0.170233  0.141777   \n",
       "175.00   50.09  3350.0   7915    3.350  0.289759 -0.159111  0.133413   \n",
       "177.50   49.68   726.0    746    2.700  0.248669 -0.146143  0.123551   \n",
       "180.00   49.54  5166.0   9790    2.185  0.212250 -0.133374  0.113074   \n",
       "182.50   49.27   756.0    413    1.750  0.178688 -0.119469  0.101840   \n",
       "185.00   49.07  3317.0  12550    1.390  0.149122 -0.105797  0.090554   \n",
       "187.50   48.98   414.0    752    1.105  0.123721 -0.092930  0.079687   \n",
       "190.00   49.12  2863.0  11197    0.880  0.102869 -0.081693  0.069851   \n",
       "192.50   49.12   369.0    502    0.700  0.084361 -0.070557  0.060330   \n",
       "195.00   49.37  1347.0   5211    0.560  0.069742 -0.061363  0.052203   \n",
       "197.50   49.68   211.0    754    0.445  0.057668 -0.053256  0.045023   \n",
       "200.00   50.00  5222.0  17191    0.360  0.047589 -0.046018  0.038655   \n",
       "202.50   50.10   126.0    864    0.290  0.038489 -0.038842  0.032562   \n",
       "205.00   50.64   718.0   4572    0.240  0.032202 -0.033918  0.028131   \n",
       "210.00   51.47  4483.0  10223    0.160  0.022070 -0.025145  0.020519   \n",
       "215.00   52.93   729.0   6601    0.115  0.016213 -0.019892  0.015784   \n",
       "220.00   54.30   508.0   8820    0.085  0.011960 -0.015699  0.012143   \n",
       "225.00   55.47   131.0   6624    0.060  0.008729 -0.012186  0.009227   \n",
       "230.00   58.01   113.0   7835    0.055  0.007658 -0.011359  0.008224   \n",
       "420.00  139.84    10.0   1222    0.060  0.003880 -0.014967  0.004495   \n",
       "440.00  145.70   192.0    712    0.060  0.003741 -0.015092  0.004350   \n",
       "480.00  153.91     6.0    196    0.050  0.002994 -0.013049  0.003561   \n",
       "490.00  157.81    40.0    203    0.055  0.003208 -0.014237  0.003789   \n",
       "\n",
       "         c_gamma    p_iv   p_vol   p_oi    p_mid   p_delta   p_theta  \\\n",
       "strike                                                                 \n",
       "28.75   0.000114  275.78     1.0    525    0.060 -0.001591 -0.013181   \n",
       "31.25   0.000155  262.50    10.0    907    0.060 -0.001675 -0.013146   \n",
       "47.50   0.000273  202.34     1.0    200    0.075 -0.002739 -0.015830   \n",
       "107.50  0.001658   69.92    10.0   1325    0.050 -0.005395 -0.010043   \n",
       "110.00  0.002554   67.97   294.0   6150    0.060 -0.006628 -0.011717   \n",
       "112.50  0.000688   66.80    35.0   4387    0.080 -0.008725 -0.014668   \n",
       "115.00  0.002451   65.23    12.0   1265    0.100 -0.011010 -0.017551   \n",
       "117.50  0.002050   63.87    45.0   1005    0.130 -0.014078 -0.021261   \n",
       "120.00  0.001569   62.79   317.0   6089    0.170 -0.018288 -0.026155   \n",
       "122.50  0.003380   61.62   126.0   1673    0.220 -0.023415 -0.031644   \n",
       "125.00  0.002718   61.04   418.0   4947    0.300 -0.030928 -0.039541   \n",
       "130.00  0.004907   59.67  1635.0   6342    0.525 -0.051250 -0.058265   \n",
       "135.00  0.006729   58.50   534.0   9207    0.895 -0.081702 -0.082030   \n",
       "140.00  0.009224   57.32  4115.0  15398    1.455 -0.124038 -0.108949   \n",
       "145.00  0.012078   56.16  2131.0   7042    2.270 -0.179943 -0.136776   \n",
       "150.00  0.014651   54.94  6643.0  17923    3.400 -0.249616 -0.161943   \n",
       "155.00  0.017024   53.63  1853.0   6946    4.900 -0.332100 -0.180759   \n",
       "157.50  0.018096   53.24   884.0    553    5.850 -0.377873 -0.187863   \n",
       "160.00  0.018834   52.41  5331.0  19356    6.850 -0.425157 -0.190676   \n",
       "162.50  0.019355   51.78   650.0    569    8.000 -0.474222 -0.191368   \n",
       "165.00  0.019648   51.36  3723.0  11458    9.300 -0.523823 -0.189874   \n",
       "167.50  0.019513   50.77  3023.0   1990   10.700 -0.573525 -0.184826   \n",
       "170.00  0.019131   50.05  5341.0   9307   12.200 -0.622923 -0.176491   \n",
       "172.50  0.018493   49.90  1352.0   2477   13.850 -0.668741 -0.168017   \n",
       "175.00  0.017520   49.72  3226.0   9125   15.625 -0.711954 -0.157495   \n",
       "177.50  0.016359   49.13  2404.0    821   17.475 -0.754150 -0.143646   \n",
       "180.00  0.015014   49.00  1765.0  10767   19.475 -0.790668 -0.130853   \n",
       "182.50  0.013597   49.57   767.0    386   21.550 -0.819665 -0.120891   \n",
       "185.00  0.012139   49.54   644.0  12019   23.600 -0.848311 -0.108032   \n",
       "187.50  0.010702   54.57    76.0    192   25.975 -0.847410 -0.119469   \n",
       "190.00  0.009354   52.52   342.0   8458   28.125 -0.880116 -0.097466   \n",
       "192.50  0.008079   60.52    35.0     85   30.425 -0.862649 -0.123433   \n",
       "195.00  0.006955   50.85   251.0   2946   32.650 -0.923815 -0.067626   \n",
       "197.50  0.005961   50.59    54.0    124   35.175 -0.938726 -0.056872   \n",
       "200.00  0.005085   55.64   320.0   7335   38.025 -0.931454 -0.068241   \n",
       "202.50  0.004275   60.55   104.0    129   39.675 -0.925120 -0.079472   \n",
       "205.00  0.003654   54.15   168.0   2508   41.975 -0.957406 -0.045582   \n",
       "210.00  0.002622   57.03    74.0   4407   47.075 -0.964372 -0.041510   \n",
       "215.00  0.001962   78.22   111.0   2602   52.400 -0.918741 -0.109234   \n",
       "220.00  0.001471   87.89    25.0   4012   57.025 -0.908261 -0.134392   \n",
       "225.00  0.001094   90.99    18.0   4098   62.325 -0.916278 -0.129956   \n",
       "230.00  0.000933   76.47    13.0   2518   67.800 -0.964112 -0.055992   \n",
       "420.00  0.000211    0.00     1.0     94  207.675 -1.000000  0.000000   \n",
       "440.00  0.000196  149.41     4.0      0  277.475 -0.995330 -0.018871   \n",
       "480.00  0.000152    0.00     2.0      0  312.850 -1.000000  0.000000   \n",
       "490.00  0.000158  163.28     1.0      0  327.475 -0.995623 -0.019464   \n",
       "\n",
       "          p_vega   p_gamma  \n",
       "strike                      \n",
       "28.75   0.002007  0.000048  \n",
       "31.25   0.002103  0.000053  \n",
       "47.50   0.003286  0.000107  \n",
       "107.50  0.006033  0.000568  \n",
       "110.00  0.007240  0.000701  \n",
       "112.50  0.009223  0.000908  \n",
       "115.00  0.011300  0.001140  \n",
       "117.50  0.013981  0.001440  \n",
       "120.00  0.017495  0.001833  \n",
       "122.50  0.021568  0.002302  \n",
       "125.00  0.027207  0.002932  \n",
       "130.00  0.041011  0.004521  \n",
       "135.00  0.058894  0.006622  \n",
       "140.00  0.079830  0.009161  \n",
       "145.00  0.102290  0.011981  \n",
       "150.00  0.123801  0.014823  \n",
       "155.00  0.141560  0.017363  \n",
       "157.50  0.148201  0.018311  \n",
       "160.00  0.152803  0.019178  \n",
       "162.50  0.155223  0.019719  \n",
       "165.00  0.155271  0.019886  \n",
       "167.50  0.152899  0.019810  \n",
       "170.00  0.148105  0.019465  \n",
       "172.50  0.141417  0.018642  \n",
       "175.00  0.133041  0.017601  \n",
       "177.50  0.122800  0.016441  \n",
       "180.00  0.112160  0.015057  \n",
       "182.50  0.102429  0.013592  \n",
       "185.00  0.091589  0.012161  \n",
       "187.50  0.091950  0.011084  \n",
       "190.00  0.077943  0.009762  \n",
       "192.50  0.085661  0.009311  \n",
       "195.00  0.055856  0.007226  \n",
       "197.50  0.047216  0.006139  \n",
       "200.00  0.051512  0.006090  \n",
       "202.50  0.055125  0.005989  \n",
       "205.00  0.035355  0.004295  \n",
       "210.00  0.030570  0.003526  \n",
       "215.00  0.058653  0.004932  \n",
       "220.00  0.064222  0.004807  \n",
       "225.00  0.059986  0.004337  \n",
       "230.00  0.030753  0.002645  \n",
       "420.00  0.000000       NaN  \n",
       "440.00  0.005305  0.000234  \n",
       "480.00  0.000000       NaN  \n",
       "490.00  0.005007  0.000202  "
      ]
     },
     "execution_count": 5,
     "metadata": {},
     "output_type": "execute_result"
    }
   ],
   "source": [
    "asset0 = 'NVDA'\n",
    "dfop1, info1 = Opchain.loaddayopchain(dfohlcall, tradeday='2022-08-26', expiry='2022-09-16', asset=asset0)\n",
    "dfop1"
   ]
  },
  {
   "cell_type": "code",
   "execution_count": 6,
   "metadata": {},
   "outputs": [
    {
     "data": {
      "text/plain": [
       "('NVDA',\n",
       " datetime.datetime(2022, 8, 26, 0, 0),\n",
       " datetime.datetime(2022, 9, 16, 0, 0),\n",
       " 162.5517)"
      ]
     },
     "execution_count": 6,
     "metadata": {},
     "output_type": "execute_result"
    }
   ],
   "source": [
    "info1"
   ]
  },
  {
   "cell_type": "markdown",
   "metadata": {},
   "source": [
    "### Gamma exposure function"
   ]
  },
  {
   "cell_type": "code",
   "execution_count": 7,
   "metadata": {},
   "outputs": [],
   "source": [
    "def getgex(dfchain, spotprice, ptfactor=100, decplace=4):\n",
    "    \"\"\"Obtain gamma exposure of each option contract per 1% move of underlying.\"\"\"\n",
    "    dfgex = dfchain.copy()\n",
    "    dfgex['c_GEX'] = dfgex['c_gamma'] * dfgex['c_oi'] * ptfactor * spotprice / 100\n",
    "    dfgex['p_GEX'] = -dfgex['p_gamma'] * dfgex['p_oi'] * ptfactor * spotprice / 100\n",
    "    dfgex['GEX'] = dfgex['c_GEX'] + dfgex['p_GEX']\n",
    "    for col in ['c_GEX', 'p_GEX', 'GEX']:\n",
    "        dfgex[col] = np.round(dfgex[col], decplace)\n",
    "    \n",
    "    return dfgex"
   ]
  },
  {
   "cell_type": "code",
   "execution_count": 8,
   "metadata": {},
   "outputs": [
    {
     "data": {
      "text/html": [
       "<div>\n",
       "<style scoped>\n",
       "    .dataframe tbody tr th:only-of-type {\n",
       "        vertical-align: middle;\n",
       "    }\n",
       "\n",
       "    .dataframe tbody tr th {\n",
       "        vertical-align: top;\n",
       "    }\n",
       "\n",
       "    .dataframe thead th {\n",
       "        text-align: right;\n",
       "    }\n",
       "</style>\n",
       "<table border=\"1\" class=\"dataframe\">\n",
       "  <thead>\n",
       "    <tr style=\"text-align: right;\">\n",
       "      <th></th>\n",
       "      <th>c_iv</th>\n",
       "      <th>c_vol</th>\n",
       "      <th>c_oi</th>\n",
       "      <th>c_mid</th>\n",
       "      <th>c_delta</th>\n",
       "      <th>c_theta</th>\n",
       "      <th>c_vega</th>\n",
       "      <th>c_gamma</th>\n",
       "      <th>p_iv</th>\n",
       "      <th>p_vol</th>\n",
       "      <th>p_oi</th>\n",
       "      <th>p_mid</th>\n",
       "      <th>p_delta</th>\n",
       "      <th>p_theta</th>\n",
       "      <th>p_vega</th>\n",
       "      <th>p_gamma</th>\n",
       "      <th>c_GEX</th>\n",
       "      <th>p_GEX</th>\n",
       "      <th>GEX</th>\n",
       "    </tr>\n",
       "    <tr>\n",
       "      <th>strike</th>\n",
       "      <th></th>\n",
       "      <th></th>\n",
       "      <th></th>\n",
       "      <th></th>\n",
       "      <th></th>\n",
       "      <th></th>\n",
       "      <th></th>\n",
       "      <th></th>\n",
       "      <th></th>\n",
       "      <th></th>\n",
       "      <th></th>\n",
       "      <th></th>\n",
       "      <th></th>\n",
       "      <th></th>\n",
       "      <th></th>\n",
       "      <th></th>\n",
       "      <th></th>\n",
       "      <th></th>\n",
       "      <th></th>\n",
       "    </tr>\n",
       "  </thead>\n",
       "  <tbody>\n",
       "    <tr>\n",
       "      <th>140.0</th>\n",
       "      <td>61.77</td>\n",
       "      <td>41.0</td>\n",
       "      <td>867</td>\n",
       "      <td>24.425</td>\n",
       "      <td>0.860399</td>\n",
       "      <td>-0.127385</td>\n",
       "      <td>0.086615</td>\n",
       "      <td>0.009224</td>\n",
       "      <td>57.32</td>\n",
       "      <td>4115.0</td>\n",
       "      <td>15398</td>\n",
       "      <td>1.455</td>\n",
       "      <td>-0.124038</td>\n",
       "      <td>-0.108949</td>\n",
       "      <td>0.079830</td>\n",
       "      <td>0.009161</td>\n",
       "      <td>1299.9138</td>\n",
       "      <td>-22930.1435</td>\n",
       "      <td>-21630.2297</td>\n",
       "    </tr>\n",
       "    <tr>\n",
       "      <th>145.0</th>\n",
       "      <td>54.47</td>\n",
       "      <td>148.0</td>\n",
       "      <td>856</td>\n",
       "      <td>19.700</td>\n",
       "      <td>0.826359</td>\n",
       "      <td>-0.129704</td>\n",
       "      <td>0.100010</td>\n",
       "      <td>0.012078</td>\n",
       "      <td>56.16</td>\n",
       "      <td>2131.0</td>\n",
       "      <td>7042</td>\n",
       "      <td>2.270</td>\n",
       "      <td>-0.179943</td>\n",
       "      <td>-0.136776</td>\n",
       "      <td>0.102290</td>\n",
       "      <td>0.011981</td>\n",
       "      <td>1680.5210</td>\n",
       "      <td>-13714.6045</td>\n",
       "      <td>-12034.0835</td>\n",
       "    </tr>\n",
       "    <tr>\n",
       "      <th>150.0</th>\n",
       "      <td>55.95</td>\n",
       "      <td>214.0</td>\n",
       "      <td>3466</td>\n",
       "      <td>16.125</td>\n",
       "      <td>0.747263</td>\n",
       "      <td>-0.166007</td>\n",
       "      <td>0.124617</td>\n",
       "      <td>0.014651</td>\n",
       "      <td>54.94</td>\n",
       "      <td>6643.0</td>\n",
       "      <td>17923</td>\n",
       "      <td>3.400</td>\n",
       "      <td>-0.249616</td>\n",
       "      <td>-0.161943</td>\n",
       "      <td>0.123801</td>\n",
       "      <td>0.014823</td>\n",
       "      <td>8254.4303</td>\n",
       "      <td>-43184.3750</td>\n",
       "      <td>-34929.9447</td>\n",
       "    </tr>\n",
       "    <tr>\n",
       "      <th>155.0</th>\n",
       "      <td>54.86</td>\n",
       "      <td>131.0</td>\n",
       "      <td>2521</td>\n",
       "      <td>12.675</td>\n",
       "      <td>0.665422</td>\n",
       "      <td>-0.185448</td>\n",
       "      <td>0.141976</td>\n",
       "      <td>0.017024</td>\n",
       "      <td>53.63</td>\n",
       "      <td>1853.0</td>\n",
       "      <td>6946</td>\n",
       "      <td>4.900</td>\n",
       "      <td>-0.332100</td>\n",
       "      <td>-0.180759</td>\n",
       "      <td>0.141560</td>\n",
       "      <td>0.017363</td>\n",
       "      <td>6976.1329</td>\n",
       "      <td>-19604.2253</td>\n",
       "      <td>-12628.0923</td>\n",
       "    </tr>\n",
       "    <tr>\n",
       "      <th>157.5</th>\n",
       "      <td>53.91</td>\n",
       "      <td>258.0</td>\n",
       "      <td>315</td>\n",
       "      <td>11.050</td>\n",
       "      <td>0.621264</td>\n",
       "      <td>-0.190361</td>\n",
       "      <td>0.148306</td>\n",
       "      <td>0.018096</td>\n",
       "      <td>53.24</td>\n",
       "      <td>884.0</td>\n",
       "      <td>553</td>\n",
       "      <td>5.850</td>\n",
       "      <td>-0.377873</td>\n",
       "      <td>-0.187863</td>\n",
       "      <td>0.148201</td>\n",
       "      <td>0.018311</td>\n",
       "      <td>926.5764</td>\n",
       "      <td>-1645.9691</td>\n",
       "      <td>-719.3928</td>\n",
       "    </tr>\n",
       "    <tr>\n",
       "      <th>160.0</th>\n",
       "      <td>53.38</td>\n",
       "      <td>382.0</td>\n",
       "      <td>10004</td>\n",
       "      <td>9.600</td>\n",
       "      <td>0.574402</td>\n",
       "      <td>-0.194246</td>\n",
       "      <td>0.152835</td>\n",
       "      <td>0.018834</td>\n",
       "      <td>52.41</td>\n",
       "      <td>5331.0</td>\n",
       "      <td>19356</td>\n",
       "      <td>6.850</td>\n",
       "      <td>-0.425157</td>\n",
       "      <td>-0.190676</td>\n",
       "      <td>0.152803</td>\n",
       "      <td>0.019178</td>\n",
       "      <td>30626.7047</td>\n",
       "      <td>-60341.3148</td>\n",
       "      <td>-29714.6101</td>\n",
       "    </tr>\n",
       "    <tr>\n",
       "      <th>162.5</th>\n",
       "      <td>52.75</td>\n",
       "      <td>391.0</td>\n",
       "      <td>237</td>\n",
       "      <td>8.250</td>\n",
       "      <td>0.526223</td>\n",
       "      <td>-0.194939</td>\n",
       "      <td>0.155212</td>\n",
       "      <td>0.019355</td>\n",
       "      <td>51.78</td>\n",
       "      <td>650.0</td>\n",
       "      <td>569</td>\n",
       "      <td>8.000</td>\n",
       "      <td>-0.474222</td>\n",
       "      <td>-0.191368</td>\n",
       "      <td>0.155223</td>\n",
       "      <td>0.019719</td>\n",
       "      <td>745.6469</td>\n",
       "      <td>-1823.8502</td>\n",
       "      <td>-1078.2033</td>\n",
       "    </tr>\n",
       "    <tr>\n",
       "      <th>165.0</th>\n",
       "      <td>51.99</td>\n",
       "      <td>2415.0</td>\n",
       "      <td>9247</td>\n",
       "      <td>7.000</td>\n",
       "      <td>0.477063</td>\n",
       "      <td>-0.192228</td>\n",
       "      <td>0.155291</td>\n",
       "      <td>0.019648</td>\n",
       "      <td>51.36</td>\n",
       "      <td>3723.0</td>\n",
       "      <td>11458</td>\n",
       "      <td>9.300</td>\n",
       "      <td>-0.523823</td>\n",
       "      <td>-0.189874</td>\n",
       "      <td>0.155271</td>\n",
       "      <td>0.019886</td>\n",
       "      <td>29533.1185</td>\n",
       "      <td>-37038.6687</td>\n",
       "      <td>-7505.5502</td>\n",
       "    </tr>\n",
       "    <tr>\n",
       "      <th>167.5</th>\n",
       "      <td>51.59</td>\n",
       "      <td>724.0</td>\n",
       "      <td>200</td>\n",
       "      <td>5.925</td>\n",
       "      <td>0.428397</td>\n",
       "      <td>-0.187979</td>\n",
       "      <td>0.153036</td>\n",
       "      <td>0.019513</td>\n",
       "      <td>50.77</td>\n",
       "      <td>3023.0</td>\n",
       "      <td>1990</td>\n",
       "      <td>10.700</td>\n",
       "      <td>-0.573525</td>\n",
       "      <td>-0.184826</td>\n",
       "      <td>0.152899</td>\n",
       "      <td>0.019810</td>\n",
       "      <td>634.3660</td>\n",
       "      <td>-6408.1451</td>\n",
       "      <td>-5773.7790</td>\n",
       "    </tr>\n",
       "    <tr>\n",
       "      <th>170.0</th>\n",
       "      <td>51.06</td>\n",
       "      <td>3560.0</td>\n",
       "      <td>6368</td>\n",
       "      <td>4.950</td>\n",
       "      <td>0.380345</td>\n",
       "      <td>-0.180531</td>\n",
       "      <td>0.148498</td>\n",
       "      <td>0.019131</td>\n",
       "      <td>50.05</td>\n",
       "      <td>5341.0</td>\n",
       "      <td>9307</td>\n",
       "      <td>12.200</td>\n",
       "      <td>-0.622923</td>\n",
       "      <td>-0.176491</td>\n",
       "      <td>0.148105</td>\n",
       "      <td>0.019465</td>\n",
       "      <td>19802.7446</td>\n",
       "      <td>-29448.0174</td>\n",
       "      <td>-9645.2728</td>\n",
       "    </tr>\n",
       "    <tr>\n",
       "      <th>172.5</th>\n",
       "      <td>50.43</td>\n",
       "      <td>1604.0</td>\n",
       "      <td>2912</td>\n",
       "      <td>4.075</td>\n",
       "      <td>0.333384</td>\n",
       "      <td>-0.170233</td>\n",
       "      <td>0.141777</td>\n",
       "      <td>0.018493</td>\n",
       "      <td>49.90</td>\n",
       "      <td>1352.0</td>\n",
       "      <td>2477</td>\n",
       "      <td>13.850</td>\n",
       "      <td>-0.668741</td>\n",
       "      <td>-0.168017</td>\n",
       "      <td>0.141417</td>\n",
       "      <td>0.018642</td>\n",
       "      <td>8753.6447</td>\n",
       "      <td>-7506.0306</td>\n",
       "      <td>1247.6142</td>\n",
       "    </tr>\n",
       "    <tr>\n",
       "      <th>175.0</th>\n",
       "      <td>50.09</td>\n",
       "      <td>3350.0</td>\n",
       "      <td>7915</td>\n",
       "      <td>3.350</td>\n",
       "      <td>0.289759</td>\n",
       "      <td>-0.159111</td>\n",
       "      <td>0.133413</td>\n",
       "      <td>0.017520</td>\n",
       "      <td>49.72</td>\n",
       "      <td>3226.0</td>\n",
       "      <td>9125</td>\n",
       "      <td>15.625</td>\n",
       "      <td>-0.711954</td>\n",
       "      <td>-0.157495</td>\n",
       "      <td>0.133041</td>\n",
       "      <td>0.017601</td>\n",
       "      <td>22541.3377</td>\n",
       "      <td>-26107.7535</td>\n",
       "      <td>-3566.4159</td>\n",
       "    </tr>\n",
       "    <tr>\n",
       "      <th>177.5</th>\n",
       "      <td>49.68</td>\n",
       "      <td>726.0</td>\n",
       "      <td>746</td>\n",
       "      <td>2.700</td>\n",
       "      <td>0.248669</td>\n",
       "      <td>-0.146143</td>\n",
       "      <td>0.123551</td>\n",
       "      <td>0.016359</td>\n",
       "      <td>49.13</td>\n",
       "      <td>2404.0</td>\n",
       "      <td>821</td>\n",
       "      <td>17.475</td>\n",
       "      <td>-0.754150</td>\n",
       "      <td>-0.143646</td>\n",
       "      <td>0.122800</td>\n",
       "      <td>0.016441</td>\n",
       "      <td>1983.7360</td>\n",
       "      <td>-2194.1955</td>\n",
       "      <td>-210.4594</td>\n",
       "    </tr>\n",
       "    <tr>\n",
       "      <th>180.0</th>\n",
       "      <td>49.54</td>\n",
       "      <td>5166.0</td>\n",
       "      <td>9790</td>\n",
       "      <td>2.185</td>\n",
       "      <td>0.212250</td>\n",
       "      <td>-0.133374</td>\n",
       "      <td>0.113074</td>\n",
       "      <td>0.015014</td>\n",
       "      <td>49.00</td>\n",
       "      <td>1765.0</td>\n",
       "      <td>10767</td>\n",
       "      <td>19.475</td>\n",
       "      <td>-0.790668</td>\n",
       "      <td>-0.130853</td>\n",
       "      <td>0.112160</td>\n",
       "      <td>0.015057</td>\n",
       "      <td>23893.0729</td>\n",
       "      <td>-26352.2306</td>\n",
       "      <td>-2459.1577</td>\n",
       "    </tr>\n",
       "    <tr>\n",
       "      <th>182.5</th>\n",
       "      <td>49.27</td>\n",
       "      <td>756.0</td>\n",
       "      <td>413</td>\n",
       "      <td>1.750</td>\n",
       "      <td>0.178688</td>\n",
       "      <td>-0.119469</td>\n",
       "      <td>0.101840</td>\n",
       "      <td>0.013597</td>\n",
       "      <td>49.57</td>\n",
       "      <td>767.0</td>\n",
       "      <td>386</td>\n",
       "      <td>21.550</td>\n",
       "      <td>-0.819665</td>\n",
       "      <td>-0.120891</td>\n",
       "      <td>0.102429</td>\n",
       "      <td>0.013592</td>\n",
       "      <td>912.7876</td>\n",
       "      <td>-852.8552</td>\n",
       "      <td>59.9325</td>\n",
       "    </tr>\n",
       "    <tr>\n",
       "      <th>185.0</th>\n",
       "      <td>49.07</td>\n",
       "      <td>3317.0</td>\n",
       "      <td>12550</td>\n",
       "      <td>1.390</td>\n",
       "      <td>0.149122</td>\n",
       "      <td>-0.105797</td>\n",
       "      <td>0.090554</td>\n",
       "      <td>0.012139</td>\n",
       "      <td>49.54</td>\n",
       "      <td>644.0</td>\n",
       "      <td>12019</td>\n",
       "      <td>23.600</td>\n",
       "      <td>-0.848311</td>\n",
       "      <td>-0.108032</td>\n",
       "      <td>0.091589</td>\n",
       "      <td>0.012161</td>\n",
       "      <td>24763.6821</td>\n",
       "      <td>-23759.5812</td>\n",
       "      <td>1004.1008</td>\n",
       "    </tr>\n",
       "    <tr>\n",
       "      <th>187.5</th>\n",
       "      <td>48.98</td>\n",
       "      <td>414.0</td>\n",
       "      <td>752</td>\n",
       "      <td>1.105</td>\n",
       "      <td>0.123721</td>\n",
       "      <td>-0.092930</td>\n",
       "      <td>0.079687</td>\n",
       "      <td>0.010702</td>\n",
       "      <td>54.57</td>\n",
       "      <td>76.0</td>\n",
       "      <td>192</td>\n",
       "      <td>25.975</td>\n",
       "      <td>-0.847410</td>\n",
       "      <td>-0.119469</td>\n",
       "      <td>0.091950</td>\n",
       "      <td>0.011084</td>\n",
       "      <td>1308.1872</td>\n",
       "      <td>-345.9246</td>\n",
       "      <td>962.2625</td>\n",
       "    </tr>\n",
       "  </tbody>\n",
       "</table>\n",
       "</div>"
      ],
      "text/plain": [
       "         c_iv   c_vol   c_oi   c_mid   c_delta   c_theta    c_vega   c_gamma  \\\n",
       "strike                                                                         \n",
       "140.0   61.77    41.0    867  24.425  0.860399 -0.127385  0.086615  0.009224   \n",
       "145.0   54.47   148.0    856  19.700  0.826359 -0.129704  0.100010  0.012078   \n",
       "150.0   55.95   214.0   3466  16.125  0.747263 -0.166007  0.124617  0.014651   \n",
       "155.0   54.86   131.0   2521  12.675  0.665422 -0.185448  0.141976  0.017024   \n",
       "157.5   53.91   258.0    315  11.050  0.621264 -0.190361  0.148306  0.018096   \n",
       "160.0   53.38   382.0  10004   9.600  0.574402 -0.194246  0.152835  0.018834   \n",
       "162.5   52.75   391.0    237   8.250  0.526223 -0.194939  0.155212  0.019355   \n",
       "165.0   51.99  2415.0   9247   7.000  0.477063 -0.192228  0.155291  0.019648   \n",
       "167.5   51.59   724.0    200   5.925  0.428397 -0.187979  0.153036  0.019513   \n",
       "170.0   51.06  3560.0   6368   4.950  0.380345 -0.180531  0.148498  0.019131   \n",
       "172.5   50.43  1604.0   2912   4.075  0.333384 -0.170233  0.141777  0.018493   \n",
       "175.0   50.09  3350.0   7915   3.350  0.289759 -0.159111  0.133413  0.017520   \n",
       "177.5   49.68   726.0    746   2.700  0.248669 -0.146143  0.123551  0.016359   \n",
       "180.0   49.54  5166.0   9790   2.185  0.212250 -0.133374  0.113074  0.015014   \n",
       "182.5   49.27   756.0    413   1.750  0.178688 -0.119469  0.101840  0.013597   \n",
       "185.0   49.07  3317.0  12550   1.390  0.149122 -0.105797  0.090554  0.012139   \n",
       "187.5   48.98   414.0    752   1.105  0.123721 -0.092930  0.079687  0.010702   \n",
       "\n",
       "         p_iv   p_vol   p_oi   p_mid   p_delta   p_theta    p_vega   p_gamma  \\\n",
       "strike                                                                         \n",
       "140.0   57.32  4115.0  15398   1.455 -0.124038 -0.108949  0.079830  0.009161   \n",
       "145.0   56.16  2131.0   7042   2.270 -0.179943 -0.136776  0.102290  0.011981   \n",
       "150.0   54.94  6643.0  17923   3.400 -0.249616 -0.161943  0.123801  0.014823   \n",
       "155.0   53.63  1853.0   6946   4.900 -0.332100 -0.180759  0.141560  0.017363   \n",
       "157.5   53.24   884.0    553   5.850 -0.377873 -0.187863  0.148201  0.018311   \n",
       "160.0   52.41  5331.0  19356   6.850 -0.425157 -0.190676  0.152803  0.019178   \n",
       "162.5   51.78   650.0    569   8.000 -0.474222 -0.191368  0.155223  0.019719   \n",
       "165.0   51.36  3723.0  11458   9.300 -0.523823 -0.189874  0.155271  0.019886   \n",
       "167.5   50.77  3023.0   1990  10.700 -0.573525 -0.184826  0.152899  0.019810   \n",
       "170.0   50.05  5341.0   9307  12.200 -0.622923 -0.176491  0.148105  0.019465   \n",
       "172.5   49.90  1352.0   2477  13.850 -0.668741 -0.168017  0.141417  0.018642   \n",
       "175.0   49.72  3226.0   9125  15.625 -0.711954 -0.157495  0.133041  0.017601   \n",
       "177.5   49.13  2404.0    821  17.475 -0.754150 -0.143646  0.122800  0.016441   \n",
       "180.0   49.00  1765.0  10767  19.475 -0.790668 -0.130853  0.112160  0.015057   \n",
       "182.5   49.57   767.0    386  21.550 -0.819665 -0.120891  0.102429  0.013592   \n",
       "185.0   49.54   644.0  12019  23.600 -0.848311 -0.108032  0.091589  0.012161   \n",
       "187.5   54.57    76.0    192  25.975 -0.847410 -0.119469  0.091950  0.011084   \n",
       "\n",
       "             c_GEX       p_GEX         GEX  \n",
       "strike                                      \n",
       "140.0    1299.9138 -22930.1435 -21630.2297  \n",
       "145.0    1680.5210 -13714.6045 -12034.0835  \n",
       "150.0    8254.4303 -43184.3750 -34929.9447  \n",
       "155.0    6976.1329 -19604.2253 -12628.0923  \n",
       "157.5     926.5764  -1645.9691   -719.3928  \n",
       "160.0   30626.7047 -60341.3148 -29714.6101  \n",
       "162.5     745.6469  -1823.8502  -1078.2033  \n",
       "165.0   29533.1185 -37038.6687  -7505.5502  \n",
       "167.5     634.3660  -6408.1451  -5773.7790  \n",
       "170.0   19802.7446 -29448.0174  -9645.2728  \n",
       "172.5    8753.6447  -7506.0306   1247.6142  \n",
       "175.0   22541.3377 -26107.7535  -3566.4159  \n",
       "177.5    1983.7360  -2194.1955   -210.4594  \n",
       "180.0   23893.0729 -26352.2306  -2459.1577  \n",
       "182.5     912.7876   -852.8552     59.9325  \n",
       "185.0   24763.6821 -23759.5812   1004.1008  \n",
       "187.5    1308.1872   -345.9246    962.2625  "
      ]
     },
     "execution_count": 8,
     "metadata": {},
     "output_type": "execute_result"
    }
   ],
   "source": [
    "dfgex1 = getgex(dfop1, info1[-1])\n",
    "dfgex1[(dfgex1['c_mid'] > 1) & (dfgex1['p_mid'] > 1)]"
   ]
  },
  {
   "cell_type": "markdown",
   "metadata": {},
   "source": [
    "### Visualize GEX"
   ]
  },
  {
   "cell_type": "code",
   "execution_count": 9,
   "metadata": {},
   "outputs": [],
   "source": [
    "def gettotalgex(dfgex):\n",
    "    \"\"\"Obtain call-GEX, put-GEX and total-GEX.\"\"\"\n",
    "    return round(dfgex['c_GEX'].sum(), 2), round(dfgex['p_GEX'].sum(), 2), round(dfgex['GEX'].sum(), 2)\n",
    "\n",
    "def plotgex(dfgex, info):\n",
    "    \"\"\"Plot call GEX, put GEX and net GEX.\"\"\"\n",
    "    tdstr = info[1].strftime('%Y-%m-%d')\n",
    "    expiry = info[2].strftime('%Y-%m-%d')\n",
    "    spotprice = info[-1]\n",
    "    gexsum_c, gexsum_p, gexsum = gettotalgex(dfgex)\n",
    "    \n",
    "    fig = make_subplots(rows=2, cols=1, shared_xaxes=True, vertical_spacing=0.125, row_heights=[8.0, 8.0],\n",
    "                        specs=[[{\"type\": \"bar\"}], [{\"type\": \"bar\"}]], \n",
    "                        subplot_titles=(f'Call-GEX: {gexsum_c}, Put-GEX: {gexsum_p}', f'Net GEX: {gexsum}'))\n",
    "        \n",
    "    fig.add_trace(go.Bar(x=dfgex.index, y=dfgex['c_GEX'], name=\"Call GEX\",\n",
    "                         marker=dict(color='#34dd74', line=dict(color='#34dd74', width=2))), \n",
    "                  row=1, col=1)\n",
    "    \n",
    "    fig.add_trace(go.Bar(x=dfgex.index, y=dfgex['p_GEX'], name=\"Put GEX\",\n",
    "                         marker=dict(color='#dd3462', line=dict(color='#dd3462', width=2))), \n",
    "                  row=1, col=1)\n",
    "    \n",
    "    fig.add_trace(go.Bar(x=dfgex.index, y=dfgex['GEX'], name=\"GEX\",\n",
    "                         marker=dict(color='#1956ee', line=dict(color='#1956ee', width=2))), \n",
    "                  row=2, col=1)\n",
    "    \n",
    "    titletext = f'{info[0]} GEX of expiry {expiry} on {tdstr} at {spotprice} \\n'\n",
    "    \n",
    "    fig.update_layout(title=titletext, title_x=0.5, width=1000, height=800)\n",
    "    fig.show()"
   ]
  },
  {
   "cell_type": "code",
   "execution_count": 10,
   "metadata": {},
   "outputs": [
    {
     "data": {
      "application/vnd.plotly.v1+json": {
       "config": {
        "plotlyServerURL": "https://plot.ly"
       },
       "data": [
        {
         "marker": {
          "color": "#34dd74",
          "line": {
           "color": "#34dd74",
           "width": 2
          }
         },
         "name": "Call GEX",
         "type": "bar",
         "x": [
          28.75,
          31.25,
          47.5,
          107.5,
          110,
          112.5,
          115,
          117.5,
          120,
          122.5,
          125,
          130,
          135,
          140,
          145,
          150,
          155,
          157.5,
          160,
          162.5,
          165,
          167.5,
          170,
          172.5,
          175,
          177.5,
          180,
          182.5,
          185,
          187.5,
          190,
          192.5,
          195,
          197.5,
          200,
          202.5,
          205,
          210,
          215,
          220,
          225,
          230,
          420,
          440,
          480,
          490
         ],
         "xaxis": "x",
         "y": [
          0.814,
          0.379,
          18.2674,
          59.8355,
          150.2874,
          45.633,
          53.7916,
          140.2985,
          116.2784,
          369.1879,
          695.8825,
          601.374,
          765.6892,
          1299.9138,
          1680.521,
          8254.4303,
          6976.1329,
          926.5764,
          30626.7047,
          745.6469,
          29533.1185,
          634.366,
          19802.7446,
          8753.6447,
          22541.3377,
          1983.736,
          23893.0729,
          912.7876,
          24763.6821,
          1308.1872,
          17025.5389,
          659.2627,
          5891.5798,
          730.6501,
          14210.8369,
          600.4458,
          2715.6788,
          4357.7421,
          2104.8321,
          2108.9342,
          1178.121,
          1187.6658,
          42.0018,
          22.7321,
          4.8488,
          5.2117
         ],
         "yaxis": "y"
        },
        {
         "marker": {
          "color": "#dd3462",
          "line": {
           "color": "#dd3462",
           "width": 2
          }
         },
         "name": "Put GEX",
         "type": "bar",
         "x": [
          28.75,
          31.25,
          47.5,
          107.5,
          110,
          112.5,
          115,
          117.5,
          120,
          122.5,
          125,
          130,
          135,
          140,
          145,
          150,
          155,
          157.5,
          160,
          162.5,
          165,
          167.5,
          170,
          172.5,
          175,
          177.5,
          180,
          182.5,
          185,
          187.5,
          190,
          192.5,
          195,
          197.5,
          200,
          202.5,
          205,
          210,
          215,
          220,
          225,
          230,
          420,
          440,
          480,
          490
         ],
         "xaxis": "x",
         "y": [
          -4.0862,
          -7.771,
          -3.4728,
          -122.2371,
          -700.4849,
          -647.6233,
          -234.3243,
          -235.2252,
          -1814.0619,
          -626.1419,
          -2357.7424,
          -4660.7583,
          -9910.8769,
          -22930.1435,
          -13714.6045,
          -43184.375,
          -19604.2253,
          -1645.9691,
          -60341.3148,
          -1823.8502,
          -37038.6687,
          -6408.1451,
          -29448.0174,
          -7506.0306,
          -26107.7535,
          -2194.1955,
          -26352.2306,
          -852.8552,
          -23759.5812,
          -345.9246,
          -13421.5485,
          -128.6427,
          -3460.1333,
          -123.7441,
          -7261.0598,
          -125.576,
          -1750.8941,
          -2525.9178,
          -2086.2216,
          -3134.6403,
          -2888.7731,
          -1082.7567,
          null,
          0,
          null,
          0
         ],
         "yaxis": "y"
        },
        {
         "marker": {
          "color": "#1956ee",
          "line": {
           "color": "#1956ee",
           "width": 2
          }
         },
         "name": "GEX",
         "type": "bar",
         "x": [
          28.75,
          31.25,
          47.5,
          107.5,
          110,
          112.5,
          115,
          117.5,
          120,
          122.5,
          125,
          130,
          135,
          140,
          145,
          150,
          155,
          157.5,
          160,
          162.5,
          165,
          167.5,
          170,
          172.5,
          175,
          177.5,
          180,
          182.5,
          185,
          187.5,
          190,
          192.5,
          195,
          197.5,
          200,
          202.5,
          205,
          210,
          215,
          220,
          225,
          230,
          420,
          440,
          480,
          490
         ],
         "xaxis": "x2",
         "y": [
          -3.2722,
          -7.392,
          14.7947,
          -62.4016,
          -550.1974,
          -601.9904,
          -180.5327,
          -94.9267,
          -1697.7835,
          -256.954,
          -1661.8599,
          -4059.3843,
          -9145.1877,
          -21630.2297,
          -12034.0835,
          -34929.9447,
          -12628.0923,
          -719.3928,
          -29714.6101,
          -1078.2033,
          -7505.5502,
          -5773.779,
          -9645.2728,
          1247.6142,
          -3566.4159,
          -210.4594,
          -2459.1577,
          59.9325,
          1004.1008,
          962.2625,
          3603.9903,
          530.62,
          2431.4466,
          606.906,
          6949.7771,
          474.8698,
          964.7848,
          1831.8243,
          18.6105,
          -1025.7061,
          -1710.6521,
          104.9091,
          null,
          22.7321,
          null,
          5.2117
         ],
         "yaxis": "y2"
        }
       ],
       "layout": {
        "annotations": [
         {
          "font": {
           "size": 16
          },
          "showarrow": false,
          "text": "Call-GEX: 240500.4, Put-GEX: -382572.6",
          "x": 0.5,
          "xanchor": "center",
          "xref": "paper",
          "y": 1,
          "yanchor": "bottom",
          "yref": "paper"
         },
         {
          "font": {
           "size": 16
          },
          "showarrow": false,
          "text": "Net GEX: -142119.05",
          "x": 0.5,
          "xanchor": "center",
          "xref": "paper",
          "y": 0.4375,
          "yanchor": "bottom",
          "yref": "paper"
         }
        ],
        "height": 800,
        "template": {
         "data": {
          "bar": [
           {
            "error_x": {
             "color": "#2a3f5f"
            },
            "error_y": {
             "color": "#2a3f5f"
            },
            "marker": {
             "line": {
              "color": "#E5ECF6",
              "width": 0.5
             },
             "pattern": {
              "fillmode": "overlay",
              "size": 10,
              "solidity": 0.2
             }
            },
            "type": "bar"
           }
          ],
          "barpolar": [
           {
            "marker": {
             "line": {
              "color": "#E5ECF6",
              "width": 0.5
             },
             "pattern": {
              "fillmode": "overlay",
              "size": 10,
              "solidity": 0.2
             }
            },
            "type": "barpolar"
           }
          ],
          "carpet": [
           {
            "aaxis": {
             "endlinecolor": "#2a3f5f",
             "gridcolor": "white",
             "linecolor": "white",
             "minorgridcolor": "white",
             "startlinecolor": "#2a3f5f"
            },
            "baxis": {
             "endlinecolor": "#2a3f5f",
             "gridcolor": "white",
             "linecolor": "white",
             "minorgridcolor": "white",
             "startlinecolor": "#2a3f5f"
            },
            "type": "carpet"
           }
          ],
          "choropleth": [
           {
            "colorbar": {
             "outlinewidth": 0,
             "ticks": ""
            },
            "type": "choropleth"
           }
          ],
          "contour": [
           {
            "colorbar": {
             "outlinewidth": 0,
             "ticks": ""
            },
            "colorscale": [
             [
              0,
              "#0d0887"
             ],
             [
              0.1111111111111111,
              "#46039f"
             ],
             [
              0.2222222222222222,
              "#7201a8"
             ],
             [
              0.3333333333333333,
              "#9c179e"
             ],
             [
              0.4444444444444444,
              "#bd3786"
             ],
             [
              0.5555555555555556,
              "#d8576b"
             ],
             [
              0.6666666666666666,
              "#ed7953"
             ],
             [
              0.7777777777777778,
              "#fb9f3a"
             ],
             [
              0.8888888888888888,
              "#fdca26"
             ],
             [
              1,
              "#f0f921"
             ]
            ],
            "type": "contour"
           }
          ],
          "contourcarpet": [
           {
            "colorbar": {
             "outlinewidth": 0,
             "ticks": ""
            },
            "type": "contourcarpet"
           }
          ],
          "heatmap": [
           {
            "colorbar": {
             "outlinewidth": 0,
             "ticks": ""
            },
            "colorscale": [
             [
              0,
              "#0d0887"
             ],
             [
              0.1111111111111111,
              "#46039f"
             ],
             [
              0.2222222222222222,
              "#7201a8"
             ],
             [
              0.3333333333333333,
              "#9c179e"
             ],
             [
              0.4444444444444444,
              "#bd3786"
             ],
             [
              0.5555555555555556,
              "#d8576b"
             ],
             [
              0.6666666666666666,
              "#ed7953"
             ],
             [
              0.7777777777777778,
              "#fb9f3a"
             ],
             [
              0.8888888888888888,
              "#fdca26"
             ],
             [
              1,
              "#f0f921"
             ]
            ],
            "type": "heatmap"
           }
          ],
          "heatmapgl": [
           {
            "colorbar": {
             "outlinewidth": 0,
             "ticks": ""
            },
            "colorscale": [
             [
              0,
              "#0d0887"
             ],
             [
              0.1111111111111111,
              "#46039f"
             ],
             [
              0.2222222222222222,
              "#7201a8"
             ],
             [
              0.3333333333333333,
              "#9c179e"
             ],
             [
              0.4444444444444444,
              "#bd3786"
             ],
             [
              0.5555555555555556,
              "#d8576b"
             ],
             [
              0.6666666666666666,
              "#ed7953"
             ],
             [
              0.7777777777777778,
              "#fb9f3a"
             ],
             [
              0.8888888888888888,
              "#fdca26"
             ],
             [
              1,
              "#f0f921"
             ]
            ],
            "type": "heatmapgl"
           }
          ],
          "histogram": [
           {
            "marker": {
             "pattern": {
              "fillmode": "overlay",
              "size": 10,
              "solidity": 0.2
             }
            },
            "type": "histogram"
           }
          ],
          "histogram2d": [
           {
            "colorbar": {
             "outlinewidth": 0,
             "ticks": ""
            },
            "colorscale": [
             [
              0,
              "#0d0887"
             ],
             [
              0.1111111111111111,
              "#46039f"
             ],
             [
              0.2222222222222222,
              "#7201a8"
             ],
             [
              0.3333333333333333,
              "#9c179e"
             ],
             [
              0.4444444444444444,
              "#bd3786"
             ],
             [
              0.5555555555555556,
              "#d8576b"
             ],
             [
              0.6666666666666666,
              "#ed7953"
             ],
             [
              0.7777777777777778,
              "#fb9f3a"
             ],
             [
              0.8888888888888888,
              "#fdca26"
             ],
             [
              1,
              "#f0f921"
             ]
            ],
            "type": "histogram2d"
           }
          ],
          "histogram2dcontour": [
           {
            "colorbar": {
             "outlinewidth": 0,
             "ticks": ""
            },
            "colorscale": [
             [
              0,
              "#0d0887"
             ],
             [
              0.1111111111111111,
              "#46039f"
             ],
             [
              0.2222222222222222,
              "#7201a8"
             ],
             [
              0.3333333333333333,
              "#9c179e"
             ],
             [
              0.4444444444444444,
              "#bd3786"
             ],
             [
              0.5555555555555556,
              "#d8576b"
             ],
             [
              0.6666666666666666,
              "#ed7953"
             ],
             [
              0.7777777777777778,
              "#fb9f3a"
             ],
             [
              0.8888888888888888,
              "#fdca26"
             ],
             [
              1,
              "#f0f921"
             ]
            ],
            "type": "histogram2dcontour"
           }
          ],
          "mesh3d": [
           {
            "colorbar": {
             "outlinewidth": 0,
             "ticks": ""
            },
            "type": "mesh3d"
           }
          ],
          "parcoords": [
           {
            "line": {
             "colorbar": {
              "outlinewidth": 0,
              "ticks": ""
             }
            },
            "type": "parcoords"
           }
          ],
          "pie": [
           {
            "automargin": true,
            "type": "pie"
           }
          ],
          "scatter": [
           {
            "fillpattern": {
             "fillmode": "overlay",
             "size": 10,
             "solidity": 0.2
            },
            "type": "scatter"
           }
          ],
          "scatter3d": [
           {
            "line": {
             "colorbar": {
              "outlinewidth": 0,
              "ticks": ""
             }
            },
            "marker": {
             "colorbar": {
              "outlinewidth": 0,
              "ticks": ""
             }
            },
            "type": "scatter3d"
           }
          ],
          "scattercarpet": [
           {
            "marker": {
             "colorbar": {
              "outlinewidth": 0,
              "ticks": ""
             }
            },
            "type": "scattercarpet"
           }
          ],
          "scattergeo": [
           {
            "marker": {
             "colorbar": {
              "outlinewidth": 0,
              "ticks": ""
             }
            },
            "type": "scattergeo"
           }
          ],
          "scattergl": [
           {
            "marker": {
             "colorbar": {
              "outlinewidth": 0,
              "ticks": ""
             }
            },
            "type": "scattergl"
           }
          ],
          "scattermapbox": [
           {
            "marker": {
             "colorbar": {
              "outlinewidth": 0,
              "ticks": ""
             }
            },
            "type": "scattermapbox"
           }
          ],
          "scatterpolar": [
           {
            "marker": {
             "colorbar": {
              "outlinewidth": 0,
              "ticks": ""
             }
            },
            "type": "scatterpolar"
           }
          ],
          "scatterpolargl": [
           {
            "marker": {
             "colorbar": {
              "outlinewidth": 0,
              "ticks": ""
             }
            },
            "type": "scatterpolargl"
           }
          ],
          "scatterternary": [
           {
            "marker": {
             "colorbar": {
              "outlinewidth": 0,
              "ticks": ""
             }
            },
            "type": "scatterternary"
           }
          ],
          "surface": [
           {
            "colorbar": {
             "outlinewidth": 0,
             "ticks": ""
            },
            "colorscale": [
             [
              0,
              "#0d0887"
             ],
             [
              0.1111111111111111,
              "#46039f"
             ],
             [
              0.2222222222222222,
              "#7201a8"
             ],
             [
              0.3333333333333333,
              "#9c179e"
             ],
             [
              0.4444444444444444,
              "#bd3786"
             ],
             [
              0.5555555555555556,
              "#d8576b"
             ],
             [
              0.6666666666666666,
              "#ed7953"
             ],
             [
              0.7777777777777778,
              "#fb9f3a"
             ],
             [
              0.8888888888888888,
              "#fdca26"
             ],
             [
              1,
              "#f0f921"
             ]
            ],
            "type": "surface"
           }
          ],
          "table": [
           {
            "cells": {
             "fill": {
              "color": "#EBF0F8"
             },
             "line": {
              "color": "white"
             }
            },
            "header": {
             "fill": {
              "color": "#C8D4E3"
             },
             "line": {
              "color": "white"
             }
            },
            "type": "table"
           }
          ]
         },
         "layout": {
          "annotationdefaults": {
           "arrowcolor": "#2a3f5f",
           "arrowhead": 0,
           "arrowwidth": 1
          },
          "autotypenumbers": "strict",
          "coloraxis": {
           "colorbar": {
            "outlinewidth": 0,
            "ticks": ""
           }
          },
          "colorscale": {
           "diverging": [
            [
             0,
             "#8e0152"
            ],
            [
             0.1,
             "#c51b7d"
            ],
            [
             0.2,
             "#de77ae"
            ],
            [
             0.3,
             "#f1b6da"
            ],
            [
             0.4,
             "#fde0ef"
            ],
            [
             0.5,
             "#f7f7f7"
            ],
            [
             0.6,
             "#e6f5d0"
            ],
            [
             0.7,
             "#b8e186"
            ],
            [
             0.8,
             "#7fbc41"
            ],
            [
             0.9,
             "#4d9221"
            ],
            [
             1,
             "#276419"
            ]
           ],
           "sequential": [
            [
             0,
             "#0d0887"
            ],
            [
             0.1111111111111111,
             "#46039f"
            ],
            [
             0.2222222222222222,
             "#7201a8"
            ],
            [
             0.3333333333333333,
             "#9c179e"
            ],
            [
             0.4444444444444444,
             "#bd3786"
            ],
            [
             0.5555555555555556,
             "#d8576b"
            ],
            [
             0.6666666666666666,
             "#ed7953"
            ],
            [
             0.7777777777777778,
             "#fb9f3a"
            ],
            [
             0.8888888888888888,
             "#fdca26"
            ],
            [
             1,
             "#f0f921"
            ]
           ],
           "sequentialminus": [
            [
             0,
             "#0d0887"
            ],
            [
             0.1111111111111111,
             "#46039f"
            ],
            [
             0.2222222222222222,
             "#7201a8"
            ],
            [
             0.3333333333333333,
             "#9c179e"
            ],
            [
             0.4444444444444444,
             "#bd3786"
            ],
            [
             0.5555555555555556,
             "#d8576b"
            ],
            [
             0.6666666666666666,
             "#ed7953"
            ],
            [
             0.7777777777777778,
             "#fb9f3a"
            ],
            [
             0.8888888888888888,
             "#fdca26"
            ],
            [
             1,
             "#f0f921"
            ]
           ]
          },
          "colorway": [
           "#636efa",
           "#EF553B",
           "#00cc96",
           "#ab63fa",
           "#FFA15A",
           "#19d3f3",
           "#FF6692",
           "#B6E880",
           "#FF97FF",
           "#FECB52"
          ],
          "font": {
           "color": "#2a3f5f"
          },
          "geo": {
           "bgcolor": "white",
           "lakecolor": "white",
           "landcolor": "#E5ECF6",
           "showlakes": true,
           "showland": true,
           "subunitcolor": "white"
          },
          "hoverlabel": {
           "align": "left"
          },
          "hovermode": "closest",
          "mapbox": {
           "style": "light"
          },
          "paper_bgcolor": "white",
          "plot_bgcolor": "#E5ECF6",
          "polar": {
           "angularaxis": {
            "gridcolor": "white",
            "linecolor": "white",
            "ticks": ""
           },
           "bgcolor": "#E5ECF6",
           "radialaxis": {
            "gridcolor": "white",
            "linecolor": "white",
            "ticks": ""
           }
          },
          "scene": {
           "xaxis": {
            "backgroundcolor": "#E5ECF6",
            "gridcolor": "white",
            "gridwidth": 2,
            "linecolor": "white",
            "showbackground": true,
            "ticks": "",
            "zerolinecolor": "white"
           },
           "yaxis": {
            "backgroundcolor": "#E5ECF6",
            "gridcolor": "white",
            "gridwidth": 2,
            "linecolor": "white",
            "showbackground": true,
            "ticks": "",
            "zerolinecolor": "white"
           },
           "zaxis": {
            "backgroundcolor": "#E5ECF6",
            "gridcolor": "white",
            "gridwidth": 2,
            "linecolor": "white",
            "showbackground": true,
            "ticks": "",
            "zerolinecolor": "white"
           }
          },
          "shapedefaults": {
           "line": {
            "color": "#2a3f5f"
           }
          },
          "ternary": {
           "aaxis": {
            "gridcolor": "white",
            "linecolor": "white",
            "ticks": ""
           },
           "baxis": {
            "gridcolor": "white",
            "linecolor": "white",
            "ticks": ""
           },
           "bgcolor": "#E5ECF6",
           "caxis": {
            "gridcolor": "white",
            "linecolor": "white",
            "ticks": ""
           }
          },
          "title": {
           "x": 0.05
          },
          "xaxis": {
           "automargin": true,
           "gridcolor": "white",
           "linecolor": "white",
           "ticks": "",
           "title": {
            "standoff": 15
           },
           "zerolinecolor": "white",
           "zerolinewidth": 2
          },
          "yaxis": {
           "automargin": true,
           "gridcolor": "white",
           "linecolor": "white",
           "ticks": "",
           "title": {
            "standoff": 15
           },
           "zerolinecolor": "white",
           "zerolinewidth": 2
          }
         }
        },
        "title": {
         "text": "NVDA GEX of expiry 2022-09-16 on 2022-08-26 at 162.5517 \n",
         "x": 0.5
        },
        "width": 1000,
        "xaxis": {
         "anchor": "y",
         "domain": [
          0,
          1
         ],
         "matches": "x2",
         "showticklabels": false
        },
        "xaxis2": {
         "anchor": "y2",
         "domain": [
          0,
          1
         ]
        },
        "yaxis": {
         "anchor": "x",
         "domain": [
          0.5625,
          1
         ]
        },
        "yaxis2": {
         "anchor": "x2",
         "domain": [
          0,
          0.4375
         ]
        }
       }
      }
     },
     "metadata": {},
     "output_type": "display_data"
    }
   ],
   "source": [
    "plotgex(dfgex1, info1)"
   ]
  },
  {
   "cell_type": "markdown",
   "metadata": {},
   "source": [
    "### Compute GEX for general spot price "
   ]
  },
  {
   "cell_type": "code",
   "execution_count": 11,
   "metadata": {},
   "outputs": [],
   "source": [
    "def getnewgex(dfgex, info, spotprice=180, ptfactor=100, decplace=4):\n",
    "    \"\"\"Obtain total GEX of an option chain with arbitary underlying price.\"\"\"\n",
    "    # Alter underlying price\n",
    "    dfnewgex = dfgex.copy()\n",
    "    # Recompute option price, delta and gamma\n",
    "    dfnewgex.reset_index(inplace=True)\n",
    "    tdays = (info[2] - info[1]).days\n",
    "    colbs_c = dfnewgex.apply(lambda row: BSModel(spotprice, row['strike'], tdays, row['c_iv'] / 100), axis=1)\n",
    "    dfnewgex['c_close'] = np.round(colbs_c.apply(lambda x: x.cprice), 2)\n",
    "    dfnewgex['c_delta'] = np.round(colbs_c.apply(lambda x: x.cdelta), 4)\n",
    "    dfnewgex['c_gamma'] = colbs_c.apply(lambda x: x.gamma)\n",
    "    colbs_p = dfnewgex.apply(lambda row: BSModel(spotprice, row['strike'], tdays, row['p_iv'] / 100), axis=1)\n",
    "    dfnewgex['p_close'] = np.round(colbs_p.apply(lambda x: x.pprice), 2)\n",
    "    dfnewgex['p_delta'] = np.round(colbs_p.apply(lambda x: x.pdelta), 4)\n",
    "    dfnewgex['p_gamma'] = colbs_p.apply(lambda x: x.gamma)    \n",
    "    # GEX\n",
    "    dfnewgex['c_GEX'] = np.round(dfnewgex['c_gamma'] * dfnewgex['c_oi'] * ptfactor * spotprice / 100, decplace) \n",
    "    dfnewgex['p_GEX'] = np.round(dfnewgex['p_gamma'] * dfnewgex['p_oi'] * ptfactor * -1 * spotprice / 100, decplace)\n",
    "    dfnewgex['GEX'] = np.round(dfnewgex['c_GEX'] + dfnewgex['p_GEX'], decplace)\n",
    "    # Set back `strike` as index\n",
    "    dfnewgex.set_index('strike', inplace=True)\n",
    "    \n",
    "    return dfnewgex"
   ]
  },
  {
   "cell_type": "markdown",
   "metadata": {},
   "source": [
    "### Zero Gamma Level"
   ]
  },
  {
   "cell_type": "code",
   "execution_count": 12,
   "metadata": {},
   "outputs": [],
   "source": [
    "def get0gamma(dfchain, info, ptfactor=100, rangefactor=0.125, gridfactor=0.0125):\n",
    "    \"\"\"Obtain zero gamma level.\"\"\"\n",
    "    # GEX according to true underlying price\n",
    "    spotprice = info[-1]\n",
    "    dfgex = getgex(dfchain, spotprice)\n",
    "    cgex0, pgex0, ngex0 = gettotalgex(dfgex)\n",
    "    # Grid of spot price levels (in geometric sequence)\n",
    "    exprange = np.arange(-rangefactor, rangefactor, gridfactor)\n",
    "    spotlevels = [spotprice * np.exp(exp) for exp in exprange]\n",
    "\n",
    "    # Obtain GEX for all spot price levels\n",
    "    dfsumgex = pd.DataFrame()\n",
    "    for level in spotlevels:\n",
    "        dfnewgex = getnewgex(dfgex, info, level, ptfactor)\n",
    "        cgex, pgex, ngex = gettotalgex(dfnewgex)\n",
    "        dfsumgex.loc[level, 'c_GEX'] = cgex\n",
    "        dfsumgex.loc[level, 'p_GEX'] = pgex\n",
    "        dfsumgex.loc[level, 'GEX'] = ngex\n",
    "    # Obtain zero gamma level by linear interpolation\n",
    "    if (dfsumgex['GEX'].min() * dfsumgex['GEX'].max()) > 0:\n",
    "        zerogexlevel = None\n",
    "    else:\n",
    "        for p1, p2 in zip(dfsumgex.index[:-1], dfsumgex.index[1:]):\n",
    "            level1 = dfsumgex.loc[p1, 'GEX']\n",
    "            level2 = dfsumgex.loc[p2, 'GEX']\n",
    "            if level1 * level2 < 0:\n",
    "                zerogexlevel = round((p1 * level2 - p2 * level1) / (level2 - level1), 2)\n",
    "                break\n",
    "    # Visualize GEX at different spot price \n",
    "    fig = make_subplots(rows=1, cols=1, shared_xaxes=True, row_heights=[6.0], specs=[[{\"type\": \"scatter\"}]])\n",
    "    \n",
    "    fig.add_trace(go.Scatter(x=dfsumgex.index, y=dfsumgex['GEX'], mode='lines+markers', name='spot levels'), \n",
    "                  row=1, col=1)\n",
    "    \n",
    "    fig.add_trace(go.Scatter(x=[spotprice], y=[ngex0], mode='markers', name='spot price', \n",
    "                             marker=dict(size=20, color='#66dc19')), row=1, col=1)\n",
    "    \n",
    "    if zerogexlevel != None:\n",
    "        fig.add_trace(go.Scatter(x=[zerogexlevel], y=[0], mode='markers', name='0-gamma level', \n",
    "                                 marker=dict(size=20, color=' #ee195a')), row=1, col=1)\n",
    "        \n",
    "    tdstr = info[1].strftime('%Y-%m-%d')\n",
    "    expiry = info[2].strftime('%Y-%m-%d')\n",
    "    fig.update_layout(title=f'Gamma levels of {info[0]} of expiry {expiry} on {tdstr}', \n",
    "                      title_x=0.5, width=1000, height=800)\n",
    "    fig.show()\n",
    "\n",
    "    return dfsumgex, zerogexlevel"
   ]
  },
  {
   "cell_type": "code",
   "execution_count": 13,
   "metadata": {},
   "outputs": [
    {
     "name": "stderr",
     "output_type": "stream",
     "text": [
      "..\\bsoption\\bsmodel.py:37: RuntimeWarning:\n",
      "\n",
      "divide by zero encountered in double_scalars\n",
      "\n",
      "..\\bsoption\\bsmodel.py:33: RuntimeWarning:\n",
      "\n",
      "invalid value encountered in double_scalars\n",
      "\n"
     ]
    },
    {
     "data": {
      "application/vnd.plotly.v1+json": {
       "config": {
        "plotlyServerURL": "https://plot.ly"
       },
       "data": [
        {
         "mode": "lines+markers",
         "name": "spot levels",
         "type": "scatter",
         "x": [
          133.08607575510618,
          134.76009250972498,
          136.45516580297,
          138.17156049349185,
          139.90954477145308,
          141.66939020043304,
          143.4513717598604,
          145.25576788797932,
          147.0828605253559,
          148.93293515893197,
          150.80628086663305,
          152.7031903625373,
          154.62396004261274,
          156.56889003102975,
          158.53828422705595,
          160.5324503525413,
          162.55170000000004,
          164.5963486812978,
          166.66671587695086,
          168.76312508604576,
          170.8859038767866,
          173.0353839376783,
          175.2119011293534,
          177.41579553705142,
          179.6474115237573,
          181.9070977840093,
          184.19520739838288,
          186.51209788866055,
          188.85813127369514,
          191.23367412597608,
          193.63909762890714,
          196.07477763480452
         ],
         "xaxis": "x",
         "y": [
          -187637.58,
          -192352.69,
          -196419.95,
          -199750.78,
          -202256.73,
          -203850.57,
          -204447.61,
          -203967.13,
          -202333.89,
          -199479.92,
          -195346.45,
          -189886.06,
          -183065.02,
          -174865.77,
          -165289.47,
          -154358.57,
          -142119.05,
          -128642.45,
          -114027.3,
          -98399.77,
          -81913.45,
          -64748.05,
          -47106.98,
          -29213.66,
          -11306.78,
          6365.48,
          23552.08,
          40006.19,
          55492.49,
          69794.34,
          82720.41,
          94110.39
         ],
         "yaxis": "y"
        },
        {
         "marker": {
          "color": "#66dc19",
          "size": 20
         },
         "mode": "markers",
         "name": "spot price",
         "type": "scatter",
         "x": [
          162.5517
         ],
         "xaxis": "x",
         "y": [
          -142119.05
         ],
         "yaxis": "y"
        },
        {
         "marker": {
          "color": " #ee195a",
          "size": 20
         },
         "mode": "markers",
         "name": "0-gamma level",
         "type": "scatter",
         "x": [
          181.09
         ],
         "xaxis": "x",
         "y": [
          0
         ],
         "yaxis": "y"
        }
       ],
       "layout": {
        "height": 800,
        "template": {
         "data": {
          "bar": [
           {
            "error_x": {
             "color": "#2a3f5f"
            },
            "error_y": {
             "color": "#2a3f5f"
            },
            "marker": {
             "line": {
              "color": "#E5ECF6",
              "width": 0.5
             },
             "pattern": {
              "fillmode": "overlay",
              "size": 10,
              "solidity": 0.2
             }
            },
            "type": "bar"
           }
          ],
          "barpolar": [
           {
            "marker": {
             "line": {
              "color": "#E5ECF6",
              "width": 0.5
             },
             "pattern": {
              "fillmode": "overlay",
              "size": 10,
              "solidity": 0.2
             }
            },
            "type": "barpolar"
           }
          ],
          "carpet": [
           {
            "aaxis": {
             "endlinecolor": "#2a3f5f",
             "gridcolor": "white",
             "linecolor": "white",
             "minorgridcolor": "white",
             "startlinecolor": "#2a3f5f"
            },
            "baxis": {
             "endlinecolor": "#2a3f5f",
             "gridcolor": "white",
             "linecolor": "white",
             "minorgridcolor": "white",
             "startlinecolor": "#2a3f5f"
            },
            "type": "carpet"
           }
          ],
          "choropleth": [
           {
            "colorbar": {
             "outlinewidth": 0,
             "ticks": ""
            },
            "type": "choropleth"
           }
          ],
          "contour": [
           {
            "colorbar": {
             "outlinewidth": 0,
             "ticks": ""
            },
            "colorscale": [
             [
              0,
              "#0d0887"
             ],
             [
              0.1111111111111111,
              "#46039f"
             ],
             [
              0.2222222222222222,
              "#7201a8"
             ],
             [
              0.3333333333333333,
              "#9c179e"
             ],
             [
              0.4444444444444444,
              "#bd3786"
             ],
             [
              0.5555555555555556,
              "#d8576b"
             ],
             [
              0.6666666666666666,
              "#ed7953"
             ],
             [
              0.7777777777777778,
              "#fb9f3a"
             ],
             [
              0.8888888888888888,
              "#fdca26"
             ],
             [
              1,
              "#f0f921"
             ]
            ],
            "type": "contour"
           }
          ],
          "contourcarpet": [
           {
            "colorbar": {
             "outlinewidth": 0,
             "ticks": ""
            },
            "type": "contourcarpet"
           }
          ],
          "heatmap": [
           {
            "colorbar": {
             "outlinewidth": 0,
             "ticks": ""
            },
            "colorscale": [
             [
              0,
              "#0d0887"
             ],
             [
              0.1111111111111111,
              "#46039f"
             ],
             [
              0.2222222222222222,
              "#7201a8"
             ],
             [
              0.3333333333333333,
              "#9c179e"
             ],
             [
              0.4444444444444444,
              "#bd3786"
             ],
             [
              0.5555555555555556,
              "#d8576b"
             ],
             [
              0.6666666666666666,
              "#ed7953"
             ],
             [
              0.7777777777777778,
              "#fb9f3a"
             ],
             [
              0.8888888888888888,
              "#fdca26"
             ],
             [
              1,
              "#f0f921"
             ]
            ],
            "type": "heatmap"
           }
          ],
          "heatmapgl": [
           {
            "colorbar": {
             "outlinewidth": 0,
             "ticks": ""
            },
            "colorscale": [
             [
              0,
              "#0d0887"
             ],
             [
              0.1111111111111111,
              "#46039f"
             ],
             [
              0.2222222222222222,
              "#7201a8"
             ],
             [
              0.3333333333333333,
              "#9c179e"
             ],
             [
              0.4444444444444444,
              "#bd3786"
             ],
             [
              0.5555555555555556,
              "#d8576b"
             ],
             [
              0.6666666666666666,
              "#ed7953"
             ],
             [
              0.7777777777777778,
              "#fb9f3a"
             ],
             [
              0.8888888888888888,
              "#fdca26"
             ],
             [
              1,
              "#f0f921"
             ]
            ],
            "type": "heatmapgl"
           }
          ],
          "histogram": [
           {
            "marker": {
             "pattern": {
              "fillmode": "overlay",
              "size": 10,
              "solidity": 0.2
             }
            },
            "type": "histogram"
           }
          ],
          "histogram2d": [
           {
            "colorbar": {
             "outlinewidth": 0,
             "ticks": ""
            },
            "colorscale": [
             [
              0,
              "#0d0887"
             ],
             [
              0.1111111111111111,
              "#46039f"
             ],
             [
              0.2222222222222222,
              "#7201a8"
             ],
             [
              0.3333333333333333,
              "#9c179e"
             ],
             [
              0.4444444444444444,
              "#bd3786"
             ],
             [
              0.5555555555555556,
              "#d8576b"
             ],
             [
              0.6666666666666666,
              "#ed7953"
             ],
             [
              0.7777777777777778,
              "#fb9f3a"
             ],
             [
              0.8888888888888888,
              "#fdca26"
             ],
             [
              1,
              "#f0f921"
             ]
            ],
            "type": "histogram2d"
           }
          ],
          "histogram2dcontour": [
           {
            "colorbar": {
             "outlinewidth": 0,
             "ticks": ""
            },
            "colorscale": [
             [
              0,
              "#0d0887"
             ],
             [
              0.1111111111111111,
              "#46039f"
             ],
             [
              0.2222222222222222,
              "#7201a8"
             ],
             [
              0.3333333333333333,
              "#9c179e"
             ],
             [
              0.4444444444444444,
              "#bd3786"
             ],
             [
              0.5555555555555556,
              "#d8576b"
             ],
             [
              0.6666666666666666,
              "#ed7953"
             ],
             [
              0.7777777777777778,
              "#fb9f3a"
             ],
             [
              0.8888888888888888,
              "#fdca26"
             ],
             [
              1,
              "#f0f921"
             ]
            ],
            "type": "histogram2dcontour"
           }
          ],
          "mesh3d": [
           {
            "colorbar": {
             "outlinewidth": 0,
             "ticks": ""
            },
            "type": "mesh3d"
           }
          ],
          "parcoords": [
           {
            "line": {
             "colorbar": {
              "outlinewidth": 0,
              "ticks": ""
             }
            },
            "type": "parcoords"
           }
          ],
          "pie": [
           {
            "automargin": true,
            "type": "pie"
           }
          ],
          "scatter": [
           {
            "fillpattern": {
             "fillmode": "overlay",
             "size": 10,
             "solidity": 0.2
            },
            "type": "scatter"
           }
          ],
          "scatter3d": [
           {
            "line": {
             "colorbar": {
              "outlinewidth": 0,
              "ticks": ""
             }
            },
            "marker": {
             "colorbar": {
              "outlinewidth": 0,
              "ticks": ""
             }
            },
            "type": "scatter3d"
           }
          ],
          "scattercarpet": [
           {
            "marker": {
             "colorbar": {
              "outlinewidth": 0,
              "ticks": ""
             }
            },
            "type": "scattercarpet"
           }
          ],
          "scattergeo": [
           {
            "marker": {
             "colorbar": {
              "outlinewidth": 0,
              "ticks": ""
             }
            },
            "type": "scattergeo"
           }
          ],
          "scattergl": [
           {
            "marker": {
             "colorbar": {
              "outlinewidth": 0,
              "ticks": ""
             }
            },
            "type": "scattergl"
           }
          ],
          "scattermapbox": [
           {
            "marker": {
             "colorbar": {
              "outlinewidth": 0,
              "ticks": ""
             }
            },
            "type": "scattermapbox"
           }
          ],
          "scatterpolar": [
           {
            "marker": {
             "colorbar": {
              "outlinewidth": 0,
              "ticks": ""
             }
            },
            "type": "scatterpolar"
           }
          ],
          "scatterpolargl": [
           {
            "marker": {
             "colorbar": {
              "outlinewidth": 0,
              "ticks": ""
             }
            },
            "type": "scatterpolargl"
           }
          ],
          "scatterternary": [
           {
            "marker": {
             "colorbar": {
              "outlinewidth": 0,
              "ticks": ""
             }
            },
            "type": "scatterternary"
           }
          ],
          "surface": [
           {
            "colorbar": {
             "outlinewidth": 0,
             "ticks": ""
            },
            "colorscale": [
             [
              0,
              "#0d0887"
             ],
             [
              0.1111111111111111,
              "#46039f"
             ],
             [
              0.2222222222222222,
              "#7201a8"
             ],
             [
              0.3333333333333333,
              "#9c179e"
             ],
             [
              0.4444444444444444,
              "#bd3786"
             ],
             [
              0.5555555555555556,
              "#d8576b"
             ],
             [
              0.6666666666666666,
              "#ed7953"
             ],
             [
              0.7777777777777778,
              "#fb9f3a"
             ],
             [
              0.8888888888888888,
              "#fdca26"
             ],
             [
              1,
              "#f0f921"
             ]
            ],
            "type": "surface"
           }
          ],
          "table": [
           {
            "cells": {
             "fill": {
              "color": "#EBF0F8"
             },
             "line": {
              "color": "white"
             }
            },
            "header": {
             "fill": {
              "color": "#C8D4E3"
             },
             "line": {
              "color": "white"
             }
            },
            "type": "table"
           }
          ]
         },
         "layout": {
          "annotationdefaults": {
           "arrowcolor": "#2a3f5f",
           "arrowhead": 0,
           "arrowwidth": 1
          },
          "autotypenumbers": "strict",
          "coloraxis": {
           "colorbar": {
            "outlinewidth": 0,
            "ticks": ""
           }
          },
          "colorscale": {
           "diverging": [
            [
             0,
             "#8e0152"
            ],
            [
             0.1,
             "#c51b7d"
            ],
            [
             0.2,
             "#de77ae"
            ],
            [
             0.3,
             "#f1b6da"
            ],
            [
             0.4,
             "#fde0ef"
            ],
            [
             0.5,
             "#f7f7f7"
            ],
            [
             0.6,
             "#e6f5d0"
            ],
            [
             0.7,
             "#b8e186"
            ],
            [
             0.8,
             "#7fbc41"
            ],
            [
             0.9,
             "#4d9221"
            ],
            [
             1,
             "#276419"
            ]
           ],
           "sequential": [
            [
             0,
             "#0d0887"
            ],
            [
             0.1111111111111111,
             "#46039f"
            ],
            [
             0.2222222222222222,
             "#7201a8"
            ],
            [
             0.3333333333333333,
             "#9c179e"
            ],
            [
             0.4444444444444444,
             "#bd3786"
            ],
            [
             0.5555555555555556,
             "#d8576b"
            ],
            [
             0.6666666666666666,
             "#ed7953"
            ],
            [
             0.7777777777777778,
             "#fb9f3a"
            ],
            [
             0.8888888888888888,
             "#fdca26"
            ],
            [
             1,
             "#f0f921"
            ]
           ],
           "sequentialminus": [
            [
             0,
             "#0d0887"
            ],
            [
             0.1111111111111111,
             "#46039f"
            ],
            [
             0.2222222222222222,
             "#7201a8"
            ],
            [
             0.3333333333333333,
             "#9c179e"
            ],
            [
             0.4444444444444444,
             "#bd3786"
            ],
            [
             0.5555555555555556,
             "#d8576b"
            ],
            [
             0.6666666666666666,
             "#ed7953"
            ],
            [
             0.7777777777777778,
             "#fb9f3a"
            ],
            [
             0.8888888888888888,
             "#fdca26"
            ],
            [
             1,
             "#f0f921"
            ]
           ]
          },
          "colorway": [
           "#636efa",
           "#EF553B",
           "#00cc96",
           "#ab63fa",
           "#FFA15A",
           "#19d3f3",
           "#FF6692",
           "#B6E880",
           "#FF97FF",
           "#FECB52"
          ],
          "font": {
           "color": "#2a3f5f"
          },
          "geo": {
           "bgcolor": "white",
           "lakecolor": "white",
           "landcolor": "#E5ECF6",
           "showlakes": true,
           "showland": true,
           "subunitcolor": "white"
          },
          "hoverlabel": {
           "align": "left"
          },
          "hovermode": "closest",
          "mapbox": {
           "style": "light"
          },
          "paper_bgcolor": "white",
          "plot_bgcolor": "#E5ECF6",
          "polar": {
           "angularaxis": {
            "gridcolor": "white",
            "linecolor": "white",
            "ticks": ""
           },
           "bgcolor": "#E5ECF6",
           "radialaxis": {
            "gridcolor": "white",
            "linecolor": "white",
            "ticks": ""
           }
          },
          "scene": {
           "xaxis": {
            "backgroundcolor": "#E5ECF6",
            "gridcolor": "white",
            "gridwidth": 2,
            "linecolor": "white",
            "showbackground": true,
            "ticks": "",
            "zerolinecolor": "white"
           },
           "yaxis": {
            "backgroundcolor": "#E5ECF6",
            "gridcolor": "white",
            "gridwidth": 2,
            "linecolor": "white",
            "showbackground": true,
            "ticks": "",
            "zerolinecolor": "white"
           },
           "zaxis": {
            "backgroundcolor": "#E5ECF6",
            "gridcolor": "white",
            "gridwidth": 2,
            "linecolor": "white",
            "showbackground": true,
            "ticks": "",
            "zerolinecolor": "white"
           }
          },
          "shapedefaults": {
           "line": {
            "color": "#2a3f5f"
           }
          },
          "ternary": {
           "aaxis": {
            "gridcolor": "white",
            "linecolor": "white",
            "ticks": ""
           },
           "baxis": {
            "gridcolor": "white",
            "linecolor": "white",
            "ticks": ""
           },
           "bgcolor": "#E5ECF6",
           "caxis": {
            "gridcolor": "white",
            "linecolor": "white",
            "ticks": ""
           }
          },
          "title": {
           "x": 0.05
          },
          "xaxis": {
           "automargin": true,
           "gridcolor": "white",
           "linecolor": "white",
           "ticks": "",
           "title": {
            "standoff": 15
           },
           "zerolinecolor": "white",
           "zerolinewidth": 2
          },
          "yaxis": {
           "automargin": true,
           "gridcolor": "white",
           "linecolor": "white",
           "ticks": "",
           "title": {
            "standoff": 15
           },
           "zerolinecolor": "white",
           "zerolinewidth": 2
          }
         }
        },
        "title": {
         "text": "Gamma levels of NVDA of expiry 2022-09-16 on 2022-08-26",
         "x": 0.5
        },
        "width": 1000,
        "xaxis": {
         "anchor": "y",
         "domain": [
          0,
          1
         ]
        },
        "yaxis": {
         "anchor": "x",
         "domain": [
          0,
          1
         ]
        }
       }
      }
     },
     "metadata": {},
     "output_type": "display_data"
    }
   ],
   "source": [
    "dfsumgex1, zerogexlevel0 = get0gamma(dfop1, info1, rangefactor=0.2)"
   ]
  },
  {
   "cell_type": "code",
   "execution_count": null,
   "metadata": {},
   "outputs": [],
   "source": []
  },
  {
   "cell_type": "code",
   "execution_count": null,
   "metadata": {},
   "outputs": [],
   "source": []
  },
  {
   "cell_type": "code",
   "execution_count": null,
   "metadata": {},
   "outputs": [],
   "source": []
  },
  {
   "cell_type": "code",
   "execution_count": null,
   "metadata": {},
   "outputs": [],
   "source": []
  }
 ],
 "metadata": {
  "kernelspec": {
   "display_name": "Python 3",
   "language": "python",
   "name": "python3"
  },
  "language_info": {
   "codemirror_mode": {
    "name": "ipython",
    "version": 3
   },
   "file_extension": ".py",
   "mimetype": "text/x-python",
   "name": "python",
   "nbconvert_exporter": "python",
   "pygments_lexer": "ipython3",
   "version": "3.8.5"
  },
  "vscode": {
   "interpreter": {
    "hash": "88279d2366fe020547cde40dd65aa0e3aa662a6ec1f3ca12d88834876c85e1a6"
   }
  }
 },
 "nbformat": 4,
 "nbformat_minor": 4
}
