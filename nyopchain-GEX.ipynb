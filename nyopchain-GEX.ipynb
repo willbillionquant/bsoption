{
 "cells": [
  {
   "cell_type": "markdown",
   "metadata": {},
   "source": [
    "## Modules"
   ]
  },
  {
   "cell_type": "code",
   "execution_count": 6,
   "metadata": {},
   "outputs": [],
   "source": [
    "import os\n",
    "import sys\n",
    "sys.path.append('..')\n",
    "\n",
    "from datetime import datetime, timedelta\n",
    "import numpy as np\n",
    "import pandas as pd\n",
    "from sqlalchemy import create_engine\n",
    "\n",
    "from bsoption.nyopchain import NYopchain\n",
    "Opchain = NYopchain()\n",
    "\n",
    "from litedata import *\n",
    "from litedata.litedb import Litedata\n",
    "from litedata.loadyahoodata import getyahoodata\n",
    "\n",
    "Litedb = Litedata('yahoo')"
   ]
  },
  {
   "cell_type": "markdown",
   "metadata": {},
   "source": [
    "### US stock list setting"
   ]
  },
  {
   "cell_type": "code",
   "execution_count": 2,
   "metadata": {},
   "outputs": [],
   "source": [
    "from configparser import ConfigParser\n",
    "configchain = ConfigParser()\n",
    "configchain.read('setting_yahoochain.ini')\n",
    "chainpath = configchain['paths'].get('chainpath')\n",
    "\n",
    "configassets = configchain['assets']\n",
    "etflist = list(configassets.get('etf').split(','))\n",
    "chipslist = list(configassets.get('chip').split(','))\n",
    "assetlist = etflist + chipslist"
   ]
  },
  {
   "cell_type": "markdown",
   "metadata": {},
   "source": [
    "## Gamma Exposure (GEX)"
   ]
  },
  {
   "cell_type": "markdown",
   "metadata": {},
   "source": [
    "### OHLC of all stocks"
   ]
  },
  {
   "cell_type": "code",
   "execution_count": 7,
   "metadata": {},
   "outputs": [
    {
     "name": "stdout",
     "output_type": "stream",
     "text": [
      "[*********************100%***********************]  24 of 24 completed\n"
     ]
    },
    {
     "name": "stderr",
     "output_type": "stream",
     "text": [
      "d:\\Anaconda\\lib\\site-packages\\IPython\\core\\interactiveshell.py:2923: PerformanceWarning: indexing past lexsort depth may impact performance.\n",
      "  return runner(coro)\n",
      "d:\\Anaconda\\lib\\site-packages\\IPython\\core\\interactiveshell.py:2923: PerformanceWarning: indexing past lexsort depth may impact performance.\n",
      "  return runner(coro)\n",
      "d:\\Anaconda\\lib\\site-packages\\IPython\\core\\interactiveshell.py:2923: PerformanceWarning: indexing past lexsort depth may impact performance.\n",
      "  return runner(coro)\n",
      "d:\\Anaconda\\lib\\site-packages\\IPython\\core\\interactiveshell.py:2923: PerformanceWarning: indexing past lexsort depth may impact performance.\n",
      "  return runner(coro)\n",
      "d:\\Anaconda\\lib\\site-packages\\IPython\\core\\interactiveshell.py:2923: PerformanceWarning: indexing past lexsort depth may impact performance.\n",
      "  return runner(coro)\n",
      "d:\\Anaconda\\lib\\site-packages\\IPython\\core\\interactiveshell.py:2923: PerformanceWarning: indexing past lexsort depth may impact performance.\n",
      "  return runner(coro)\n",
      "d:\\Anaconda\\lib\\site-packages\\IPython\\core\\interactiveshell.py:2923: PerformanceWarning: indexing past lexsort depth may impact performance.\n",
      "  return runner(coro)\n",
      "d:\\Anaconda\\lib\\site-packages\\IPython\\core\\interactiveshell.py:2923: PerformanceWarning: indexing past lexsort depth may impact performance.\n",
      "  return runner(coro)\n",
      "d:\\Anaconda\\lib\\site-packages\\IPython\\core\\interactiveshell.py:2923: PerformanceWarning: indexing past lexsort depth may impact performance.\n",
      "  return runner(coro)\n",
      "d:\\Anaconda\\lib\\site-packages\\IPython\\core\\interactiveshell.py:2923: PerformanceWarning: indexing past lexsort depth may impact performance.\n",
      "  return runner(coro)\n",
      "d:\\Anaconda\\lib\\site-packages\\IPython\\core\\interactiveshell.py:2923: PerformanceWarning: indexing past lexsort depth may impact performance.\n",
      "  return runner(coro)\n",
      "d:\\Anaconda\\lib\\site-packages\\IPython\\core\\interactiveshell.py:2923: PerformanceWarning: indexing past lexsort depth may impact performance.\n",
      "  return runner(coro)\n",
      "d:\\Anaconda\\lib\\site-packages\\IPython\\core\\interactiveshell.py:2923: PerformanceWarning: indexing past lexsort depth may impact performance.\n",
      "  return runner(coro)\n",
      "d:\\Anaconda\\lib\\site-packages\\IPython\\core\\interactiveshell.py:2923: PerformanceWarning: indexing past lexsort depth may impact performance.\n",
      "  return runner(coro)\n",
      "d:\\Anaconda\\lib\\site-packages\\IPython\\core\\interactiveshell.py:2923: PerformanceWarning: indexing past lexsort depth may impact performance.\n",
      "  return runner(coro)\n",
      "d:\\Anaconda\\lib\\site-packages\\IPython\\core\\interactiveshell.py:2923: PerformanceWarning: indexing past lexsort depth may impact performance.\n",
      "  return runner(coro)\n",
      "d:\\Anaconda\\lib\\site-packages\\IPython\\core\\interactiveshell.py:2923: PerformanceWarning: indexing past lexsort depth may impact performance.\n",
      "  return runner(coro)\n",
      "d:\\Anaconda\\lib\\site-packages\\IPython\\core\\interactiveshell.py:2923: PerformanceWarning: indexing past lexsort depth may impact performance.\n",
      "  return runner(coro)\n",
      "d:\\Anaconda\\lib\\site-packages\\IPython\\core\\interactiveshell.py:2923: PerformanceWarning: indexing past lexsort depth may impact performance.\n",
      "  return runner(coro)\n",
      "d:\\Anaconda\\lib\\site-packages\\IPython\\core\\interactiveshell.py:2923: PerformanceWarning: indexing past lexsort depth may impact performance.\n",
      "  return runner(coro)\n",
      "d:\\Anaconda\\lib\\site-packages\\IPython\\core\\interactiveshell.py:2923: PerformanceWarning: indexing past lexsort depth may impact performance.\n",
      "  return runner(coro)\n",
      "d:\\Anaconda\\lib\\site-packages\\IPython\\core\\interactiveshell.py:2923: PerformanceWarning: indexing past lexsort depth may impact performance.\n",
      "  return runner(coro)\n",
      "d:\\Anaconda\\lib\\site-packages\\IPython\\core\\interactiveshell.py:2923: PerformanceWarning: indexing past lexsort depth may impact performance.\n",
      "  return runner(coro)\n",
      "d:\\Anaconda\\lib\\site-packages\\IPython\\core\\interactiveshell.py:2923: PerformanceWarning: indexing past lexsort depth may impact performance.\n",
      "  return runner(coro)\n"
     ]
    },
    {
     "data": {
      "text/plain": [
       "date\n",
       "2022-10-03    125.12\n",
       "2022-10-04    131.67\n",
       "2022-10-05    132.09\n",
       "2022-10-06    131.30\n",
       "2022-10-07    120.76\n",
       "2022-10-10    116.70\n",
       "2022-10-11    115.86\n",
       "2022-10-12    115.00\n",
       "2022-10-13    119.60\n",
       "2022-10-14    112.27\n",
       "2022-10-17    118.88\n",
       "2022-10-18    119.67\n",
       "2022-10-19    120.51\n",
       "2022-10-20    121.94\n",
       "2022-10-21    124.66\n",
       "2022-10-24    125.99\n",
       "2022-10-25    132.61\n",
       "2022-10-26    128.96\n",
       "2022-10-27    131.76\n",
       "2022-10-28    138.34\n",
       "2022-10-31    134.97\n",
       "2022-11-01    135.43\n",
       "2022-11-02    132.19\n",
       "2022-11-03    134.21\n",
       "2022-11-04    141.56\n",
       "Name: NVDA_cl, dtype: float64"
      ]
     },
     "execution_count": 7,
     "metadata": {},
     "output_type": "execute_result"
    }
   ],
   "source": [
    "dfohlcall = getyahoodata(assetlist)"
   ]
  },
  {
   "cell_type": "code",
   "execution_count": null,
   "metadata": {},
   "outputs": [],
   "source": []
  },
  {
   "cell_type": "code",
   "execution_count": null,
   "metadata": {},
   "outputs": [],
   "source": []
  }
 ],
 "metadata": {
  "kernelspec": {
   "display_name": "Python 3.8.5 ('base')",
   "language": "python",
   "name": "python3"
  },
  "language_info": {
   "codemirror_mode": {
    "name": "ipython",
    "version": 3
   },
   "file_extension": ".py",
   "mimetype": "text/x-python",
   "name": "python",
   "nbconvert_exporter": "python",
   "pygments_lexer": "ipython3",
   "version": "3.8.5"
  },
  "vscode": {
   "interpreter": {
    "hash": "88279d2366fe020547cde40dd65aa0e3aa662a6ec1f3ca12d88834876c85e1a6"
   }
  }
 },
 "nbformat": 4,
 "nbformat_minor": 4
}
