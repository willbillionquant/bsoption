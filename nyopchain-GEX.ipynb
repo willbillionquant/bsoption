{
 "cells": [
  {
   "cell_type": "markdown",
   "metadata": {},
   "source": [
    "## Modules"
   ]
  },
  {
   "cell_type": "code",
   "execution_count": 1,
   "metadata": {},
   "outputs": [],
   "source": [
    "import os\n",
    "import sys\n",
    "sys.path.append('..')\n",
    "\n",
    "\n",
    "import plotly.graph_objects as go\n",
    "from plotly.subplots import make_subplots\n",
    "\n",
    "from bsoption.bsmodel import BSModel\n",
    "from bsoption.nyopchain import NYopchain\n",
    "Opchain = NYopchain()\n",
    "\n",
    "from litedata import *\n",
    "from litedata.loadyahoodata import getyahoodata"
   ]
  },
  {
   "cell_type": "markdown",
   "metadata": {},
   "source": [
    "### US stock list setting"
   ]
  },
  {
   "cell_type": "code",
   "execution_count": null,
   "metadata": {},
   "outputs": [],
   "source": [
    "from configparser import ConfigParser\n",
    "configchain = ConfigParser()\n",
    "configchain.read('setting_yahoochain.ini')\n",
    "chainpath = configchain['paths'].get('chainpath')\n",
    "\n",
    "configassets = configchain['assets']\n",
    "etflist = list(configassets.get('etf').split(','))\n",
    "chipslist = list(configassets.get('chip').split(','))\n",
    "assetlist = etflist + chipslist"
   ]
  },
  {
   "cell_type": "markdown",
   "metadata": {},
   "source": [
    "## Gamma Exposure (GEX)"
   ]
  },
  {
   "cell_type": "markdown",
   "metadata": {},
   "source": [
    "### OHLC of all stocks"
   ]
  },
  {
   "cell_type": "code",
   "execution_count": null,
   "metadata": {},
   "outputs": [],
   "source": [
    "dfohlcall = getyahoodata(assetlist)"
   ]
  },
  {
   "cell_type": "markdown",
   "metadata": {},
   "source": [
    "### Option chain with closing price >= 0.05 with greeks"
   ]
  },
  {
   "cell_type": "code",
   "execution_count": null,
   "metadata": {},
   "outputs": [],
   "source": [
    "def loadopchain(daystr='2022-10-03', expiry='2022-10-14', asset='NVDA', bounds=(0, 1000), opbound=0.05):\n",
    "    \"\"\"Obtain all options of the same expiry with closing price > 0.01 with greeks.\"\"\"\n",
    "    # inputdict for `.loadopdata()` method and query\n",
    "    inputdict = {'asset': asset,  'optype': ('C', 'P'), \n",
    "                 'strike_lowerbound': bounds[0], 'strike_upperbound': bounds[1],  \n",
    "                 'startexpiry': expiry,  'endexpiry': expiry,  'starttd': daystr,  'endtd': daystr}\n",
    "    dfop = Opchain.loadopdata(inputdict)\n",
    "    # Filter strike price with BOTH call & put price over 1.00\n",
    "    dfcall = dfop[(dfop['optype'] == 'C') & (dfop['mid'] >= opbound)]\n",
    "    dfput = dfop[(dfop['optype'] == 'P') & (dfop['mid'] >= opbound)]\n",
    "    strikeset = set(dfcall['strike']).intersection(set(dfput['strike']))\n",
    "    dfop = dfop[dfop['strike'].isin(strikeset)]\n",
    "    # Underlying close price\n",
    "    spotprice = dfohlcall.loc[daystr, f'{asset}_cl']\n",
    "    dfop[f'{asset}_cl'] = spotprice\n",
    "    # Dummy column of `BSmodel()` object\n",
    "    tdays = (datetime.strptime(expiry, '%Y-%m-%d') - datetime.strptime(daystr, '%Y-%m-%d')).days\n",
    "    dfop['BS'] = dfop.apply(lambda row: BSModel(spotprice, row['strike'], tdays, row['iv'] / 100), axis=1)\n",
    "    # split option dataframe into call & put and compute delta and theta separately\n",
    "    dfcall = dfop[dfop['optype'] == 'C']\n",
    "    dfput = dfop[dfop['optype'] == 'P']\n",
    "    dfcall['delta'] = dfcall['BS'].apply(lambda x: x.cdelta)\n",
    "    dfcall['theta'] = dfcall['BS'].apply(lambda x: x.ctheta)\n",
    "    dfput['delta'] = dfput['BS'].apply(lambda x: x.pdelta)\n",
    "    dfput['theta'] = dfput['BS'].apply(lambda x: x.ptheta)\n",
    "    dfop = pd.concat([dfcall, dfput], axis=0)\n",
    "    # Compute vega & gamma columns (irrelevant of call/put)\n",
    "    dfop['vega'] = dfop['BS'].apply(lambda x: x.vega)\n",
    "    dfop['gamma'] = dfop['BS'].apply(lambda x: x.gamma)\n",
    "    # Drop dummy column\n",
    "    dfop.drop('BS', axis=1, inplace=True)\n",
    "    \n",
    "    return dfop"
   ]
  },
  {
   "cell_type": "code",
   "execution_count": null,
   "metadata": {},
   "outputs": [],
   "source": [
    "asset0 = 'NVDA'\n",
    "dfop1, info1 = Opchain.loaddayopchain(dfohlcall, tradeday='2022-08-26', expiry='2022-09-16', asset=asset0)\n",
    "dfop1"
   ]
  },
  {
   "cell_type": "markdown",
   "metadata": {},
   "source": [
    "### Gamma exposure function"
   ]
  },
  {
   "cell_type": "code",
   "execution_count": null,
   "metadata": {},
   "outputs": [],
   "source": [
    "def getgex(dfchain, asset='NVDA'):\n",
    "    \"\"\"Obtain gamma exposure of each option contract per 1% move of underlying.\"\"\"\n",
    "    ## Attach GEX column\n",
    "    dfgex = dfchain.copy()\n",
    "    putfactor = lambda x: -1 if (x == 'P') else 1\n",
    "    colfactor = pd.to_numeric(((dfgex['optype']).apply(putfactor)))\n",
    "    dfgex['GEX'] = dfgex['gamma'] * dfgex['oi'] * colfactor * 100\n",
    "    # Split into call & put dataframe\n",
    "    collist = ['tradedate', 'expiry', f'{asset}_cl', 'strike', 'mid', 'iv', 'oi', 'delta', 'gamma', 'GEX']\n",
    "    dfcall = dfgex[dfgex['optype'] == 'C'][collist]\n",
    "    dfcall.rename(columns={field: f'c_{field}' for field in collist[4:]}, inplace=True)\n",
    "    dfcall['c_GEX'] *= dfgex[f'{asset}_cl'].iloc[0] / 100\n",
    "    dfcall.set_index('strike', inplace=True)\n",
    "    dfput = dfgex[dfgex['optype'] == 'P'][collist[3:]]\n",
    "    dfput.rename(columns={field: f'p_{field}' for field in collist[4:]}, inplace=True)\n",
    "    dfput['p_GEX'] *= dfgex[f'{asset}_cl'].iloc[0] / 100\n",
    "    dfput.set_index('strike', inplace=True)\n",
    "    # Concat along columns\n",
    "    dfgex = pd.concat([dfcall, dfput], axis=1)\n",
    "    # Net GEX (call GEX + put GEX)\n",
    "    dfgex['GEX'] = dfgex['c_GEX'] + dfgex['p_GEX']\n",
    "    for col in ['c_GEX', 'p_GEX', 'GEX']:\n",
    "        dfgex[col] = np.round(dfgex[col], 4)\n",
    "    \n",
    "    return dfgex"
   ]
  },
  {
   "cell_type": "code",
   "execution_count": null,
   "metadata": {},
   "outputs": [],
   "source": [
    "dfgex1 = getgex(dfop1, asset=asset0)\n",
    "dfgex1[(dfgex1['c_mid'] > 1) & (dfgex1['p_mid'] > 1)]"
   ]
  },
  {
   "cell_type": "markdown",
   "metadata": {},
   "source": [
    "### Visualize GEX"
   ]
  },
  {
   "cell_type": "code",
   "execution_count": null,
   "metadata": {},
   "outputs": [],
   "source": [
    "def gettotalgex(dfgex):\n",
    "    \"\"\"Obtain call-GEX, put-GEX and total-GEX.\"\"\"\n",
    "    return round(dfgex['c_GEX'].sum(), 2), round(dfgex['p_GEX'].sum(), 2), round(dfgex['GEX'].sum(), 2)\n",
    "\n",
    "def plotgex(dfgex, asset='NVDA'):\n",
    "    \"\"\"Plot call GEX, put GEX and net GEX.\"\"\"\n",
    "    tdate = (dfgex['tradedate'].iloc[0]).strftime('%Y-%m-%d')\n",
    "    expiry = (dfgex['expiry'].iloc[0]).strftime('%Y-%m-%d')\n",
    "    spotprice = dfgex[f'{asset}_cl'].iloc[0]\n",
    "    gexsum_c, gexsum_p, gexsum = gettotalgex(dfgex)\n",
    "    \n",
    "    fig = make_subplots(rows=2, cols=1, shared_xaxes=True, vertical_spacing=0.125, row_heights=[8.0, 8.0],\n",
    "                        specs=[[{\"type\": \"bar\"}], [{\"type\": \"bar\"}]], \n",
    "                        subplot_titles=(f'Call-GEX: {gexsum_c}, Put-GEX: {gexsum_p}', f'Net GEX: {gexsum}'))\n",
    "        \n",
    "    fig.add_trace(go.Bar(x=dfgex.index, y=dfgex['c_GEX'], name=\"Call GEX\",\n",
    "                         marker=dict(color='#34dd74', line=dict(color='#34dd74', width=2))), \n",
    "                  row=1, col=1)\n",
    "    \n",
    "    fig.add_trace(go.Bar(x=dfgex.index, y=dfgex['p_GEX'], name=\"Put GEX\",\n",
    "                         marker=dict(color='#dd3462', line=dict(color='#dd3462', width=2))), \n",
    "                  row=1, col=1)\n",
    "    \n",
    "    fig.add_trace(go.Bar(x=dfgex.index, y=dfgex['GEX'], name=\"GEX\",\n",
    "                         marker=dict(color='#1956ee', line=dict(color='#1956ee', width=2))), \n",
    "                  row=2, col=1)\n",
    "    \n",
    "    titletext = f'{asset} GEX of expiry {expiry} on {tdate} at {spotprice} \\n'\n",
    "    \n",
    "    fig.update_layout(title=titletext, title_x=0.5, width=1000, height=800)\n",
    "    fig.show()"
   ]
  },
  {
   "cell_type": "code",
   "execution_count": null,
   "metadata": {},
   "outputs": [],
   "source": [
    "plotgex(dfgex1, asset=asset0)"
   ]
  },
  {
   "cell_type": "markdown",
   "metadata": {},
   "source": [
    "### Compute GEX for general spot price "
   ]
  },
  {
   "cell_type": "code",
   "execution_count": null,
   "metadata": {},
   "outputs": [],
   "source": [
    "def getnewgex(dfgex, asset='NVDA', spotprice=180):\n",
    "    \"\"\"Obtain total GEX of an option chain with arbitary underlying price.\"\"\"\n",
    "    # Alter underlying price\n",
    "    dfnewgex = dfgex.copy()\n",
    "    dfnewgex[f'{asset}_cl'] = spotprice\n",
    "    # Recompute option price, delta and gamma\n",
    "    dfnewgex.reset_index(inplace=True)\n",
    "    tdate = dfnewgex['tradedate'].iloc[0]\n",
    "    expiry = dfnewgex['expiry'].iloc[0]\n",
    "    tdays = (expiry - tdate).days\n",
    "    colbs_c = dfnewgex.apply(lambda row: BSModel(spotprice, row['strike'], tdays, row['c_iv'] / 100), axis=1)\n",
    "    dfnewgex['c_close'] = np.round(colbs_c.apply(lambda x: x.cprice), 2)\n",
    "    dfnewgex['c_delta'] = np.round(colbs_c.apply(lambda x: x.cdelta), 4)\n",
    "    dfnewgex['c_gamma'] = colbs_c.apply(lambda x: x.gamma)\n",
    "    colbs_p = dfnewgex.apply(lambda row: BSModel(spotprice, row['strike'], tdays, row['p_iv'] / 100), axis=1)\n",
    "    dfnewgex['p_close'] = np.round(colbs_p.apply(lambda x: x.pprice), 2)\n",
    "    dfnewgex['p_delta'] = np.round(colbs_p.apply(lambda x: x.pdelta), 4)\n",
    "    dfnewgex['p_gamma'] = colbs_p.apply(lambda x: x.gamma)    \n",
    "    # GEX\n",
    "    dfnewgex['c_GEX'] = np.round(dfnewgex['c_gamma'] * dfnewgex['c_oi'] * spotprice, 4) \n",
    "    dfnewgex['p_GEX'] = np.round(dfnewgex['p_gamma'] * dfnewgex['p_oi'] * -1 * spotprice, 4)\n",
    "    dfnewgex['GEX'] = np.round(dfnewgex['c_GEX'] + dfnewgex['p_GEX'], 4)\n",
    "    # Set back `strike` as index\n",
    "    dfnewgex.set_index('strike', inplace=True)\n",
    "    \n",
    "    return dfnewgex"
   ]
  },
  {
   "cell_type": "markdown",
   "metadata": {},
   "source": [
    "### Zero Gamma Level"
   ]
  },
  {
   "cell_type": "code",
   "execution_count": null,
   "metadata": {},
   "outputs": [],
   "source": [
    "def get0gamma(dfchain, asset='NVDA', spotbound=(160, 200), interval=2.5):\n",
    "    \"\"\"Obtain zero gamma level.\"\"\"\n",
    "    # GEX according to true underlying price\n",
    "    dfgex = getgex(dfchain, asset)\n",
    "    spotprice = dfgex[f'{asset}_cl'].mean()\n",
    "    cgex0, pgex0, ngex0 = gettotalgex(dfgex)\n",
    "    # Obtain GEX for all spot price levels\n",
    "    spotlevels = np.arange(spotbound[0], spotbound[1], interval)\n",
    "    dfsumgex = pd.DataFrame()\n",
    "    for level in spotlevels:\n",
    "        dfnewgex = getnewgex(dfgex, asset, level)\n",
    "        cgex, pgex, ngex = gettotalgex(dfnewgex)\n",
    "        dfsumgex.loc[level, 'c_GEX'] = cgex\n",
    "        dfsumgex.loc[level, 'p_GEX'] = pgex\n",
    "        dfsumgex.loc[level, 'GEX'] = ngex\n",
    "    # Obtain zero gamma level by linear interpolation\n",
    "    if (dfsumgex['GEX'].min() * dfsumgex['GEX'].max()) > 0:\n",
    "        zerogexlevel = None\n",
    "    else:\n",
    "        for p1, p2 in zip(dfsumgex.index[:-1], dfsumgex.index[1:]):\n",
    "            level1 = dfsumgex.loc[p1, 'GEX']\n",
    "            level2 = dfsumgex.loc[p2, 'GEX']\n",
    "            if level1 * level2 < 0:\n",
    "                zerogexlevel = round((p1 * level2 - p2 * level1) / (level2 - level1), 2)\n",
    "                break\n",
    "    # Visualize GEX at different spot price \n",
    "    fig = make_subplots(rows=1, cols=1, shared_xaxes=True, row_heights=[6.0], specs=[[{\"type\": \"scatter\"}]])\n",
    "    \n",
    "    fig.add_trace(go.Scatter(x=dfsumgex.index, y=dfsumgex['GEX'], mode='lines+markers', name='spot levels'), \n",
    "                  row=1, col=1)\n",
    "    \n",
    "    fig.add_trace(go.Scatter(x=[spotprice], y=[ngex0], mode='markers', name='spot price', \n",
    "                             marker=dict(size=20, color='#66dc19')), row=1, col=1)\n",
    "    \n",
    "    if zerogexlevel != None:\n",
    "        fig.add_trace(go.Scatter(x=[zerogexlevel], y=[0], mode='markers', name='0-gamma level', \n",
    "                                 marker=dict(size=20, color=' #ee195a')), row=1, col=1)\n",
    "        \n",
    "    tdate = dfchain['tradedate'].iloc[0].strftime('%Y-%m-%d')\n",
    "    expiry = (dfchain['expiry'].iloc[0]).strftime('%Y-%m-%d')\n",
    "    fig.update_layout(title=f'Gamma levels of {asset} of expiry {expiry} on {tdate}', \n",
    "                      title_x=0.5, width=1000, height=800)\n",
    "    fig.show()\n",
    "\n",
    "    return dfsumgex, zerogexlevel"
   ]
  },
  {
   "cell_type": "code",
   "execution_count": null,
   "metadata": {},
   "outputs": [],
   "source": [
    "lowb1 = dfop1[f'{asset0}_cl'].mean() * 0.8\n",
    "uppb1 = dfop1[f'{asset0}_cl'].mean() * 1.2\n",
    "dfsumgex1, zerogex1 = get0gamma(dfop1, asset=asset0, spotbound=(lowb1, uppb1))"
   ]
  },
  {
   "cell_type": "code",
   "execution_count": null,
   "metadata": {},
   "outputs": [],
   "source": []
  },
  {
   "cell_type": "code",
   "execution_count": null,
   "metadata": {},
   "outputs": [],
   "source": []
  },
  {
   "cell_type": "code",
   "execution_count": null,
   "metadata": {},
   "outputs": [],
   "source": []
  },
  {
   "cell_type": "code",
   "execution_count": null,
   "metadata": {},
   "outputs": [],
   "source": []
  }
 ],
 "metadata": {
  "kernelspec": {
   "display_name": "Python 3.8.5 ('base')",
   "language": "python",
   "name": "python3"
  },
  "language_info": {
   "codemirror_mode": {
    "name": "ipython",
    "version": 3
   },
   "file_extension": ".py",
   "mimetype": "text/x-python",
   "name": "python",
   "nbconvert_exporter": "python",
   "pygments_lexer": "ipython3",
   "version": "3.8.5"
  },
  "vscode": {
   "interpreter": {
    "hash": "88279d2366fe020547cde40dd65aa0e3aa662a6ec1f3ca12d88834876c85e1a6"
   }
  }
 },
 "nbformat": 4,
 "nbformat_minor": 4
}
