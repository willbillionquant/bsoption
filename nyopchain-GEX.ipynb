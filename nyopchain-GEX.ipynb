{
 "cells": [
  {
   "cell_type": "markdown",
   "metadata": {},
   "source": [
    "## Modules"
   ]
  },
  {
   "cell_type": "code",
   "execution_count": 1,
   "metadata": {},
   "outputs": [],
   "source": [
    "import os\n",
    "import sys\n",
    "sys.path.append('..')\n",
    "\n",
    "from datetime import datetime, timedelta\n",
    "import numpy as np\n",
    "import pandas as pd\n",
    "from sqlalchemy import create_engine\n",
    "\n",
    "import plotly.graph_objects as go\n",
    "from plotly.subplots import make_subplots\n",
    "\n",
    "from bsoption.bsmodel import BSModel\n",
    "from bsoption.nyopchain import NYopchain\n",
    "Opchain = NYopchain()\n",
    "\n",
    "from litedata import *\n",
    "from litedata.litedb import Litedata\n",
    "from litedata.loadyahoodata import *\n",
    "\n",
    "Litedb = Litedata('yahoo')"
   ]
  },
  {
   "cell_type": "markdown",
   "metadata": {},
   "source": [
    "### US stock list setting"
   ]
  },
  {
   "cell_type": "code",
   "execution_count": 2,
   "metadata": {},
   "outputs": [],
   "source": [
    "from configparser import ConfigParser\n",
    "configchain = ConfigParser()\n",
    "configchain.read('setting_yahoochain.ini')\n",
    "chainpath = configchain['paths'].get('chainpath')\n",
    "\n",
    "configassets = configchain['assets']\n",
    "etflist = list(configassets.get('etf').split(','))\n",
    "chipslist = list(configassets.get('chip').split(','))\n",
    "assetlist = etflist + chipslist"
   ]
  },
  {
   "cell_type": "markdown",
   "metadata": {},
   "source": [
    "## Gamma Exposure (GEX)"
   ]
  },
  {
   "cell_type": "markdown",
   "metadata": {},
   "source": [
    "### OHLC of all stocks"
   ]
  },
  {
   "cell_type": "code",
   "execution_count": 3,
   "metadata": {},
   "outputs": [
    {
     "name": "stdout",
     "output_type": "stream",
     "text": [
      "[*********************100%***********************]  24 of 24 completed\n"
     ]
    },
    {
     "name": "stderr",
     "output_type": "stream",
     "text": [
      "d:\\Anaconda\\lib\\site-packages\\IPython\\core\\interactiveshell.py:2923: PerformanceWarning: indexing past lexsort depth may impact performance.\n",
      "  return runner(coro)\n",
      "d:\\Anaconda\\lib\\site-packages\\IPython\\core\\interactiveshell.py:2923: PerformanceWarning: indexing past lexsort depth may impact performance.\n",
      "  return runner(coro)\n",
      "d:\\Anaconda\\lib\\site-packages\\IPython\\core\\interactiveshell.py:2923: PerformanceWarning: indexing past lexsort depth may impact performance.\n",
      "  return runner(coro)\n",
      "d:\\Anaconda\\lib\\site-packages\\IPython\\core\\interactiveshell.py:2923: PerformanceWarning: indexing past lexsort depth may impact performance.\n",
      "  return runner(coro)\n",
      "d:\\Anaconda\\lib\\site-packages\\IPython\\core\\interactiveshell.py:2923: PerformanceWarning: indexing past lexsort depth may impact performance.\n",
      "  return runner(coro)\n",
      "d:\\Anaconda\\lib\\site-packages\\IPython\\core\\interactiveshell.py:2923: PerformanceWarning: indexing past lexsort depth may impact performance.\n",
      "  return runner(coro)\n",
      "d:\\Anaconda\\lib\\site-packages\\IPython\\core\\interactiveshell.py:2923: PerformanceWarning: indexing past lexsort depth may impact performance.\n",
      "  return runner(coro)\n",
      "d:\\Anaconda\\lib\\site-packages\\IPython\\core\\interactiveshell.py:2923: PerformanceWarning: indexing past lexsort depth may impact performance.\n",
      "  return runner(coro)\n",
      "d:\\Anaconda\\lib\\site-packages\\IPython\\core\\interactiveshell.py:2923: PerformanceWarning: indexing past lexsort depth may impact performance.\n",
      "  return runner(coro)\n",
      "d:\\Anaconda\\lib\\site-packages\\IPython\\core\\interactiveshell.py:2923: PerformanceWarning: indexing past lexsort depth may impact performance.\n",
      "  return runner(coro)\n",
      "d:\\Anaconda\\lib\\site-packages\\IPython\\core\\interactiveshell.py:2923: PerformanceWarning: indexing past lexsort depth may impact performance.\n",
      "  return runner(coro)\n",
      "d:\\Anaconda\\lib\\site-packages\\IPython\\core\\interactiveshell.py:2923: PerformanceWarning: indexing past lexsort depth may impact performance.\n",
      "  return runner(coro)\n",
      "d:\\Anaconda\\lib\\site-packages\\IPython\\core\\interactiveshell.py:2923: PerformanceWarning: indexing past lexsort depth may impact performance.\n",
      "  return runner(coro)\n",
      "d:\\Anaconda\\lib\\site-packages\\IPython\\core\\interactiveshell.py:2923: PerformanceWarning: indexing past lexsort depth may impact performance.\n",
      "  return runner(coro)\n",
      "d:\\Anaconda\\lib\\site-packages\\IPython\\core\\interactiveshell.py:2923: PerformanceWarning: indexing past lexsort depth may impact performance.\n",
      "  return runner(coro)\n",
      "d:\\Anaconda\\lib\\site-packages\\IPython\\core\\interactiveshell.py:2923: PerformanceWarning: indexing past lexsort depth may impact performance.\n",
      "  return runner(coro)\n",
      "d:\\Anaconda\\lib\\site-packages\\IPython\\core\\interactiveshell.py:2923: PerformanceWarning: indexing past lexsort depth may impact performance.\n",
      "  return runner(coro)\n",
      "d:\\Anaconda\\lib\\site-packages\\IPython\\core\\interactiveshell.py:2923: PerformanceWarning: indexing past lexsort depth may impact performance.\n",
      "  return runner(coro)\n",
      "d:\\Anaconda\\lib\\site-packages\\IPython\\core\\interactiveshell.py:2923: PerformanceWarning: indexing past lexsort depth may impact performance.\n",
      "  return runner(coro)\n",
      "d:\\Anaconda\\lib\\site-packages\\IPython\\core\\interactiveshell.py:2923: PerformanceWarning: indexing past lexsort depth may impact performance.\n",
      "  return runner(coro)\n",
      "d:\\Anaconda\\lib\\site-packages\\IPython\\core\\interactiveshell.py:2923: PerformanceWarning: indexing past lexsort depth may impact performance.\n",
      "  return runner(coro)\n",
      "d:\\Anaconda\\lib\\site-packages\\IPython\\core\\interactiveshell.py:2923: PerformanceWarning: indexing past lexsort depth may impact performance.\n",
      "  return runner(coro)\n",
      "d:\\Anaconda\\lib\\site-packages\\IPython\\core\\interactiveshell.py:2923: PerformanceWarning: indexing past lexsort depth may impact performance.\n",
      "  return runner(coro)\n",
      "d:\\Anaconda\\lib\\site-packages\\IPython\\core\\interactiveshell.py:2923: PerformanceWarning: indexing past lexsort depth may impact performance.\n",
      "  return runner(coro)\n"
     ]
    }
   ],
   "source": [
    "dfohlcall = getyahoodata(assetlist)"
   ]
  },
  {
   "cell_type": "markdown",
   "metadata": {},
   "source": [
    "### Option chain with closing price >= 0.05 with greeks"
   ]
  },
  {
   "cell_type": "code",
   "execution_count": 4,
   "metadata": {},
   "outputs": [],
   "source": [
    "def loadopchain(daystr='2022-10-03', expiry='2022-10-14', asset='NVDA', bounds=(0, 1000), opbound=0.05):\n",
    "    \"\"\"Obtain all options of the same expiry with closing price > 0.01 with greeks.\"\"\"\n",
    "    # inputdict for `.loadopdata()` method and query\n",
    "    inputdict = {'asset': asset,  'optype': ('C', 'P'), \n",
    "                 'strike_lowerbound': bounds[0], 'strike_upperbound': bounds[1],  \n",
    "                 'startexpiry': expiry,  'endexpiry': expiry,  'starttd': daystr,  'endtd': daystr}\n",
    "    dfop = Opchain.loadopdata(inputdict)\n",
    "    # Filter strike price with BOTH call & put price over 1.00\n",
    "    dfcall = dfop[(dfop['optype'] == 'C') & (dfop['mid'] >= opbound)]\n",
    "    dfput = dfop[(dfop['optype'] == 'P') & (dfop['mid'] >= opbound)]\n",
    "    strikeset = set(dfcall['strike']).intersection(set(dfput['strike']))\n",
    "    dfop = dfop[dfop['strike'].isin(strikeset)]\n",
    "    # Underlying close price\n",
    "    spotprice = dfohlcall.loc[daystr, f'{asset}_cl']\n",
    "    dfop[f'{asset}_cl'] = spotprice\n",
    "    # Dummy column of `BSmodel()` object\n",
    "    tdays = (datetime.strptime(expiry, '%Y-%m-%d') - datetime.strptime(daystr, '%Y-%m-%d')).days\n",
    "    dfop['BS'] = dfop.apply(lambda row: BSModel(spotprice, row['strike'], tdays, row['iv'] / 100), axis=1)\n",
    "    # split option dataframe into call & put and compute delta and theta separately\n",
    "    dfcall = dfop[dfop['optype'] == 'C']\n",
    "    dfput = dfop[dfop['optype'] == 'P']\n",
    "    dfcall['delta'] = dfcall['BS'].apply(lambda x: x.cdelta)\n",
    "    dfcall['theta'] = dfcall['BS'].apply(lambda x: x.ctheta)\n",
    "    dfput['delta'] = dfput['BS'].apply(lambda x: x.pdelta)\n",
    "    dfput['theta'] = dfput['BS'].apply(lambda x: x.ptheta)\n",
    "    dfop = pd.concat([dfcall, dfput], axis=0)\n",
    "    # Compute vega & gamma columns (irrelevant of call/put)\n",
    "    dfop['vega'] = dfop['BS'].apply(lambda x: x.vega)\n",
    "    dfop['gamma'] = dfop['BS'].apply(lambda x: x.gamma)\n",
    "    # Drop dummy column\n",
    "    dfop.drop('BS', axis=1, inplace=True)\n",
    "    \n",
    "    return dfop"
   ]
  },
  {
   "cell_type": "code",
   "execution_count": 5,
   "metadata": {},
   "outputs": [
    {
     "name": "stderr",
     "output_type": "stream",
     "text": [
      "<ipython-input-4-c6e19e842c4c>:22: SettingWithCopyWarning: \n",
      "A value is trying to be set on a copy of a slice from a DataFrame.\n",
      "Try using .loc[row_indexer,col_indexer] = value instead\n",
      "\n",
      "See the caveats in the documentation: https://pandas.pydata.org/pandas-docs/stable/user_guide/indexing.html#returning-a-view-versus-a-copy\n",
      "  dfcall['delta'] = dfcall['BS'].apply(lambda x: x.cdelta)\n",
      "<ipython-input-4-c6e19e842c4c>:23: SettingWithCopyWarning: \n",
      "A value is trying to be set on a copy of a slice from a DataFrame.\n",
      "Try using .loc[row_indexer,col_indexer] = value instead\n",
      "\n",
      "See the caveats in the documentation: https://pandas.pydata.org/pandas-docs/stable/user_guide/indexing.html#returning-a-view-versus-a-copy\n",
      "  dfcall['theta'] = dfcall['BS'].apply(lambda x: x.ctheta)\n",
      "<ipython-input-4-c6e19e842c4c>:24: SettingWithCopyWarning: \n",
      "A value is trying to be set on a copy of a slice from a DataFrame.\n",
      "Try using .loc[row_indexer,col_indexer] = value instead\n",
      "\n",
      "See the caveats in the documentation: https://pandas.pydata.org/pandas-docs/stable/user_guide/indexing.html#returning-a-view-versus-a-copy\n",
      "  dfput['delta'] = dfput['BS'].apply(lambda x: x.pdelta)\n",
      "<ipython-input-4-c6e19e842c4c>:25: SettingWithCopyWarning: \n",
      "A value is trying to be set on a copy of a slice from a DataFrame.\n",
      "Try using .loc[row_indexer,col_indexer] = value instead\n",
      "\n",
      "See the caveats in the documentation: https://pandas.pydata.org/pandas-docs/stable/user_guide/indexing.html#returning-a-view-versus-a-copy\n",
      "  dfput['theta'] = dfput['BS'].apply(lambda x: x.ptheta)\n"
     ]
    },
    {
     "data": {
      "text/html": [
       "<div>\n",
       "<style scoped>\n",
       "    .dataframe tbody tr th:only-of-type {\n",
       "        vertical-align: middle;\n",
       "    }\n",
       "\n",
       "    .dataframe tbody tr th {\n",
       "        vertical-align: top;\n",
       "    }\n",
       "\n",
       "    .dataframe thead th {\n",
       "        text-align: right;\n",
       "    }\n",
       "</style>\n",
       "<table border=\"1\" class=\"dataframe\">\n",
       "  <thead>\n",
       "    <tr style=\"text-align: right;\">\n",
       "      <th></th>\n",
       "      <th>tradedate</th>\n",
       "      <th>asset</th>\n",
       "      <th>optype</th>\n",
       "      <th>expiry</th>\n",
       "      <th>strike</th>\n",
       "      <th>iv</th>\n",
       "      <th>vol</th>\n",
       "      <th>oi</th>\n",
       "      <th>last</th>\n",
       "      <th>bid</th>\n",
       "      <th>ask</th>\n",
       "      <th>mid</th>\n",
       "      <th>NVDA_cl</th>\n",
       "      <th>delta</th>\n",
       "      <th>theta</th>\n",
       "      <th>vega</th>\n",
       "      <th>gamma</th>\n",
       "    </tr>\n",
       "  </thead>\n",
       "  <tbody>\n",
       "    <tr>\n",
       "      <th>2</th>\n",
       "      <td>2022-08-26</td>\n",
       "      <td>NVDA</td>\n",
       "      <td>C</td>\n",
       "      <td>2022-09-16</td>\n",
       "      <td>28.75</td>\n",
       "      <td>333.20</td>\n",
       "      <td>3.0</td>\n",
       "      <td>44</td>\n",
       "      <td>159.65</td>\n",
       "      <td>131.95</td>\n",
       "      <td>136.30</td>\n",
       "      <td>134.125</td>\n",
       "      <td>162.5517</td>\n",
       "      <td>0.994873</td>\n",
       "      <td>-0.045735</td>\n",
       "      <td>0.005765</td>\n",
       "      <td>0.000114</td>\n",
       "    </tr>\n",
       "    <tr>\n",
       "      <th>4</th>\n",
       "      <td>2022-08-26</td>\n",
       "      <td>NVDA</td>\n",
       "      <td>C</td>\n",
       "      <td>2022-09-16</td>\n",
       "      <td>31.25</td>\n",
       "      <td>338.67</td>\n",
       "      <td>4.0</td>\n",
       "      <td>15</td>\n",
       "      <td>148.48</td>\n",
       "      <td>129.75</td>\n",
       "      <td>133.80</td>\n",
       "      <td>131.775</td>\n",
       "      <td>162.5517</td>\n",
       "      <td>0.992576</td>\n",
       "      <td>-0.064527</td>\n",
       "      <td>0.008002</td>\n",
       "      <td>0.000155</td>\n",
       "    </tr>\n",
       "    <tr>\n",
       "      <th>17</th>\n",
       "      <td>2022-08-26</td>\n",
       "      <td>NVDA</td>\n",
       "      <td>C</td>\n",
       "      <td>2022-09-16</td>\n",
       "      <td>47.50</td>\n",
       "      <td>254.88</td>\n",
       "      <td>5.0</td>\n",
       "      <td>411</td>\n",
       "      <td>124.65</td>\n",
       "      <td>113.50</td>\n",
       "      <td>117.55</td>\n",
       "      <td>115.525</td>\n",
       "      <td>162.5517</td>\n",
       "      <td>0.989776</td>\n",
       "      <td>-0.064295</td>\n",
       "      <td>0.010595</td>\n",
       "      <td>0.000273</td>\n",
       "    </tr>\n",
       "    <tr>\n",
       "      <th>42</th>\n",
       "      <td>2022-08-26</td>\n",
       "      <td>NVDA</td>\n",
       "      <td>C</td>\n",
       "      <td>2022-09-16</td>\n",
       "      <td>107.50</td>\n",
       "      <td>94.53</td>\n",
       "      <td>22.0</td>\n",
       "      <td>222</td>\n",
       "      <td>57.30</td>\n",
       "      <td>54.10</td>\n",
       "      <td>56.90</td>\n",
       "      <td>55.500</td>\n",
       "      <td>162.5517</td>\n",
       "      <td>0.973630</td>\n",
       "      <td>-0.053631</td>\n",
       "      <td>0.023828</td>\n",
       "      <td>0.001658</td>\n",
       "    </tr>\n",
       "    <tr>\n",
       "      <th>43</th>\n",
       "      <td>2022-08-26</td>\n",
       "      <td>NVDA</td>\n",
       "      <td>C</td>\n",
       "      <td>2022-09-16</td>\n",
       "      <td>110.00</td>\n",
       "      <td>110.64</td>\n",
       "      <td>22.0</td>\n",
       "      <td>362</td>\n",
       "      <td>55.00</td>\n",
       "      <td>51.45</td>\n",
       "      <td>53.70</td>\n",
       "      <td>52.575</td>\n",
       "      <td>162.5517</td>\n",
       "      <td>0.945665</td>\n",
       "      <td>-0.113164</td>\n",
       "      <td>0.042958</td>\n",
       "      <td>0.002554</td>\n",
       "    </tr>\n",
       "    <tr>\n",
       "      <th>...</th>\n",
       "      <td>...</td>\n",
       "      <td>...</td>\n",
       "      <td>...</td>\n",
       "      <td>...</td>\n",
       "      <td>...</td>\n",
       "      <td>...</td>\n",
       "      <td>...</td>\n",
       "      <td>...</td>\n",
       "      <td>...</td>\n",
       "      <td>...</td>\n",
       "      <td>...</td>\n",
       "      <td>...</td>\n",
       "      <td>...</td>\n",
       "      <td>...</td>\n",
       "      <td>...</td>\n",
       "      <td>...</td>\n",
       "      <td>...</td>\n",
       "    </tr>\n",
       "    <tr>\n",
       "      <th>172</th>\n",
       "      <td>2022-08-26</td>\n",
       "      <td>NVDA</td>\n",
       "      <td>P</td>\n",
       "      <td>2022-09-16</td>\n",
       "      <td>210.00</td>\n",
       "      <td>57.03</td>\n",
       "      <td>74.0</td>\n",
       "      <td>4407</td>\n",
       "      <td>46.85</td>\n",
       "      <td>46.45</td>\n",
       "      <td>47.70</td>\n",
       "      <td>47.075</td>\n",
       "      <td>162.5517</td>\n",
       "      <td>-0.964372</td>\n",
       "      <td>-0.041510</td>\n",
       "      <td>0.030570</td>\n",
       "      <td>0.003526</td>\n",
       "    </tr>\n",
       "    <tr>\n",
       "      <th>173</th>\n",
       "      <td>2022-08-26</td>\n",
       "      <td>NVDA</td>\n",
       "      <td>P</td>\n",
       "      <td>2022-09-16</td>\n",
       "      <td>215.00</td>\n",
       "      <td>78.22</td>\n",
       "      <td>111.0</td>\n",
       "      <td>2602</td>\n",
       "      <td>51.70</td>\n",
       "      <td>51.35</td>\n",
       "      <td>53.45</td>\n",
       "      <td>52.400</td>\n",
       "      <td>162.5517</td>\n",
       "      <td>-0.918741</td>\n",
       "      <td>-0.109234</td>\n",
       "      <td>0.058653</td>\n",
       "      <td>0.004932</td>\n",
       "    </tr>\n",
       "    <tr>\n",
       "      <th>174</th>\n",
       "      <td>2022-08-26</td>\n",
       "      <td>NVDA</td>\n",
       "      <td>P</td>\n",
       "      <td>2022-09-16</td>\n",
       "      <td>220.00</td>\n",
       "      <td>87.89</td>\n",
       "      <td>25.0</td>\n",
       "      <td>4012</td>\n",
       "      <td>52.40</td>\n",
       "      <td>55.30</td>\n",
       "      <td>58.75</td>\n",
       "      <td>57.025</td>\n",
       "      <td>162.5517</td>\n",
       "      <td>-0.908261</td>\n",
       "      <td>-0.134392</td>\n",
       "      <td>0.064222</td>\n",
       "      <td>0.004807</td>\n",
       "    </tr>\n",
       "    <tr>\n",
       "      <th>175</th>\n",
       "      <td>2022-08-26</td>\n",
       "      <td>NVDA</td>\n",
       "      <td>P</td>\n",
       "      <td>2022-09-16</td>\n",
       "      <td>225.00</td>\n",
       "      <td>90.99</td>\n",
       "      <td>18.0</td>\n",
       "      <td>4098</td>\n",
       "      <td>56.22</td>\n",
       "      <td>61.00</td>\n",
       "      <td>63.65</td>\n",
       "      <td>62.325</td>\n",
       "      <td>162.5517</td>\n",
       "      <td>-0.916278</td>\n",
       "      <td>-0.129956</td>\n",
       "      <td>0.059986</td>\n",
       "      <td>0.004337</td>\n",
       "    </tr>\n",
       "    <tr>\n",
       "      <th>176</th>\n",
       "      <td>2022-08-26</td>\n",
       "      <td>NVDA</td>\n",
       "      <td>P</td>\n",
       "      <td>2022-09-16</td>\n",
       "      <td>230.00</td>\n",
       "      <td>76.47</td>\n",
       "      <td>13.0</td>\n",
       "      <td>2518</td>\n",
       "      <td>62.20</td>\n",
       "      <td>66.80</td>\n",
       "      <td>68.80</td>\n",
       "      <td>67.800</td>\n",
       "      <td>162.5517</td>\n",
       "      <td>-0.964112</td>\n",
       "      <td>-0.055992</td>\n",
       "      <td>0.030753</td>\n",
       "      <td>0.002645</td>\n",
       "    </tr>\n",
       "  </tbody>\n",
       "</table>\n",
       "<p>84 rows × 17 columns</p>\n",
       "</div>"
      ],
      "text/plain": [
       "     tradedate asset optype     expiry  strike      iv    vol    oi    last  \\\n",
       "2   2022-08-26  NVDA      C 2022-09-16   28.75  333.20    3.0    44  159.65   \n",
       "4   2022-08-26  NVDA      C 2022-09-16   31.25  338.67    4.0    15  148.48   \n",
       "17  2022-08-26  NVDA      C 2022-09-16   47.50  254.88    5.0   411  124.65   \n",
       "42  2022-08-26  NVDA      C 2022-09-16  107.50   94.53   22.0   222   57.30   \n",
       "43  2022-08-26  NVDA      C 2022-09-16  110.00  110.64   22.0   362   55.00   \n",
       "..         ...   ...    ...        ...     ...     ...    ...   ...     ...   \n",
       "172 2022-08-26  NVDA      P 2022-09-16  210.00   57.03   74.0  4407   46.85   \n",
       "173 2022-08-26  NVDA      P 2022-09-16  215.00   78.22  111.0  2602   51.70   \n",
       "174 2022-08-26  NVDA      P 2022-09-16  220.00   87.89   25.0  4012   52.40   \n",
       "175 2022-08-26  NVDA      P 2022-09-16  225.00   90.99   18.0  4098   56.22   \n",
       "176 2022-08-26  NVDA      P 2022-09-16  230.00   76.47   13.0  2518   62.20   \n",
       "\n",
       "        bid     ask      mid   NVDA_cl     delta     theta      vega     gamma  \n",
       "2    131.95  136.30  134.125  162.5517  0.994873 -0.045735  0.005765  0.000114  \n",
       "4    129.75  133.80  131.775  162.5517  0.992576 -0.064527  0.008002  0.000155  \n",
       "17   113.50  117.55  115.525  162.5517  0.989776 -0.064295  0.010595  0.000273  \n",
       "42    54.10   56.90   55.500  162.5517  0.973630 -0.053631  0.023828  0.001658  \n",
       "43    51.45   53.70   52.575  162.5517  0.945665 -0.113164  0.042958  0.002554  \n",
       "..      ...     ...      ...       ...       ...       ...       ...       ...  \n",
       "172   46.45   47.70   47.075  162.5517 -0.964372 -0.041510  0.030570  0.003526  \n",
       "173   51.35   53.45   52.400  162.5517 -0.918741 -0.109234  0.058653  0.004932  \n",
       "174   55.30   58.75   57.025  162.5517 -0.908261 -0.134392  0.064222  0.004807  \n",
       "175   61.00   63.65   62.325  162.5517 -0.916278 -0.129956  0.059986  0.004337  \n",
       "176   66.80   68.80   67.800  162.5517 -0.964112 -0.055992  0.030753  0.002645  \n",
       "\n",
       "[84 rows x 17 columns]"
      ]
     },
     "execution_count": 5,
     "metadata": {},
     "output_type": "execute_result"
    }
   ],
   "source": [
    "asset0 = 'NVDA'\n",
    "dfop1 = loadopchain(daystr='2022-08-26', expiry='2022-09-16', asset=asset0, bounds=(0, 300))\n",
    "dfop1"
   ]
  },
  {
   "cell_type": "markdown",
   "metadata": {},
   "source": [
    "### Gamma exposure function"
   ]
  },
  {
   "cell_type": "code",
   "execution_count": 6,
   "metadata": {},
   "outputs": [],
   "source": [
    "def getgex(dfchain, asset='NVDA'):\n",
    "    \"\"\"Obtain gamma exposure of each option contract per 1% move of underlying.\"\"\"\n",
    "    ## Attach GEX column\n",
    "    dfgex = dfchain.copy()\n",
    "    putfactor = lambda x: -1 if (x == 'P') else 1\n",
    "    colfactor = pd.to_numeric(((dfgex['optype']).apply(putfactor)))\n",
    "    dfgex['GEX'] = dfgex['gamma'] * dfgex['oi'] * colfactor * 100\n",
    "    # Split into call & put dataframe\n",
    "    collist = ['tradedate', 'expiry', f'{asset}_cl', 'strike', 'mid', 'iv', 'oi', 'delta', 'gamma', 'GEX']\n",
    "    dfcall = dfgex[dfgex['optype'] == 'C'][collist]\n",
    "    dfcall.rename(columns={field: f'c_{field}' for field in collist[4:]}, inplace=True)\n",
    "    dfcall['c_GEX'] *= dfgex[f'{asset}_cl'].iloc[0] / 100\n",
    "    dfcall.set_index('strike', inplace=True)\n",
    "    dfput = dfgex[dfgex['optype'] == 'P'][collist[3:]]\n",
    "    dfput.rename(columns={field: f'p_{field}' for field in collist[4:]}, inplace=True)\n",
    "    dfput['p_GEX'] *= dfgex[f'{asset}_cl'].iloc[0] / 100\n",
    "    dfput.set_index('strike', inplace=True)\n",
    "    # Concat along columns\n",
    "    dfgex = pd.concat([dfcall, dfput], axis=1)\n",
    "    # Net GEX (call GEX + put GEX)\n",
    "    dfgex['GEX'] = dfgex['c_GEX'] + dfgex['p_GEX']\n",
    "    for col in ['c_GEX', 'p_GEX', 'GEX']:\n",
    "        dfgex[col] = np.round(dfgex[col], 4)\n",
    "    \n",
    "    return dfgex"
   ]
  },
  {
   "cell_type": "code",
   "execution_count": 7,
   "metadata": {},
   "outputs": [
    {
     "data": {
      "text/html": [
       "<div>\n",
       "<style scoped>\n",
       "    .dataframe tbody tr th:only-of-type {\n",
       "        vertical-align: middle;\n",
       "    }\n",
       "\n",
       "    .dataframe tbody tr th {\n",
       "        vertical-align: top;\n",
       "    }\n",
       "\n",
       "    .dataframe thead th {\n",
       "        text-align: right;\n",
       "    }\n",
       "</style>\n",
       "<table border=\"1\" class=\"dataframe\">\n",
       "  <thead>\n",
       "    <tr style=\"text-align: right;\">\n",
       "      <th></th>\n",
       "      <th>tradedate</th>\n",
       "      <th>expiry</th>\n",
       "      <th>NVDA_cl</th>\n",
       "      <th>c_mid</th>\n",
       "      <th>c_iv</th>\n",
       "      <th>c_oi</th>\n",
       "      <th>c_delta</th>\n",
       "      <th>c_gamma</th>\n",
       "      <th>c_GEX</th>\n",
       "      <th>p_mid</th>\n",
       "      <th>p_iv</th>\n",
       "      <th>p_oi</th>\n",
       "      <th>p_delta</th>\n",
       "      <th>p_gamma</th>\n",
       "      <th>p_GEX</th>\n",
       "      <th>GEX</th>\n",
       "    </tr>\n",
       "    <tr>\n",
       "      <th>strike</th>\n",
       "      <th></th>\n",
       "      <th></th>\n",
       "      <th></th>\n",
       "      <th></th>\n",
       "      <th></th>\n",
       "      <th></th>\n",
       "      <th></th>\n",
       "      <th></th>\n",
       "      <th></th>\n",
       "      <th></th>\n",
       "      <th></th>\n",
       "      <th></th>\n",
       "      <th></th>\n",
       "      <th></th>\n",
       "      <th></th>\n",
       "      <th></th>\n",
       "    </tr>\n",
       "  </thead>\n",
       "  <tbody>\n",
       "    <tr>\n",
       "      <th>140.0</th>\n",
       "      <td>2022-08-26</td>\n",
       "      <td>2022-09-16</td>\n",
       "      <td>162.5517</td>\n",
       "      <td>24.425</td>\n",
       "      <td>61.77</td>\n",
       "      <td>867</td>\n",
       "      <td>0.860399</td>\n",
       "      <td>0.009224</td>\n",
       "      <td>1299.9138</td>\n",
       "      <td>1.455</td>\n",
       "      <td>57.32</td>\n",
       "      <td>15398</td>\n",
       "      <td>-0.124038</td>\n",
       "      <td>0.009161</td>\n",
       "      <td>-22930.1435</td>\n",
       "      <td>-21630.2297</td>\n",
       "    </tr>\n",
       "    <tr>\n",
       "      <th>145.0</th>\n",
       "      <td>2022-08-26</td>\n",
       "      <td>2022-09-16</td>\n",
       "      <td>162.5517</td>\n",
       "      <td>19.700</td>\n",
       "      <td>54.47</td>\n",
       "      <td>856</td>\n",
       "      <td>0.826359</td>\n",
       "      <td>0.012078</td>\n",
       "      <td>1680.5210</td>\n",
       "      <td>2.270</td>\n",
       "      <td>56.16</td>\n",
       "      <td>7042</td>\n",
       "      <td>-0.179943</td>\n",
       "      <td>0.011981</td>\n",
       "      <td>-13714.6045</td>\n",
       "      <td>-12034.0835</td>\n",
       "    </tr>\n",
       "    <tr>\n",
       "      <th>150.0</th>\n",
       "      <td>2022-08-26</td>\n",
       "      <td>2022-09-16</td>\n",
       "      <td>162.5517</td>\n",
       "      <td>16.125</td>\n",
       "      <td>55.95</td>\n",
       "      <td>3466</td>\n",
       "      <td>0.747263</td>\n",
       "      <td>0.014651</td>\n",
       "      <td>8254.4303</td>\n",
       "      <td>3.400</td>\n",
       "      <td>54.94</td>\n",
       "      <td>17923</td>\n",
       "      <td>-0.249616</td>\n",
       "      <td>0.014823</td>\n",
       "      <td>-43184.3750</td>\n",
       "      <td>-34929.9447</td>\n",
       "    </tr>\n",
       "    <tr>\n",
       "      <th>155.0</th>\n",
       "      <td>2022-08-26</td>\n",
       "      <td>2022-09-16</td>\n",
       "      <td>162.5517</td>\n",
       "      <td>12.675</td>\n",
       "      <td>54.86</td>\n",
       "      <td>2521</td>\n",
       "      <td>0.665422</td>\n",
       "      <td>0.017024</td>\n",
       "      <td>6976.1329</td>\n",
       "      <td>4.900</td>\n",
       "      <td>53.63</td>\n",
       "      <td>6946</td>\n",
       "      <td>-0.332100</td>\n",
       "      <td>0.017363</td>\n",
       "      <td>-19604.2253</td>\n",
       "      <td>-12628.0923</td>\n",
       "    </tr>\n",
       "    <tr>\n",
       "      <th>157.5</th>\n",
       "      <td>2022-08-26</td>\n",
       "      <td>2022-09-16</td>\n",
       "      <td>162.5517</td>\n",
       "      <td>11.050</td>\n",
       "      <td>53.91</td>\n",
       "      <td>315</td>\n",
       "      <td>0.621264</td>\n",
       "      <td>0.018096</td>\n",
       "      <td>926.5764</td>\n",
       "      <td>5.850</td>\n",
       "      <td>53.24</td>\n",
       "      <td>553</td>\n",
       "      <td>-0.377873</td>\n",
       "      <td>0.018311</td>\n",
       "      <td>-1645.9691</td>\n",
       "      <td>-719.3928</td>\n",
       "    </tr>\n",
       "    <tr>\n",
       "      <th>160.0</th>\n",
       "      <td>2022-08-26</td>\n",
       "      <td>2022-09-16</td>\n",
       "      <td>162.5517</td>\n",
       "      <td>9.600</td>\n",
       "      <td>53.38</td>\n",
       "      <td>10004</td>\n",
       "      <td>0.574402</td>\n",
       "      <td>0.018834</td>\n",
       "      <td>30626.7047</td>\n",
       "      <td>6.850</td>\n",
       "      <td>52.41</td>\n",
       "      <td>19356</td>\n",
       "      <td>-0.425157</td>\n",
       "      <td>0.019178</td>\n",
       "      <td>-60341.3148</td>\n",
       "      <td>-29714.6101</td>\n",
       "    </tr>\n",
       "    <tr>\n",
       "      <th>162.5</th>\n",
       "      <td>2022-08-26</td>\n",
       "      <td>2022-09-16</td>\n",
       "      <td>162.5517</td>\n",
       "      <td>8.250</td>\n",
       "      <td>52.75</td>\n",
       "      <td>237</td>\n",
       "      <td>0.526223</td>\n",
       "      <td>0.019355</td>\n",
       "      <td>745.6469</td>\n",
       "      <td>8.000</td>\n",
       "      <td>51.78</td>\n",
       "      <td>569</td>\n",
       "      <td>-0.474222</td>\n",
       "      <td>0.019719</td>\n",
       "      <td>-1823.8502</td>\n",
       "      <td>-1078.2033</td>\n",
       "    </tr>\n",
       "    <tr>\n",
       "      <th>165.0</th>\n",
       "      <td>2022-08-26</td>\n",
       "      <td>2022-09-16</td>\n",
       "      <td>162.5517</td>\n",
       "      <td>7.000</td>\n",
       "      <td>51.99</td>\n",
       "      <td>9247</td>\n",
       "      <td>0.477063</td>\n",
       "      <td>0.019648</td>\n",
       "      <td>29533.1185</td>\n",
       "      <td>9.300</td>\n",
       "      <td>51.36</td>\n",
       "      <td>11458</td>\n",
       "      <td>-0.523823</td>\n",
       "      <td>0.019886</td>\n",
       "      <td>-37038.6687</td>\n",
       "      <td>-7505.5502</td>\n",
       "    </tr>\n",
       "    <tr>\n",
       "      <th>167.5</th>\n",
       "      <td>2022-08-26</td>\n",
       "      <td>2022-09-16</td>\n",
       "      <td>162.5517</td>\n",
       "      <td>5.925</td>\n",
       "      <td>51.59</td>\n",
       "      <td>200</td>\n",
       "      <td>0.428397</td>\n",
       "      <td>0.019513</td>\n",
       "      <td>634.3660</td>\n",
       "      <td>10.700</td>\n",
       "      <td>50.77</td>\n",
       "      <td>1990</td>\n",
       "      <td>-0.573525</td>\n",
       "      <td>0.019810</td>\n",
       "      <td>-6408.1451</td>\n",
       "      <td>-5773.7790</td>\n",
       "    </tr>\n",
       "    <tr>\n",
       "      <th>170.0</th>\n",
       "      <td>2022-08-26</td>\n",
       "      <td>2022-09-16</td>\n",
       "      <td>162.5517</td>\n",
       "      <td>4.950</td>\n",
       "      <td>51.06</td>\n",
       "      <td>6368</td>\n",
       "      <td>0.380345</td>\n",
       "      <td>0.019131</td>\n",
       "      <td>19802.7446</td>\n",
       "      <td>12.200</td>\n",
       "      <td>50.05</td>\n",
       "      <td>9307</td>\n",
       "      <td>-0.622923</td>\n",
       "      <td>0.019465</td>\n",
       "      <td>-29448.0174</td>\n",
       "      <td>-9645.2728</td>\n",
       "    </tr>\n",
       "    <tr>\n",
       "      <th>172.5</th>\n",
       "      <td>2022-08-26</td>\n",
       "      <td>2022-09-16</td>\n",
       "      <td>162.5517</td>\n",
       "      <td>4.075</td>\n",
       "      <td>50.43</td>\n",
       "      <td>2912</td>\n",
       "      <td>0.333384</td>\n",
       "      <td>0.018493</td>\n",
       "      <td>8753.6447</td>\n",
       "      <td>13.850</td>\n",
       "      <td>49.90</td>\n",
       "      <td>2477</td>\n",
       "      <td>-0.668741</td>\n",
       "      <td>0.018642</td>\n",
       "      <td>-7506.0306</td>\n",
       "      <td>1247.6142</td>\n",
       "    </tr>\n",
       "    <tr>\n",
       "      <th>175.0</th>\n",
       "      <td>2022-08-26</td>\n",
       "      <td>2022-09-16</td>\n",
       "      <td>162.5517</td>\n",
       "      <td>3.350</td>\n",
       "      <td>50.09</td>\n",
       "      <td>7915</td>\n",
       "      <td>0.289759</td>\n",
       "      <td>0.017520</td>\n",
       "      <td>22541.3377</td>\n",
       "      <td>15.625</td>\n",
       "      <td>49.72</td>\n",
       "      <td>9125</td>\n",
       "      <td>-0.711954</td>\n",
       "      <td>0.017601</td>\n",
       "      <td>-26107.7535</td>\n",
       "      <td>-3566.4159</td>\n",
       "    </tr>\n",
       "    <tr>\n",
       "      <th>177.5</th>\n",
       "      <td>2022-08-26</td>\n",
       "      <td>2022-09-16</td>\n",
       "      <td>162.5517</td>\n",
       "      <td>2.700</td>\n",
       "      <td>49.68</td>\n",
       "      <td>746</td>\n",
       "      <td>0.248669</td>\n",
       "      <td>0.016359</td>\n",
       "      <td>1983.7360</td>\n",
       "      <td>17.475</td>\n",
       "      <td>49.13</td>\n",
       "      <td>821</td>\n",
       "      <td>-0.754150</td>\n",
       "      <td>0.016441</td>\n",
       "      <td>-2194.1955</td>\n",
       "      <td>-210.4594</td>\n",
       "    </tr>\n",
       "    <tr>\n",
       "      <th>180.0</th>\n",
       "      <td>2022-08-26</td>\n",
       "      <td>2022-09-16</td>\n",
       "      <td>162.5517</td>\n",
       "      <td>2.185</td>\n",
       "      <td>49.54</td>\n",
       "      <td>9790</td>\n",
       "      <td>0.212250</td>\n",
       "      <td>0.015014</td>\n",
       "      <td>23893.0729</td>\n",
       "      <td>19.475</td>\n",
       "      <td>49.00</td>\n",
       "      <td>10767</td>\n",
       "      <td>-0.790668</td>\n",
       "      <td>0.015057</td>\n",
       "      <td>-26352.2306</td>\n",
       "      <td>-2459.1577</td>\n",
       "    </tr>\n",
       "    <tr>\n",
       "      <th>182.5</th>\n",
       "      <td>2022-08-26</td>\n",
       "      <td>2022-09-16</td>\n",
       "      <td>162.5517</td>\n",
       "      <td>1.750</td>\n",
       "      <td>49.27</td>\n",
       "      <td>413</td>\n",
       "      <td>0.178688</td>\n",
       "      <td>0.013597</td>\n",
       "      <td>912.7876</td>\n",
       "      <td>21.550</td>\n",
       "      <td>49.57</td>\n",
       "      <td>386</td>\n",
       "      <td>-0.819665</td>\n",
       "      <td>0.013592</td>\n",
       "      <td>-852.8552</td>\n",
       "      <td>59.9325</td>\n",
       "    </tr>\n",
       "    <tr>\n",
       "      <th>185.0</th>\n",
       "      <td>2022-08-26</td>\n",
       "      <td>2022-09-16</td>\n",
       "      <td>162.5517</td>\n",
       "      <td>1.390</td>\n",
       "      <td>49.07</td>\n",
       "      <td>12550</td>\n",
       "      <td>0.149122</td>\n",
       "      <td>0.012139</td>\n",
       "      <td>24763.6821</td>\n",
       "      <td>23.600</td>\n",
       "      <td>49.54</td>\n",
       "      <td>12019</td>\n",
       "      <td>-0.848311</td>\n",
       "      <td>0.012161</td>\n",
       "      <td>-23759.5812</td>\n",
       "      <td>1004.1008</td>\n",
       "    </tr>\n",
       "    <tr>\n",
       "      <th>187.5</th>\n",
       "      <td>2022-08-26</td>\n",
       "      <td>2022-09-16</td>\n",
       "      <td>162.5517</td>\n",
       "      <td>1.105</td>\n",
       "      <td>48.98</td>\n",
       "      <td>752</td>\n",
       "      <td>0.123721</td>\n",
       "      <td>0.010702</td>\n",
       "      <td>1308.1872</td>\n",
       "      <td>25.975</td>\n",
       "      <td>54.57</td>\n",
       "      <td>192</td>\n",
       "      <td>-0.847410</td>\n",
       "      <td>0.011084</td>\n",
       "      <td>-345.9246</td>\n",
       "      <td>962.2625</td>\n",
       "    </tr>\n",
       "  </tbody>\n",
       "</table>\n",
       "</div>"
      ],
      "text/plain": [
       "        tradedate     expiry   NVDA_cl   c_mid   c_iv   c_oi   c_delta  \\\n",
       "strike                                                                   \n",
       "140.0  2022-08-26 2022-09-16  162.5517  24.425  61.77    867  0.860399   \n",
       "145.0  2022-08-26 2022-09-16  162.5517  19.700  54.47    856  0.826359   \n",
       "150.0  2022-08-26 2022-09-16  162.5517  16.125  55.95   3466  0.747263   \n",
       "155.0  2022-08-26 2022-09-16  162.5517  12.675  54.86   2521  0.665422   \n",
       "157.5  2022-08-26 2022-09-16  162.5517  11.050  53.91    315  0.621264   \n",
       "160.0  2022-08-26 2022-09-16  162.5517   9.600  53.38  10004  0.574402   \n",
       "162.5  2022-08-26 2022-09-16  162.5517   8.250  52.75    237  0.526223   \n",
       "165.0  2022-08-26 2022-09-16  162.5517   7.000  51.99   9247  0.477063   \n",
       "167.5  2022-08-26 2022-09-16  162.5517   5.925  51.59    200  0.428397   \n",
       "170.0  2022-08-26 2022-09-16  162.5517   4.950  51.06   6368  0.380345   \n",
       "172.5  2022-08-26 2022-09-16  162.5517   4.075  50.43   2912  0.333384   \n",
       "175.0  2022-08-26 2022-09-16  162.5517   3.350  50.09   7915  0.289759   \n",
       "177.5  2022-08-26 2022-09-16  162.5517   2.700  49.68    746  0.248669   \n",
       "180.0  2022-08-26 2022-09-16  162.5517   2.185  49.54   9790  0.212250   \n",
       "182.5  2022-08-26 2022-09-16  162.5517   1.750  49.27    413  0.178688   \n",
       "185.0  2022-08-26 2022-09-16  162.5517   1.390  49.07  12550  0.149122   \n",
       "187.5  2022-08-26 2022-09-16  162.5517   1.105  48.98    752  0.123721   \n",
       "\n",
       "         c_gamma       c_GEX   p_mid   p_iv   p_oi   p_delta   p_gamma  \\\n",
       "strike                                                                   \n",
       "140.0   0.009224   1299.9138   1.455  57.32  15398 -0.124038  0.009161   \n",
       "145.0   0.012078   1680.5210   2.270  56.16   7042 -0.179943  0.011981   \n",
       "150.0   0.014651   8254.4303   3.400  54.94  17923 -0.249616  0.014823   \n",
       "155.0   0.017024   6976.1329   4.900  53.63   6946 -0.332100  0.017363   \n",
       "157.5   0.018096    926.5764   5.850  53.24    553 -0.377873  0.018311   \n",
       "160.0   0.018834  30626.7047   6.850  52.41  19356 -0.425157  0.019178   \n",
       "162.5   0.019355    745.6469   8.000  51.78    569 -0.474222  0.019719   \n",
       "165.0   0.019648  29533.1185   9.300  51.36  11458 -0.523823  0.019886   \n",
       "167.5   0.019513    634.3660  10.700  50.77   1990 -0.573525  0.019810   \n",
       "170.0   0.019131  19802.7446  12.200  50.05   9307 -0.622923  0.019465   \n",
       "172.5   0.018493   8753.6447  13.850  49.90   2477 -0.668741  0.018642   \n",
       "175.0   0.017520  22541.3377  15.625  49.72   9125 -0.711954  0.017601   \n",
       "177.5   0.016359   1983.7360  17.475  49.13    821 -0.754150  0.016441   \n",
       "180.0   0.015014  23893.0729  19.475  49.00  10767 -0.790668  0.015057   \n",
       "182.5   0.013597    912.7876  21.550  49.57    386 -0.819665  0.013592   \n",
       "185.0   0.012139  24763.6821  23.600  49.54  12019 -0.848311  0.012161   \n",
       "187.5   0.010702   1308.1872  25.975  54.57    192 -0.847410  0.011084   \n",
       "\n",
       "             p_GEX         GEX  \n",
       "strike                          \n",
       "140.0  -22930.1435 -21630.2297  \n",
       "145.0  -13714.6045 -12034.0835  \n",
       "150.0  -43184.3750 -34929.9447  \n",
       "155.0  -19604.2253 -12628.0923  \n",
       "157.5   -1645.9691   -719.3928  \n",
       "160.0  -60341.3148 -29714.6101  \n",
       "162.5   -1823.8502  -1078.2033  \n",
       "165.0  -37038.6687  -7505.5502  \n",
       "167.5   -6408.1451  -5773.7790  \n",
       "170.0  -29448.0174  -9645.2728  \n",
       "172.5   -7506.0306   1247.6142  \n",
       "175.0  -26107.7535  -3566.4159  \n",
       "177.5   -2194.1955   -210.4594  \n",
       "180.0  -26352.2306  -2459.1577  \n",
       "182.5    -852.8552     59.9325  \n",
       "185.0  -23759.5812   1004.1008  \n",
       "187.5    -345.9246    962.2625  "
      ]
     },
     "execution_count": 7,
     "metadata": {},
     "output_type": "execute_result"
    }
   ],
   "source": [
    "dfgex1 = getgex(dfop1, asset=asset0)\n",
    "dfgex1[(dfgex1['c_mid'] > 1) & (dfgex1['p_mid'] > 1)]"
   ]
  },
  {
   "cell_type": "markdown",
   "metadata": {},
   "source": [
    "### Visualize GEX"
   ]
  },
  {
   "cell_type": "code",
   "execution_count": 8,
   "metadata": {},
   "outputs": [],
   "source": [
    "def gettotalgex(dfgex):\n",
    "    \"\"\"Obtain call-GEX, put-GEX and total-GEX.\"\"\"\n",
    "    return round(dfgex['c_GEX'].sum(), 2), round(dfgex['p_GEX'].sum(), 2), round(dfgex['GEX'].sum(), 2)\n",
    "\n",
    "def plotgex(dfgex, asset='NVDA'):\n",
    "    \"\"\"Plot call GEX, put GEX and net GEX.\"\"\"\n",
    "    tdate = (dfgex['tradedate'].iloc[0]).strftime('%Y-%m-%d')\n",
    "    expiry = (dfgex['expiry'].iloc[0]).strftime('%Y-%m-%d')\n",
    "    spotprice = dfgex[f'{asset}_cl'].iloc[0]\n",
    "    gexsum_c, gexsum_p, gexsum = gettotalgex(dfgex)\n",
    "    \n",
    "    fig = make_subplots(rows=2, cols=1, shared_xaxes=True, vertical_spacing=0.125, row_heights=[8.0, 8.0],\n",
    "                        specs=[[{\"type\": \"bar\"}], [{\"type\": \"bar\"}]], \n",
    "                        subplot_titles=(f'Call-GEX: {gexsum_c}, Put-GEX: {gexsum_p}', f'Net GEX: {gexsum}'))\n",
    "        \n",
    "    fig.add_trace(go.Bar(x=dfgex.index, y=dfgex['c_GEX'], name=\"Call GEX\",\n",
    "                         marker=dict(color='#34dd74', line=dict(color='#34dd74', width=2))), \n",
    "                  row=1, col=1)\n",
    "    \n",
    "    fig.add_trace(go.Bar(x=dfgex.index, y=dfgex['p_GEX'], name=\"Put GEX\",\n",
    "                         marker=dict(color='#dd3462', line=dict(color='#dd3462', width=2))), \n",
    "                  row=1, col=1)\n",
    "    \n",
    "    fig.add_trace(go.Bar(x=dfgex.index, y=dfgex['GEX'], name=\"GEX\",\n",
    "                         marker=dict(color='#1956ee', line=dict(color='#1956ee', width=2))), \n",
    "                  row=2, col=1)\n",
    "    \n",
    "    titletext = f'{asset} GEX of expiry {expiry} on {tdate} at {spotprice} \\n'\n",
    "    \n",
    "    fig.update_layout(title=titletext, title_x=0.5, width=1000, height=800)\n",
    "    fig.show()"
   ]
  },
  {
   "cell_type": "code",
   "execution_count": 9,
   "metadata": {},
   "outputs": [
    {
     "data": {
      "application/vnd.plotly.v1+json": {
       "config": {
        "plotlyServerURL": "https://plot.ly"
       },
       "data": [
        {
         "marker": {
          "color": "#34dd74",
          "line": {
           "color": "#34dd74",
           "width": 2
          }
         },
         "name": "Call GEX",
         "type": "bar",
         "x": [
          28.75,
          31.25,
          47.5,
          107.5,
          110,
          112.5,
          115,
          117.5,
          120,
          122.5,
          125,
          130,
          135,
          140,
          145,
          150,
          155,
          157.5,
          160,
          162.5,
          165,
          167.5,
          170,
          172.5,
          175,
          177.5,
          180,
          182.5,
          185,
          187.5,
          190,
          192.5,
          195,
          197.5,
          200,
          202.5,
          205,
          210,
          215,
          220,
          225,
          230
         ],
         "xaxis": "x",
         "y": [
          0.814,
          0.379,
          18.2674,
          59.8355,
          150.2874,
          45.633,
          53.7916,
          140.2985,
          116.2784,
          369.1879,
          695.8825,
          601.374,
          765.6892,
          1299.9138,
          1680.521,
          8254.4303,
          6976.1329,
          926.5764,
          30626.7047,
          745.6469,
          29533.1185,
          634.366,
          19802.7446,
          8753.6447,
          22541.3377,
          1983.736,
          23893.0729,
          912.7876,
          24763.6821,
          1308.1872,
          17025.5389,
          659.2627,
          5891.5798,
          730.6501,
          14210.8369,
          600.4458,
          2715.6788,
          4357.7421,
          2104.8321,
          2108.9342,
          1178.121,
          1187.6658
         ],
         "yaxis": "y"
        },
        {
         "marker": {
          "color": "#dd3462",
          "line": {
           "color": "#dd3462",
           "width": 2
          }
         },
         "name": "Put GEX",
         "type": "bar",
         "x": [
          28.75,
          31.25,
          47.5,
          107.5,
          110,
          112.5,
          115,
          117.5,
          120,
          122.5,
          125,
          130,
          135,
          140,
          145,
          150,
          155,
          157.5,
          160,
          162.5,
          165,
          167.5,
          170,
          172.5,
          175,
          177.5,
          180,
          182.5,
          185,
          187.5,
          190,
          192.5,
          195,
          197.5,
          200,
          202.5,
          205,
          210,
          215,
          220,
          225,
          230
         ],
         "xaxis": "x",
         "y": [
          -4.0862,
          -7.771,
          -3.4728,
          -122.2371,
          -700.4849,
          -647.6233,
          -234.3243,
          -235.2252,
          -1814.0619,
          -626.1419,
          -2357.7424,
          -4660.7583,
          -9910.8769,
          -22930.1435,
          -13714.6045,
          -43184.375,
          -19604.2253,
          -1645.9691,
          -60341.3148,
          -1823.8502,
          -37038.6687,
          -6408.1451,
          -29448.0174,
          -7506.0306,
          -26107.7535,
          -2194.1955,
          -26352.2306,
          -852.8552,
          -23759.5812,
          -345.9246,
          -13421.5485,
          -128.6427,
          -3460.1333,
          -123.7441,
          -7261.0598,
          -125.576,
          -1750.8941,
          -2525.9178,
          -2086.2216,
          -3134.6403,
          -2888.7731,
          -1082.7567
         ],
         "yaxis": "y"
        },
        {
         "marker": {
          "color": "#1956ee",
          "line": {
           "color": "#1956ee",
           "width": 2
          }
         },
         "name": "GEX",
         "type": "bar",
         "x": [
          28.75,
          31.25,
          47.5,
          107.5,
          110,
          112.5,
          115,
          117.5,
          120,
          122.5,
          125,
          130,
          135,
          140,
          145,
          150,
          155,
          157.5,
          160,
          162.5,
          165,
          167.5,
          170,
          172.5,
          175,
          177.5,
          180,
          182.5,
          185,
          187.5,
          190,
          192.5,
          195,
          197.5,
          200,
          202.5,
          205,
          210,
          215,
          220,
          225,
          230
         ],
         "xaxis": "x2",
         "y": [
          -3.2722,
          -7.392,
          14.7947,
          -62.4016,
          -550.1974,
          -601.9904,
          -180.5327,
          -94.9267,
          -1697.7835,
          -256.954,
          -1661.8599,
          -4059.3843,
          -9145.1877,
          -21630.2297,
          -12034.0835,
          -34929.9447,
          -12628.0923,
          -719.3928,
          -29714.6101,
          -1078.2033,
          -7505.5502,
          -5773.779,
          -9645.2728,
          1247.6142,
          -3566.4159,
          -210.4594,
          -2459.1577,
          59.9325,
          1004.1008,
          962.2625,
          3603.9903,
          530.62,
          2431.4466,
          606.906,
          6949.7771,
          474.8698,
          964.7848,
          1831.8243,
          18.6105,
          -1025.7061,
          -1710.6521,
          104.9091
         ],
         "yaxis": "y2"
        }
       ],
       "layout": {
        "annotations": [
         {
          "font": {
           "size": 16
          },
          "showarrow": false,
          "text": "Call-GEX: 240425.61, Put-GEX: -382572.6",
          "x": 0.5,
          "xanchor": "center",
          "xref": "paper",
          "y": 1,
          "yanchor": "bottom",
          "yref": "paper"
         },
         {
          "font": {
           "size": 16
          },
          "showarrow": false,
          "text": "Net GEX: -142146.99",
          "x": 0.5,
          "xanchor": "center",
          "xref": "paper",
          "y": 0.4375,
          "yanchor": "bottom",
          "yref": "paper"
         }
        ],
        "height": 800,
        "template": {
         "data": {
          "bar": [
           {
            "error_x": {
             "color": "#2a3f5f"
            },
            "error_y": {
             "color": "#2a3f5f"
            },
            "marker": {
             "line": {
              "color": "#E5ECF6",
              "width": 0.5
             },
             "pattern": {
              "fillmode": "overlay",
              "size": 10,
              "solidity": 0.2
             }
            },
            "type": "bar"
           }
          ],
          "barpolar": [
           {
            "marker": {
             "line": {
              "color": "#E5ECF6",
              "width": 0.5
             },
             "pattern": {
              "fillmode": "overlay",
              "size": 10,
              "solidity": 0.2
             }
            },
            "type": "barpolar"
           }
          ],
          "carpet": [
           {
            "aaxis": {
             "endlinecolor": "#2a3f5f",
             "gridcolor": "white",
             "linecolor": "white",
             "minorgridcolor": "white",
             "startlinecolor": "#2a3f5f"
            },
            "baxis": {
             "endlinecolor": "#2a3f5f",
             "gridcolor": "white",
             "linecolor": "white",
             "minorgridcolor": "white",
             "startlinecolor": "#2a3f5f"
            },
            "type": "carpet"
           }
          ],
          "choropleth": [
           {
            "colorbar": {
             "outlinewidth": 0,
             "ticks": ""
            },
            "type": "choropleth"
           }
          ],
          "contour": [
           {
            "colorbar": {
             "outlinewidth": 0,
             "ticks": ""
            },
            "colorscale": [
             [
              0,
              "#0d0887"
             ],
             [
              0.1111111111111111,
              "#46039f"
             ],
             [
              0.2222222222222222,
              "#7201a8"
             ],
             [
              0.3333333333333333,
              "#9c179e"
             ],
             [
              0.4444444444444444,
              "#bd3786"
             ],
             [
              0.5555555555555556,
              "#d8576b"
             ],
             [
              0.6666666666666666,
              "#ed7953"
             ],
             [
              0.7777777777777778,
              "#fb9f3a"
             ],
             [
              0.8888888888888888,
              "#fdca26"
             ],
             [
              1,
              "#f0f921"
             ]
            ],
            "type": "contour"
           }
          ],
          "contourcarpet": [
           {
            "colorbar": {
             "outlinewidth": 0,
             "ticks": ""
            },
            "type": "contourcarpet"
           }
          ],
          "heatmap": [
           {
            "colorbar": {
             "outlinewidth": 0,
             "ticks": ""
            },
            "colorscale": [
             [
              0,
              "#0d0887"
             ],
             [
              0.1111111111111111,
              "#46039f"
             ],
             [
              0.2222222222222222,
              "#7201a8"
             ],
             [
              0.3333333333333333,
              "#9c179e"
             ],
             [
              0.4444444444444444,
              "#bd3786"
             ],
             [
              0.5555555555555556,
              "#d8576b"
             ],
             [
              0.6666666666666666,
              "#ed7953"
             ],
             [
              0.7777777777777778,
              "#fb9f3a"
             ],
             [
              0.8888888888888888,
              "#fdca26"
             ],
             [
              1,
              "#f0f921"
             ]
            ],
            "type": "heatmap"
           }
          ],
          "heatmapgl": [
           {
            "colorbar": {
             "outlinewidth": 0,
             "ticks": ""
            },
            "colorscale": [
             [
              0,
              "#0d0887"
             ],
             [
              0.1111111111111111,
              "#46039f"
             ],
             [
              0.2222222222222222,
              "#7201a8"
             ],
             [
              0.3333333333333333,
              "#9c179e"
             ],
             [
              0.4444444444444444,
              "#bd3786"
             ],
             [
              0.5555555555555556,
              "#d8576b"
             ],
             [
              0.6666666666666666,
              "#ed7953"
             ],
             [
              0.7777777777777778,
              "#fb9f3a"
             ],
             [
              0.8888888888888888,
              "#fdca26"
             ],
             [
              1,
              "#f0f921"
             ]
            ],
            "type": "heatmapgl"
           }
          ],
          "histogram": [
           {
            "marker": {
             "pattern": {
              "fillmode": "overlay",
              "size": 10,
              "solidity": 0.2
             }
            },
            "type": "histogram"
           }
          ],
          "histogram2d": [
           {
            "colorbar": {
             "outlinewidth": 0,
             "ticks": ""
            },
            "colorscale": [
             [
              0,
              "#0d0887"
             ],
             [
              0.1111111111111111,
              "#46039f"
             ],
             [
              0.2222222222222222,
              "#7201a8"
             ],
             [
              0.3333333333333333,
              "#9c179e"
             ],
             [
              0.4444444444444444,
              "#bd3786"
             ],
             [
              0.5555555555555556,
              "#d8576b"
             ],
             [
              0.6666666666666666,
              "#ed7953"
             ],
             [
              0.7777777777777778,
              "#fb9f3a"
             ],
             [
              0.8888888888888888,
              "#fdca26"
             ],
             [
              1,
              "#f0f921"
             ]
            ],
            "type": "histogram2d"
           }
          ],
          "histogram2dcontour": [
           {
            "colorbar": {
             "outlinewidth": 0,
             "ticks": ""
            },
            "colorscale": [
             [
              0,
              "#0d0887"
             ],
             [
              0.1111111111111111,
              "#46039f"
             ],
             [
              0.2222222222222222,
              "#7201a8"
             ],
             [
              0.3333333333333333,
              "#9c179e"
             ],
             [
              0.4444444444444444,
              "#bd3786"
             ],
             [
              0.5555555555555556,
              "#d8576b"
             ],
             [
              0.6666666666666666,
              "#ed7953"
             ],
             [
              0.7777777777777778,
              "#fb9f3a"
             ],
             [
              0.8888888888888888,
              "#fdca26"
             ],
             [
              1,
              "#f0f921"
             ]
            ],
            "type": "histogram2dcontour"
           }
          ],
          "mesh3d": [
           {
            "colorbar": {
             "outlinewidth": 0,
             "ticks": ""
            },
            "type": "mesh3d"
           }
          ],
          "parcoords": [
           {
            "line": {
             "colorbar": {
              "outlinewidth": 0,
              "ticks": ""
             }
            },
            "type": "parcoords"
           }
          ],
          "pie": [
           {
            "automargin": true,
            "type": "pie"
           }
          ],
          "scatter": [
           {
            "fillpattern": {
             "fillmode": "overlay",
             "size": 10,
             "solidity": 0.2
            },
            "type": "scatter"
           }
          ],
          "scatter3d": [
           {
            "line": {
             "colorbar": {
              "outlinewidth": 0,
              "ticks": ""
             }
            },
            "marker": {
             "colorbar": {
              "outlinewidth": 0,
              "ticks": ""
             }
            },
            "type": "scatter3d"
           }
          ],
          "scattercarpet": [
           {
            "marker": {
             "colorbar": {
              "outlinewidth": 0,
              "ticks": ""
             }
            },
            "type": "scattercarpet"
           }
          ],
          "scattergeo": [
           {
            "marker": {
             "colorbar": {
              "outlinewidth": 0,
              "ticks": ""
             }
            },
            "type": "scattergeo"
           }
          ],
          "scattergl": [
           {
            "marker": {
             "colorbar": {
              "outlinewidth": 0,
              "ticks": ""
             }
            },
            "type": "scattergl"
           }
          ],
          "scattermapbox": [
           {
            "marker": {
             "colorbar": {
              "outlinewidth": 0,
              "ticks": ""
             }
            },
            "type": "scattermapbox"
           }
          ],
          "scatterpolar": [
           {
            "marker": {
             "colorbar": {
              "outlinewidth": 0,
              "ticks": ""
             }
            },
            "type": "scatterpolar"
           }
          ],
          "scatterpolargl": [
           {
            "marker": {
             "colorbar": {
              "outlinewidth": 0,
              "ticks": ""
             }
            },
            "type": "scatterpolargl"
           }
          ],
          "scatterternary": [
           {
            "marker": {
             "colorbar": {
              "outlinewidth": 0,
              "ticks": ""
             }
            },
            "type": "scatterternary"
           }
          ],
          "surface": [
           {
            "colorbar": {
             "outlinewidth": 0,
             "ticks": ""
            },
            "colorscale": [
             [
              0,
              "#0d0887"
             ],
             [
              0.1111111111111111,
              "#46039f"
             ],
             [
              0.2222222222222222,
              "#7201a8"
             ],
             [
              0.3333333333333333,
              "#9c179e"
             ],
             [
              0.4444444444444444,
              "#bd3786"
             ],
             [
              0.5555555555555556,
              "#d8576b"
             ],
             [
              0.6666666666666666,
              "#ed7953"
             ],
             [
              0.7777777777777778,
              "#fb9f3a"
             ],
             [
              0.8888888888888888,
              "#fdca26"
             ],
             [
              1,
              "#f0f921"
             ]
            ],
            "type": "surface"
           }
          ],
          "table": [
           {
            "cells": {
             "fill": {
              "color": "#EBF0F8"
             },
             "line": {
              "color": "white"
             }
            },
            "header": {
             "fill": {
              "color": "#C8D4E3"
             },
             "line": {
              "color": "white"
             }
            },
            "type": "table"
           }
          ]
         },
         "layout": {
          "annotationdefaults": {
           "arrowcolor": "#2a3f5f",
           "arrowhead": 0,
           "arrowwidth": 1
          },
          "autotypenumbers": "strict",
          "coloraxis": {
           "colorbar": {
            "outlinewidth": 0,
            "ticks": ""
           }
          },
          "colorscale": {
           "diverging": [
            [
             0,
             "#8e0152"
            ],
            [
             0.1,
             "#c51b7d"
            ],
            [
             0.2,
             "#de77ae"
            ],
            [
             0.3,
             "#f1b6da"
            ],
            [
             0.4,
             "#fde0ef"
            ],
            [
             0.5,
             "#f7f7f7"
            ],
            [
             0.6,
             "#e6f5d0"
            ],
            [
             0.7,
             "#b8e186"
            ],
            [
             0.8,
             "#7fbc41"
            ],
            [
             0.9,
             "#4d9221"
            ],
            [
             1,
             "#276419"
            ]
           ],
           "sequential": [
            [
             0,
             "#0d0887"
            ],
            [
             0.1111111111111111,
             "#46039f"
            ],
            [
             0.2222222222222222,
             "#7201a8"
            ],
            [
             0.3333333333333333,
             "#9c179e"
            ],
            [
             0.4444444444444444,
             "#bd3786"
            ],
            [
             0.5555555555555556,
             "#d8576b"
            ],
            [
             0.6666666666666666,
             "#ed7953"
            ],
            [
             0.7777777777777778,
             "#fb9f3a"
            ],
            [
             0.8888888888888888,
             "#fdca26"
            ],
            [
             1,
             "#f0f921"
            ]
           ],
           "sequentialminus": [
            [
             0,
             "#0d0887"
            ],
            [
             0.1111111111111111,
             "#46039f"
            ],
            [
             0.2222222222222222,
             "#7201a8"
            ],
            [
             0.3333333333333333,
             "#9c179e"
            ],
            [
             0.4444444444444444,
             "#bd3786"
            ],
            [
             0.5555555555555556,
             "#d8576b"
            ],
            [
             0.6666666666666666,
             "#ed7953"
            ],
            [
             0.7777777777777778,
             "#fb9f3a"
            ],
            [
             0.8888888888888888,
             "#fdca26"
            ],
            [
             1,
             "#f0f921"
            ]
           ]
          },
          "colorway": [
           "#636efa",
           "#EF553B",
           "#00cc96",
           "#ab63fa",
           "#FFA15A",
           "#19d3f3",
           "#FF6692",
           "#B6E880",
           "#FF97FF",
           "#FECB52"
          ],
          "font": {
           "color": "#2a3f5f"
          },
          "geo": {
           "bgcolor": "white",
           "lakecolor": "white",
           "landcolor": "#E5ECF6",
           "showlakes": true,
           "showland": true,
           "subunitcolor": "white"
          },
          "hoverlabel": {
           "align": "left"
          },
          "hovermode": "closest",
          "mapbox": {
           "style": "light"
          },
          "paper_bgcolor": "white",
          "plot_bgcolor": "#E5ECF6",
          "polar": {
           "angularaxis": {
            "gridcolor": "white",
            "linecolor": "white",
            "ticks": ""
           },
           "bgcolor": "#E5ECF6",
           "radialaxis": {
            "gridcolor": "white",
            "linecolor": "white",
            "ticks": ""
           }
          },
          "scene": {
           "xaxis": {
            "backgroundcolor": "#E5ECF6",
            "gridcolor": "white",
            "gridwidth": 2,
            "linecolor": "white",
            "showbackground": true,
            "ticks": "",
            "zerolinecolor": "white"
           },
           "yaxis": {
            "backgroundcolor": "#E5ECF6",
            "gridcolor": "white",
            "gridwidth": 2,
            "linecolor": "white",
            "showbackground": true,
            "ticks": "",
            "zerolinecolor": "white"
           },
           "zaxis": {
            "backgroundcolor": "#E5ECF6",
            "gridcolor": "white",
            "gridwidth": 2,
            "linecolor": "white",
            "showbackground": true,
            "ticks": "",
            "zerolinecolor": "white"
           }
          },
          "shapedefaults": {
           "line": {
            "color": "#2a3f5f"
           }
          },
          "ternary": {
           "aaxis": {
            "gridcolor": "white",
            "linecolor": "white",
            "ticks": ""
           },
           "baxis": {
            "gridcolor": "white",
            "linecolor": "white",
            "ticks": ""
           },
           "bgcolor": "#E5ECF6",
           "caxis": {
            "gridcolor": "white",
            "linecolor": "white",
            "ticks": ""
           }
          },
          "title": {
           "x": 0.05
          },
          "xaxis": {
           "automargin": true,
           "gridcolor": "white",
           "linecolor": "white",
           "ticks": "",
           "title": {
            "standoff": 15
           },
           "zerolinecolor": "white",
           "zerolinewidth": 2
          },
          "yaxis": {
           "automargin": true,
           "gridcolor": "white",
           "linecolor": "white",
           "ticks": "",
           "title": {
            "standoff": 15
           },
           "zerolinecolor": "white",
           "zerolinewidth": 2
          }
         }
        },
        "title": {
         "text": "NVDA GEX of expiry 2022-09-16 on 2022-08-26 at 162.5517 \n",
         "x": 0.5
        },
        "width": 1000,
        "xaxis": {
         "anchor": "y",
         "domain": [
          0,
          1
         ],
         "matches": "x2",
         "showticklabels": false
        },
        "xaxis2": {
         "anchor": "y2",
         "domain": [
          0,
          1
         ]
        },
        "yaxis": {
         "anchor": "x",
         "domain": [
          0.5625,
          1
         ]
        },
        "yaxis2": {
         "anchor": "x2",
         "domain": [
          0,
          0.4375
         ]
        }
       }
      }
     },
     "metadata": {},
     "output_type": "display_data"
    }
   ],
   "source": [
    "plotgex(dfgex1, asset=asset0)"
   ]
  },
  {
   "cell_type": "markdown",
   "metadata": {},
   "source": [
    "### Compute GEX for general spot price "
   ]
  },
  {
   "cell_type": "code",
   "execution_count": 10,
   "metadata": {},
   "outputs": [],
   "source": [
    "def getnewgex(dfgex, asset='NVDA', spotprice=180):\n",
    "    \"\"\"Obtain total GEX of an option chain with arbitary underlying price.\"\"\"\n",
    "    # Alter underlying price\n",
    "    dfnewgex = dfgex.copy()\n",
    "    dfnewgex[f'{asset}_cl'] = spotprice\n",
    "    # Recompute option price, delta and gamma\n",
    "    dfnewgex.reset_index(inplace=True)\n",
    "    tdate = dfnewgex['tradedate'].iloc[0]\n",
    "    expiry = dfnewgex['expiry'].iloc[0]\n",
    "    tdays = (expiry - tdate).days\n",
    "    colbs_c = dfnewgex.apply(lambda row: BSModel(spotprice, row['strike'], tdays, row['c_iv'] / 100), axis=1)\n",
    "    dfnewgex['c_close'] = np.round(colbs_c.apply(lambda x: x.cprice), 2)\n",
    "    dfnewgex['c_delta'] = np.round(colbs_c.apply(lambda x: x.cdelta), 4)\n",
    "    dfnewgex['c_gamma'] = colbs_c.apply(lambda x: x.gamma)\n",
    "    colbs_p = dfnewgex.apply(lambda row: BSModel(spotprice, row['strike'], tdays, row['p_iv'] / 100), axis=1)\n",
    "    dfnewgex['p_close'] = np.round(colbs_p.apply(lambda x: x.pprice), 2)\n",
    "    dfnewgex['p_delta'] = np.round(colbs_p.apply(lambda x: x.pdelta), 4)\n",
    "    dfnewgex['p_gamma'] = colbs_p.apply(lambda x: x.gamma)    \n",
    "    # GEX\n",
    "    dfnewgex['c_GEX'] = np.round(dfnewgex['c_gamma'] * dfnewgex['c_oi'] * spotprice, 4) \n",
    "    dfnewgex['p_GEX'] = np.round(dfnewgex['p_gamma'] * dfnewgex['p_oi'] * -1 * spotprice, 4)\n",
    "    dfnewgex['GEX'] = np.round(dfnewgex['c_GEX'] + dfnewgex['p_GEX'], 4)\n",
    "    # Set back `strike` as index\n",
    "    dfnewgex.set_index('strike', inplace=True)\n",
    "    \n",
    "    return dfnewgex"
   ]
  },
  {
   "cell_type": "markdown",
   "metadata": {},
   "source": [
    "### Zero Gamma Level"
   ]
  },
  {
   "cell_type": "code",
   "execution_count": 11,
   "metadata": {},
   "outputs": [],
   "source": [
    "def get0gamma(dfchain, asset='NVDA', spotbound=(160, 200), interval=2.5):\n",
    "    \"\"\"Obtain zero gamma level.\"\"\"\n",
    "    # GEX according to true underlying price\n",
    "    dfgex = getgex(dfchain, asset)\n",
    "    spotprice = dfgex[f'{asset}_cl'].mean()\n",
    "    cgex0, pgex0, ngex0 = gettotalgex(dfgex)\n",
    "    # Obtain GEX for all spot price levels\n",
    "    spotlevels = np.arange(spotbound[0], spotbound[1], interval)\n",
    "    dfsumgex = pd.DataFrame()\n",
    "    for level in spotlevels:\n",
    "        dfnewgex = getnewgex(dfgex, asset, level)\n",
    "        cgex, pgex, ngex = gettotalgex(dfnewgex)\n",
    "        dfsumgex.loc[level, 'c_GEX'] = cgex\n",
    "        dfsumgex.loc[level, 'p_GEX'] = pgex\n",
    "        dfsumgex.loc[level, 'GEX'] = ngex\n",
    "    # Obtain zero gamma level by linear interpolation\n",
    "    if (dfsumgex['GEX'].min() * dfsumgex['GEX'].max()) > 0:\n",
    "        zerogexlevel = None\n",
    "    else:\n",
    "        for p1, p2 in zip(dfsumgex.index[:-1], dfsumgex.index[1:]):\n",
    "            level1 = dfsumgex.loc[p1, 'GEX']\n",
    "            level2 = dfsumgex.loc[p2, 'GEX']\n",
    "            if level1 * level2 < 0:\n",
    "                zerogexlevel = round((p1 * level2 - p2 * level1) / (level2 - level1), 2)\n",
    "                break\n",
    "    # Visualize GEX at different spot price \n",
    "    fig = make_subplots(rows=1, cols=1, shared_xaxes=True, row_heights=[6.0], specs=[[{\"type\": \"scatter\"}]])\n",
    "    \n",
    "    fig.add_trace(go.Scatter(x=dfsumgex.index, y=dfsumgex['GEX'], mode='lines+markers', name='spot levels'), \n",
    "                  row=1, col=1)\n",
    "    \n",
    "    fig.add_trace(go.Scatter(x=[spotprice], y=[ngex0], mode='markers', name='spot price', \n",
    "                             marker=dict(size=20, color='#66dc19')), row=1, col=1)\n",
    "    \n",
    "    if zerogexlevel != None:\n",
    "        fig.add_trace(go.Scatter(x=[zerogexlevel], y=[0], mode='markers', name='0-gamma level', \n",
    "                                 marker=dict(size=20, color=' #ee195a')), row=1, col=1)\n",
    "        \n",
    "    tdate = dfchain['tradedate'].iloc[0].strftime('%Y-%m-%d')\n",
    "    expiry = (dfchain['expiry'].iloc[0]).strftime('%Y-%m-%d')\n",
    "    fig.update_layout(title=f'Gamma levels of {asset} of expiry {expiry} on {tdate}', \n",
    "                      title_x=0.5, width=1000, height=800)\n",
    "    fig.show()\n",
    "\n",
    "    return dfsumgex, zerogexlevel"
   ]
  },
  {
   "cell_type": "code",
   "execution_count": 12,
   "metadata": {},
   "outputs": [
    {
     "data": {
      "application/vnd.plotly.v1+json": {
       "config": {
        "plotlyServerURL": "https://plot.ly"
       },
       "data": [
        {
         "mode": "lines+markers",
         "name": "spot levels",
         "type": "scatter",
         "x": [
          130.04136000000003,
          132.54136000000003,
          135.04136000000003,
          137.54136000000003,
          140.04136000000003,
          142.54136000000003,
          145.04136000000003,
          147.54136000000003,
          150.04136000000003,
          152.54136000000003,
          155.04136000000003,
          157.54136000000003,
          160.04136000000003,
          162.54136000000003,
          165.04136000000003,
          167.54136000000003,
          170.04136000000003,
          172.54136000000003,
          175.04136000000003,
          177.54136000000003,
          180.04136000000003,
          182.54136000000003,
          185.04136000000003,
          187.54136000000003,
          190.04136000000003,
          192.54136000000003,
          195.04136000000003
         ],
         "xaxis": "x",
         "y": [
          -177496.83,
          -185969.26,
          -193084.51,
          -198630.73,
          -202417.93,
          -204282.98,
          -204093.77,
          -201752.79,
          -197200.55,
          -190418.69,
          -181432.91,
          -170315.32,
          -157185.86,
          -142212.47,
          -125609.4,
          -107633.56,
          -88578.62,
          -68767.23,
          -48541.25,
          -28251.02,
          -8243.94,
          11146.93,
          29613.27,
          46880.78,
          62716.34,
          76933.28,
          89394.21
         ],
         "yaxis": "y"
        },
        {
         "marker": {
          "color": "#66dc19",
          "size": 20
         },
         "mode": "markers",
         "name": "spot price",
         "type": "scatter",
         "x": [
          162.5517
         ],
         "xaxis": "x",
         "y": [
          -142146.99
         ],
         "yaxis": "y"
        },
        {
         "marker": {
          "color": " #ee195a",
          "size": 20
         },
         "mode": "markers",
         "name": "0-gamma level",
         "type": "scatter",
         "x": [
          181.1
         ],
         "xaxis": "x",
         "y": [
          0
         ],
         "yaxis": "y"
        }
       ],
       "layout": {
        "height": 800,
        "template": {
         "data": {
          "bar": [
           {
            "error_x": {
             "color": "#2a3f5f"
            },
            "error_y": {
             "color": "#2a3f5f"
            },
            "marker": {
             "line": {
              "color": "#E5ECF6",
              "width": 0.5
             },
             "pattern": {
              "fillmode": "overlay",
              "size": 10,
              "solidity": 0.2
             }
            },
            "type": "bar"
           }
          ],
          "barpolar": [
           {
            "marker": {
             "line": {
              "color": "#E5ECF6",
              "width": 0.5
             },
             "pattern": {
              "fillmode": "overlay",
              "size": 10,
              "solidity": 0.2
             }
            },
            "type": "barpolar"
           }
          ],
          "carpet": [
           {
            "aaxis": {
             "endlinecolor": "#2a3f5f",
             "gridcolor": "white",
             "linecolor": "white",
             "minorgridcolor": "white",
             "startlinecolor": "#2a3f5f"
            },
            "baxis": {
             "endlinecolor": "#2a3f5f",
             "gridcolor": "white",
             "linecolor": "white",
             "minorgridcolor": "white",
             "startlinecolor": "#2a3f5f"
            },
            "type": "carpet"
           }
          ],
          "choropleth": [
           {
            "colorbar": {
             "outlinewidth": 0,
             "ticks": ""
            },
            "type": "choropleth"
           }
          ],
          "contour": [
           {
            "colorbar": {
             "outlinewidth": 0,
             "ticks": ""
            },
            "colorscale": [
             [
              0,
              "#0d0887"
             ],
             [
              0.1111111111111111,
              "#46039f"
             ],
             [
              0.2222222222222222,
              "#7201a8"
             ],
             [
              0.3333333333333333,
              "#9c179e"
             ],
             [
              0.4444444444444444,
              "#bd3786"
             ],
             [
              0.5555555555555556,
              "#d8576b"
             ],
             [
              0.6666666666666666,
              "#ed7953"
             ],
             [
              0.7777777777777778,
              "#fb9f3a"
             ],
             [
              0.8888888888888888,
              "#fdca26"
             ],
             [
              1,
              "#f0f921"
             ]
            ],
            "type": "contour"
           }
          ],
          "contourcarpet": [
           {
            "colorbar": {
             "outlinewidth": 0,
             "ticks": ""
            },
            "type": "contourcarpet"
           }
          ],
          "heatmap": [
           {
            "colorbar": {
             "outlinewidth": 0,
             "ticks": ""
            },
            "colorscale": [
             [
              0,
              "#0d0887"
             ],
             [
              0.1111111111111111,
              "#46039f"
             ],
             [
              0.2222222222222222,
              "#7201a8"
             ],
             [
              0.3333333333333333,
              "#9c179e"
             ],
             [
              0.4444444444444444,
              "#bd3786"
             ],
             [
              0.5555555555555556,
              "#d8576b"
             ],
             [
              0.6666666666666666,
              "#ed7953"
             ],
             [
              0.7777777777777778,
              "#fb9f3a"
             ],
             [
              0.8888888888888888,
              "#fdca26"
             ],
             [
              1,
              "#f0f921"
             ]
            ],
            "type": "heatmap"
           }
          ],
          "heatmapgl": [
           {
            "colorbar": {
             "outlinewidth": 0,
             "ticks": ""
            },
            "colorscale": [
             [
              0,
              "#0d0887"
             ],
             [
              0.1111111111111111,
              "#46039f"
             ],
             [
              0.2222222222222222,
              "#7201a8"
             ],
             [
              0.3333333333333333,
              "#9c179e"
             ],
             [
              0.4444444444444444,
              "#bd3786"
             ],
             [
              0.5555555555555556,
              "#d8576b"
             ],
             [
              0.6666666666666666,
              "#ed7953"
             ],
             [
              0.7777777777777778,
              "#fb9f3a"
             ],
             [
              0.8888888888888888,
              "#fdca26"
             ],
             [
              1,
              "#f0f921"
             ]
            ],
            "type": "heatmapgl"
           }
          ],
          "histogram": [
           {
            "marker": {
             "pattern": {
              "fillmode": "overlay",
              "size": 10,
              "solidity": 0.2
             }
            },
            "type": "histogram"
           }
          ],
          "histogram2d": [
           {
            "colorbar": {
             "outlinewidth": 0,
             "ticks": ""
            },
            "colorscale": [
             [
              0,
              "#0d0887"
             ],
             [
              0.1111111111111111,
              "#46039f"
             ],
             [
              0.2222222222222222,
              "#7201a8"
             ],
             [
              0.3333333333333333,
              "#9c179e"
             ],
             [
              0.4444444444444444,
              "#bd3786"
             ],
             [
              0.5555555555555556,
              "#d8576b"
             ],
             [
              0.6666666666666666,
              "#ed7953"
             ],
             [
              0.7777777777777778,
              "#fb9f3a"
             ],
             [
              0.8888888888888888,
              "#fdca26"
             ],
             [
              1,
              "#f0f921"
             ]
            ],
            "type": "histogram2d"
           }
          ],
          "histogram2dcontour": [
           {
            "colorbar": {
             "outlinewidth": 0,
             "ticks": ""
            },
            "colorscale": [
             [
              0,
              "#0d0887"
             ],
             [
              0.1111111111111111,
              "#46039f"
             ],
             [
              0.2222222222222222,
              "#7201a8"
             ],
             [
              0.3333333333333333,
              "#9c179e"
             ],
             [
              0.4444444444444444,
              "#bd3786"
             ],
             [
              0.5555555555555556,
              "#d8576b"
             ],
             [
              0.6666666666666666,
              "#ed7953"
             ],
             [
              0.7777777777777778,
              "#fb9f3a"
             ],
             [
              0.8888888888888888,
              "#fdca26"
             ],
             [
              1,
              "#f0f921"
             ]
            ],
            "type": "histogram2dcontour"
           }
          ],
          "mesh3d": [
           {
            "colorbar": {
             "outlinewidth": 0,
             "ticks": ""
            },
            "type": "mesh3d"
           }
          ],
          "parcoords": [
           {
            "line": {
             "colorbar": {
              "outlinewidth": 0,
              "ticks": ""
             }
            },
            "type": "parcoords"
           }
          ],
          "pie": [
           {
            "automargin": true,
            "type": "pie"
           }
          ],
          "scatter": [
           {
            "fillpattern": {
             "fillmode": "overlay",
             "size": 10,
             "solidity": 0.2
            },
            "type": "scatter"
           }
          ],
          "scatter3d": [
           {
            "line": {
             "colorbar": {
              "outlinewidth": 0,
              "ticks": ""
             }
            },
            "marker": {
             "colorbar": {
              "outlinewidth": 0,
              "ticks": ""
             }
            },
            "type": "scatter3d"
           }
          ],
          "scattercarpet": [
           {
            "marker": {
             "colorbar": {
              "outlinewidth": 0,
              "ticks": ""
             }
            },
            "type": "scattercarpet"
           }
          ],
          "scattergeo": [
           {
            "marker": {
             "colorbar": {
              "outlinewidth": 0,
              "ticks": ""
             }
            },
            "type": "scattergeo"
           }
          ],
          "scattergl": [
           {
            "marker": {
             "colorbar": {
              "outlinewidth": 0,
              "ticks": ""
             }
            },
            "type": "scattergl"
           }
          ],
          "scattermapbox": [
           {
            "marker": {
             "colorbar": {
              "outlinewidth": 0,
              "ticks": ""
             }
            },
            "type": "scattermapbox"
           }
          ],
          "scatterpolar": [
           {
            "marker": {
             "colorbar": {
              "outlinewidth": 0,
              "ticks": ""
             }
            },
            "type": "scatterpolar"
           }
          ],
          "scatterpolargl": [
           {
            "marker": {
             "colorbar": {
              "outlinewidth": 0,
              "ticks": ""
             }
            },
            "type": "scatterpolargl"
           }
          ],
          "scatterternary": [
           {
            "marker": {
             "colorbar": {
              "outlinewidth": 0,
              "ticks": ""
             }
            },
            "type": "scatterternary"
           }
          ],
          "surface": [
           {
            "colorbar": {
             "outlinewidth": 0,
             "ticks": ""
            },
            "colorscale": [
             [
              0,
              "#0d0887"
             ],
             [
              0.1111111111111111,
              "#46039f"
             ],
             [
              0.2222222222222222,
              "#7201a8"
             ],
             [
              0.3333333333333333,
              "#9c179e"
             ],
             [
              0.4444444444444444,
              "#bd3786"
             ],
             [
              0.5555555555555556,
              "#d8576b"
             ],
             [
              0.6666666666666666,
              "#ed7953"
             ],
             [
              0.7777777777777778,
              "#fb9f3a"
             ],
             [
              0.8888888888888888,
              "#fdca26"
             ],
             [
              1,
              "#f0f921"
             ]
            ],
            "type": "surface"
           }
          ],
          "table": [
           {
            "cells": {
             "fill": {
              "color": "#EBF0F8"
             },
             "line": {
              "color": "white"
             }
            },
            "header": {
             "fill": {
              "color": "#C8D4E3"
             },
             "line": {
              "color": "white"
             }
            },
            "type": "table"
           }
          ]
         },
         "layout": {
          "annotationdefaults": {
           "arrowcolor": "#2a3f5f",
           "arrowhead": 0,
           "arrowwidth": 1
          },
          "autotypenumbers": "strict",
          "coloraxis": {
           "colorbar": {
            "outlinewidth": 0,
            "ticks": ""
           }
          },
          "colorscale": {
           "diverging": [
            [
             0,
             "#8e0152"
            ],
            [
             0.1,
             "#c51b7d"
            ],
            [
             0.2,
             "#de77ae"
            ],
            [
             0.3,
             "#f1b6da"
            ],
            [
             0.4,
             "#fde0ef"
            ],
            [
             0.5,
             "#f7f7f7"
            ],
            [
             0.6,
             "#e6f5d0"
            ],
            [
             0.7,
             "#b8e186"
            ],
            [
             0.8,
             "#7fbc41"
            ],
            [
             0.9,
             "#4d9221"
            ],
            [
             1,
             "#276419"
            ]
           ],
           "sequential": [
            [
             0,
             "#0d0887"
            ],
            [
             0.1111111111111111,
             "#46039f"
            ],
            [
             0.2222222222222222,
             "#7201a8"
            ],
            [
             0.3333333333333333,
             "#9c179e"
            ],
            [
             0.4444444444444444,
             "#bd3786"
            ],
            [
             0.5555555555555556,
             "#d8576b"
            ],
            [
             0.6666666666666666,
             "#ed7953"
            ],
            [
             0.7777777777777778,
             "#fb9f3a"
            ],
            [
             0.8888888888888888,
             "#fdca26"
            ],
            [
             1,
             "#f0f921"
            ]
           ],
           "sequentialminus": [
            [
             0,
             "#0d0887"
            ],
            [
             0.1111111111111111,
             "#46039f"
            ],
            [
             0.2222222222222222,
             "#7201a8"
            ],
            [
             0.3333333333333333,
             "#9c179e"
            ],
            [
             0.4444444444444444,
             "#bd3786"
            ],
            [
             0.5555555555555556,
             "#d8576b"
            ],
            [
             0.6666666666666666,
             "#ed7953"
            ],
            [
             0.7777777777777778,
             "#fb9f3a"
            ],
            [
             0.8888888888888888,
             "#fdca26"
            ],
            [
             1,
             "#f0f921"
            ]
           ]
          },
          "colorway": [
           "#636efa",
           "#EF553B",
           "#00cc96",
           "#ab63fa",
           "#FFA15A",
           "#19d3f3",
           "#FF6692",
           "#B6E880",
           "#FF97FF",
           "#FECB52"
          ],
          "font": {
           "color": "#2a3f5f"
          },
          "geo": {
           "bgcolor": "white",
           "lakecolor": "white",
           "landcolor": "#E5ECF6",
           "showlakes": true,
           "showland": true,
           "subunitcolor": "white"
          },
          "hoverlabel": {
           "align": "left"
          },
          "hovermode": "closest",
          "mapbox": {
           "style": "light"
          },
          "paper_bgcolor": "white",
          "plot_bgcolor": "#E5ECF6",
          "polar": {
           "angularaxis": {
            "gridcolor": "white",
            "linecolor": "white",
            "ticks": ""
           },
           "bgcolor": "#E5ECF6",
           "radialaxis": {
            "gridcolor": "white",
            "linecolor": "white",
            "ticks": ""
           }
          },
          "scene": {
           "xaxis": {
            "backgroundcolor": "#E5ECF6",
            "gridcolor": "white",
            "gridwidth": 2,
            "linecolor": "white",
            "showbackground": true,
            "ticks": "",
            "zerolinecolor": "white"
           },
           "yaxis": {
            "backgroundcolor": "#E5ECF6",
            "gridcolor": "white",
            "gridwidth": 2,
            "linecolor": "white",
            "showbackground": true,
            "ticks": "",
            "zerolinecolor": "white"
           },
           "zaxis": {
            "backgroundcolor": "#E5ECF6",
            "gridcolor": "white",
            "gridwidth": 2,
            "linecolor": "white",
            "showbackground": true,
            "ticks": "",
            "zerolinecolor": "white"
           }
          },
          "shapedefaults": {
           "line": {
            "color": "#2a3f5f"
           }
          },
          "ternary": {
           "aaxis": {
            "gridcolor": "white",
            "linecolor": "white",
            "ticks": ""
           },
           "baxis": {
            "gridcolor": "white",
            "linecolor": "white",
            "ticks": ""
           },
           "bgcolor": "#E5ECF6",
           "caxis": {
            "gridcolor": "white",
            "linecolor": "white",
            "ticks": ""
           }
          },
          "title": {
           "x": 0.05
          },
          "xaxis": {
           "automargin": true,
           "gridcolor": "white",
           "linecolor": "white",
           "ticks": "",
           "title": {
            "standoff": 15
           },
           "zerolinecolor": "white",
           "zerolinewidth": 2
          },
          "yaxis": {
           "automargin": true,
           "gridcolor": "white",
           "linecolor": "white",
           "ticks": "",
           "title": {
            "standoff": 15
           },
           "zerolinecolor": "white",
           "zerolinewidth": 2
          }
         }
        },
        "title": {
         "text": "Gamma levels of NVDA of expiry 2022-09-16 on 2022-08-26",
         "x": 0.5
        },
        "width": 1000,
        "xaxis": {
         "anchor": "y",
         "domain": [
          0,
          1
         ]
        },
        "yaxis": {
         "anchor": "x",
         "domain": [
          0,
          1
         ]
        }
       }
      }
     },
     "metadata": {},
     "output_type": "display_data"
    }
   ],
   "source": [
    "lowb1 = dfop1[f'{asset0}_cl'].mean() * 0.8\n",
    "uppb1 = dfop1[f'{asset0}_cl'].mean() * 1.2\n",
    "dfsumgex1, zerogex1 = get0gamma(dfop1, asset=asset0, spotbound=(lowb1, uppb1))"
   ]
  },
  {
   "cell_type": "code",
   "execution_count": null,
   "metadata": {},
   "outputs": [],
   "source": []
  },
  {
   "cell_type": "code",
   "execution_count": null,
   "metadata": {},
   "outputs": [],
   "source": []
  },
  {
   "cell_type": "code",
   "execution_count": null,
   "metadata": {},
   "outputs": [],
   "source": []
  },
  {
   "cell_type": "code",
   "execution_count": null,
   "metadata": {},
   "outputs": [],
   "source": []
  }
 ],
 "metadata": {
  "kernelspec": {
   "display_name": "Python 3.8.5 ('base')",
   "language": "python",
   "name": "python3"
  },
  "language_info": {
   "codemirror_mode": {
    "name": "ipython",
    "version": 3
   },
   "file_extension": ".py",
   "mimetype": "text/x-python",
   "name": "python",
   "nbconvert_exporter": "python",
   "pygments_lexer": "ipython3",
   "version": "3.8.5"
  },
  "vscode": {
   "interpreter": {
    "hash": "88279d2366fe020547cde40dd65aa0e3aa662a6ec1f3ca12d88834876c85e1a6"
   }
  }
 },
 "nbformat": 4,
 "nbformat_minor": 4
}
