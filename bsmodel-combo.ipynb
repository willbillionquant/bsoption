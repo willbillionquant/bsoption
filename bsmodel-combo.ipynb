{
 "cells": [
  {
   "cell_type": "markdown",
   "metadata": {},
   "source": [
    "## Modules"
   ]
  },
  {
   "cell_type": "code",
   "execution_count": 1,
   "metadata": {},
   "outputs": [],
   "source": [
    "import numpy as np\n",
    "import pandas as pd\n",
    "\n",
    "import os\n",
    "import sys\n",
    "sys.path.append('..')\n",
    "\n",
    "from datetime import datetime, timedelta\n",
    "from itertools import product\n",
    "from pandas import ExcelWriter\n",
    "from scipy.stats import norm\n",
    "\n",
    "import plotly.graph_objects as go\n",
    "from plotly.subplots import make_subplots\n",
    "\n",
    "# `bsoption` module\n",
    "from bsoption.bsmodel import *\n",
    "\n",
    "# `hkexoi` module\n",
    "from hkexoi import *\n",
    "from hkexoi.hktradedates import *\n",
    "from hkexoi.database import *"
   ]
  },
  {
   "cell_type": "markdown",
   "metadata": {},
   "source": [
    "## Option strategy object"
   ]
  },
  {
   "cell_type": "markdown",
   "metadata": {},
   "source": [
    "### strategy ratio dictionary"
   ]
  },
  {
   "cell_type": "code",
   "execution_count": 2,
   "metadata": {},
   "outputs": [],
   "source": [
    "stratdict = {\n",
    "        'spread': (1, -1),  # debit/credit spread: LONG 1 leg SHORT other\n",
    "        'strangle': (1, 1),  # strangle / straddle: Same direction both side\n",
    "        'synthetic': (1, -1),  # LC + SP / LP + SC\n",
    "        }"
   ]
  },
  {
   "cell_type": "markdown",
   "metadata": {},
   "source": [
    "### Option duo class"
   ]
  },
  {
   "cell_type": "code",
   "execution_count": 13,
   "metadata": {},
   "outputs": [],
   "source": [
    "class Opduo():\n",
    "    \"\"\"\n",
    "    Formulate option strategy involving 2 distinct option series.\n",
    "    \"\"\"\n",
    "\n",
    "    def __init__(self, op1, str1, exp1, sig1, op2, str2, exp2, sig2, strat, firstside, q=0, rf=0):\n",
    "        self.op1 = op1  # Option type of first instrument (call or put)\n",
    "        self.str1 = str1  # 1st strike price\n",
    "        self.exp1 = exp1  # 1st expiry date\n",
    "        self.sig1 = sig1 # 1st IV\n",
    "        self.op2 = op2  # Option type of first instrument (call or put)\n",
    "        self.str2 = str2  # 2nd strike price\n",
    "        self.exp2 = exp2  # 2nd expiry date\n",
    "        self.sig2 = sig2  # 2nd IV\n",
    "        self.strat = strat # option combo name\n",
    "        self.firstside = firstside # LONG/SHORT for the 1st leg\n",
    "        self.q = q  # Dividend rate\n",
    "        self.rf = rf  # risk-free rate\n",
    "\n",
    "    def getduomodel(self, spot, tradedate):\n",
    "        \"\"\"Obtain a pair of BSModel object given trading date, spot & IVs.\"\"\"\n",
    "        day1 = (self.exp1 - tradedate).days  # days to expiry of option 1\n",
    "        day2 = (self.exp2 - tradedate).days  # days to expiry of option 2\n",
    "        BS1 = BSModel(spot, self.str1, day1, self.sig1)  # BSModel of option 1\n",
    "        BS2 = BSModel(spot, self.str2, day2, self.sig2)  # BSModel of option 2\n",
    "        return BS1, BS2\n",
    "\n",
    "    def getstratspec(self, spot, tradedate, digit=2):\n",
    "        \"\"\"Obtain strategy price & greeks. LONG/SHORT refers to 1st leg.\"\"\"\n",
    "        # Pair of BSModel objects\n",
    "        BS1, BS2 = self.getduomodel(spot, tradedate)\n",
    "        opprice1 = BS1.getopprice(self.op1)\n",
    "        opprice2 = BS2.getopprice(self.op2)\n",
    "        # identify option strategy type\n",
    "        ratiopair = stratdict[self.strat]\n",
    "        sign = lambda x: 1 if x == 'LONG' else -1\n",
    "        side = self.firstside\n",
    "        # Strategy price\n",
    "        stratprice = round((opprice1 * ratiopair[0] + opprice2 * ratiopair[1]) * sign(side), digit)\n",
    "        # Strategy delta\n",
    "        delta = round((BS1.getdelta(self.op1) * ratiopair[0] + BS2.getdelta(self.op2) * ratiopair[1]) * sign(side), 4)\n",
    "        # strategy theta\n",
    "        theta = round((BS1.gettheta(self.op1) * ratiopair[0] + BS2.gettheta(self.op2) * ratiopair[1]) * sign(side), 4)\n",
    "        # strategy vega\n",
    "        vega = round((BS1.vega * ratiopair[0] + BS2.vega * ratiopair[1]) * sign(side), 4)\n",
    "        #  strategy gamma\n",
    "        gamma = round((BS1.gamma * ratiopair[0] + BS2.gamma * ratiopair[1]) * sign(side), 4)\n",
    "\n",
    "        return stratprice, delta, theta, vega, gamma\n",
    "    \n",
    "    def getstratpayoff(self, preexpiry=False):\n",
    "        \"\"\"\n",
    "        Obtain payoff diagram at expiry and (if `preexpiry` enabled) payoff of each given days before expiry.\n",
    "        Expiry for the two legs must be the same. (Thus calendar spread is NOT available for payoff diagram.)\n",
    "        \"\"\"\n",
    "        halfplus = lambda x: x if x > 0 else 0\n",
    "        sig = max([self.sig1, self.sig2])\n",
    "        lowb = self.K * (1 - self.sig / 2)\n",
    "        upb = self.K * (1 + self.sig / 2)\n",
    "        pricearr = np.linspace(lowb, upb, 11)\n",
    "        \n",
    "        \n",
    "        \n",
    "        return\n"
   ]
  },
  {
   "cell_type": "markdown",
   "metadata": {},
   "source": [
    "### Example 1: Debit call spread"
   ]
  },
  {
   "cell_type": "code",
   "execution_count": 4,
   "metadata": {},
   "outputs": [
    {
     "name": "stdout",
     "output_type": "stream",
     "text": [
      "IV 32%: price=14.94, delta=0.11, theta=-0.7027, vega=1.7127, gamma=0.0006\n",
      "IV 48%: price=49.38, delta=0.2058, theta=-1.4651, vega=2.3807, gamma=0.0006\n",
      "IV 64%: price=86.3, delta=0.242, theta=-1.7658, vega=2.152, gamma=0.0004\n",
      "IV 80%: price=117.09, delta=0.2433, theta=-1.7335, vega=1.6902, gamma=0.0003\n",
      "IV 96%: price=140.61, delta=0.2305, theta=-1.5537, vega=1.2624, gamma=0.0002\n",
      "IV 112%: price=157.96, delta=0.2135, theta=-1.3232, vega=0.9215, gamma=0.0001\n",
      "IV 128%: price=170.52, delta=0.1962, theta=-1.0838, vega=0.6604, gamma=0.0001\n"
     ]
    }
   ],
   "source": [
    "# Spec of 1st leg (LC)\n",
    "op11 = 'C'\n",
    "str11 = 3200\n",
    "exp11 = datetime(2022, 4, 29)\n",
    "\n",
    "# Spec of 2nd \n",
    "op21 = 'C'\n",
    "str21 = 4000\n",
    "exp21 = exp11\n",
    "\n",
    "# Current underlying price & date\n",
    "spot1 = 2800\n",
    "td1 = datetime(2022, 3, 21)\n",
    "\n",
    "# Strat nature\n",
    "strat1 = 'spread'\n",
    "firstside1 = 'LONG'\n",
    "\n",
    "# For each IV level, compute debit call spread price\n",
    "sigrange = range(32, 144, 16)\n",
    "for sig in sigrange:\n",
    "    DCspread = Opduo(op11, str11, exp11, sig / 100, op21, str21, exp21, sig / 100, strat1, firstside1)\n",
    "    price, delta, theta, vega, gamma = DCspread.getstratspec(spot1, td1) \n",
    "    print(f'IV {sig}%: price={price}, delta={delta}, theta={theta}, vega={vega}, gamma={gamma}')\n",
    "    "
   ]
  },
  {
   "cell_type": "markdown",
   "metadata": {},
   "source": [
    "### Example 2: Calendar spread (same strike, different expiry)"
   ]
  },
  {
   "cell_type": "code",
   "execution_count": 5,
   "metadata": {},
   "outputs": [
    {
     "name": "stdout",
     "output_type": "stream",
     "text": [
      "IV 32%: price=20.9, delta=0.0722, theta=-0.0506, vega=1.4507, gamma=0.0\n",
      "IV 48%: price=44.02, delta=0.0725, theta=0.1906, vega=1.4128, gamma=-0.0001\n",
      "IV 64%: price=65.98, delta=0.0664, theta=0.4482, vega=1.335, gamma=-0.0001\n",
      "IV 80%: price=86.85, delta=0.0616, theta=0.6943, vega=1.2761, gamma=-0.0001\n",
      "IV 96%: price=106.88, delta=0.0585, theta=0.9302, vega=1.2301, gamma=-0.0001\n",
      "IV 112%: price=126.24, delta=0.0568, theta=1.16, vega=1.1907, gamma=-0.0001\n",
      "IV 128%: price=145.0, delta=0.056, theta=1.3865, vega=1.1542, gamma=-0.0001\n"
     ]
    }
   ],
   "source": [
    "# Spec of 1st leg (SC)\n",
    "op12 = 'C'\n",
    "str12 = 3200\n",
    "exp12 = datetime(2022, 4, 29)\n",
    "\n",
    "# Spec of 2nd (LC)\n",
    "op22 = 'C'\n",
    "str22 = str12\n",
    "exp22 = datetime(2022, 5, 27)\n",
    "\n",
    "# Current underlying price & date\n",
    "spot2 = 2800\n",
    "td2 = datetime(2022, 3, 21)\n",
    "\n",
    "# Strat nature\n",
    "strat2 = 'spread'\n",
    "firstside2 = 'SHORT'\n",
    "\n",
    "# For each IV level, compute debit call spread price\n",
    "sigrange = range(32, 144, 16)\n",
    "for sig in sigrange:\n",
    "    CLspread = Opduo(op12, str12, exp12, sig / 100, op22, str22, exp22, sig / 100, strat2, firstside2)\n",
    "    price, delta, theta, vega, gamma = CLspread.getstratspec(spot2, td2) \n",
    "    print(f'IV {sig}%: price={price}, delta={delta}, theta={theta}, vega={vega}, gamma={gamma}')"
   ]
  },
  {
   "cell_type": "markdown",
   "metadata": {},
   "source": [
    "### Example 3: Synthetic SF (LP + SC)"
   ]
  },
  {
   "cell_type": "code",
   "execution_count": 7,
   "metadata": {},
   "outputs": [
    {
     "name": "stdout",
     "output_type": "stream",
     "text": [
      "Spot 5600: price=2200.02, delta=-0.9998, theta=-0.0052, vega=0.0097, gamma=0.0\n",
      "Spot 6000: price=1800.34, delta=-0.9979, theta=-0.0568, vega=0.1066, gamma=0.0\n",
      "Spot 6400: price=1402.88, delta=-0.9865, theta=-0.3062, vega=0.5741, gamma=0.0001\n",
      "Spot 6800: price=1014.56, delta=-0.9495, theta=-0.8832, vega=1.656, gamma=0.0001\n",
      "Spot 7200: price=647.71, delta=-0.8808, theta=-1.4067, vega=2.6376, gamma=0.0002\n",
      "Spot 7600: price=310.17, delta=-0.8108, theta=-1.0937, vega=2.0506, gamma=0.0001\n",
      "Spot 8000: price=-7.05, delta=-0.7854, theta=0.1262, vega=-0.2365, gamma=-0.0\n",
      "Spot 8400: price=-326.09, delta=-0.8178, theta=1.3265, vega=-2.4872, gamma=-0.0001\n",
      "Spot 8800: price=-665.22, delta=-0.8794, theta=1.7222, vega=-3.2292, gamma=-0.0002\n",
      "Spot 9200: price=-1028.82, delta=-0.9357, theta=1.3875, vega=-2.6016, gamma=-0.0001\n",
      "Spot 9600: price=-1411.0, delta=-0.9716, theta=0.8284, vega=-1.5533, gamma=-0.0001\n",
      "Spot 10000: price=-1803.67, delta=-0.9894, theta=0.3943, vega=-0.7392, gamma=-0.0\n"
     ]
    }
   ],
   "source": [
    "# Spec of 1st leg (LP)\n",
    "op13 = 'P'\n",
    "str13 = 7800\n",
    "exp13 = datetime(2022, 3, 30)\n",
    "sig13 = 32\n",
    "\n",
    "# Spec of 2nd leg (SC)\n",
    "op23 = 'C'\n",
    "str23 = 8200\n",
    "exp23 = exp13\n",
    "sig23 = sig13\n",
    "\n",
    "# Current underlying date\n",
    "td3 = datetime(2022, 2, 28)\n",
    "\n",
    "# Strat nature\n",
    "strat3 = 'synthetic'\n",
    "firstside3 = 'LONG'\n",
    "\n",
    "# For each IV level, compute debit call spread price\n",
    "spotrange = range(5600, 10400, 400)\n",
    "for spot in spotrange:\n",
    "    SynSF = Opduo(op13, str13, exp13, sig13 / 100, op23, str23, exp23, sig23 / 100, strat3, firstside3)\n",
    "    price, delta, theta, vega, gamma = SynSF.getstratspec(spot, td3) \n",
    "    print(f'Spot {spot}: price={price}, delta={delta}, theta={theta}, vega={vega}, gamma={gamma}')\n",
    "    "
   ]
  },
  {
   "cell_type": "markdown",
   "metadata": {},
   "source": [
    "### Example 4: Strangle (IF same strike then becomes straddle)"
   ]
  },
  {
   "cell_type": "code",
   "execution_count": 14,
   "metadata": {},
   "outputs": [
    {
     "name": "stdout",
     "output_type": "stream",
     "text": [
      "Spot 5600: price=2200.0, delta=-1.0, theta=-0.0, vega=0.0001, gamma=0.0\n",
      "Spot 6000: price=1800.01, delta=-0.9999, theta=-0.0023, vega=0.0057, gamma=0.0\n",
      "Spot 6400: price=1400.31, delta=-0.9976, theta=-0.0568, vega=0.1421, gamma=0.0\n",
      "Spot 6800: price=1004.83, delta=-0.9714, theta=-0.5403, vega=1.3508, gamma=0.0001\n",
      "Spot 7200: price=637.15, delta=-0.8388, theta=-2.3304, vega=5.8261, gamma=0.0006\n",
      "Spot 7600: price=363.13, delta=-0.4919, theta=-5.2398, vega=13.0995, gamma=0.0011\n",
      "Spot 8000: price=267.77, delta=0.0291, theta=-6.8476, vega=17.119, gamma=0.0014\n",
      "Spot 8400: price=381.58, delta=0.5166, theta=-5.641, vega=14.1026, gamma=0.001\n",
      "Spot 8800: price=655.43, delta=0.8187, theta=-3.1084, vega=7.7711, gamma=0.0005\n",
      "Spot 9200: price=1013.27, delta=0.9486, theta=-1.1987, vega=2.9967, gamma=0.0002\n",
      "Spot 9600: price=1402.51, delta=0.9888, theta=-0.3358, vega=0.8394, gamma=0.0\n",
      "Spot 10000: price=1800.38, delta=0.9981, theta=-0.0706, vega=0.1765, gamma=0.0\n"
     ]
    }
   ],
   "source": [
    "# Spec of 1st leg (LP)\n",
    "op14 = 'P'\n",
    "str14 = 7800\n",
    "exp14 = datetime(2022, 3, 30)\n",
    "sig14 = 24\n",
    "\n",
    "# Spec of 2nd leg (LC)\n",
    "op24 = 'C'\n",
    "str24 = 8200\n",
    "exp24 = exp14\n",
    "sig24 = sig14\n",
    "\n",
    "# Current underlying date\n",
    "td4 = datetime(2022, 2, 28)\n",
    "\n",
    "# Strat nature\n",
    "strat4 = 'strangle'\n",
    "firstside4 = 'LONG'\n",
    "\n",
    "# For each IV level, compute debit call spread price\n",
    "spotrange = range(5600, 10400, 400)\n",
    "for spot in spotrange:\n",
    "    Strangle = Opduo(op14, str14, exp14, sig14 / 100, op24, str24, exp24, sig24 / 100, strat4, firstside4)\n",
    "    price, delta, theta, vega, gamma = Strangle.getstratspec(spot, td4) \n",
    "    print(f'Spot {spot}: price={price}, delta={delta}, theta={theta}, vega={vega}, gamma={gamma}')\n",
    "    "
   ]
  },
  {
   "cell_type": "markdown",
   "metadata": {},
   "source": [
    "## Payoff diagram"
   ]
  },
  {
   "cell_type": "code",
   "execution_count": null,
   "metadata": {},
   "outputs": [],
   "source": []
  },
  {
   "cell_type": "code",
   "execution_count": null,
   "metadata": {},
   "outputs": [],
   "source": []
  },
  {
   "cell_type": "code",
   "execution_count": null,
   "metadata": {},
   "outputs": [],
   "source": []
  },
  {
   "cell_type": "code",
   "execution_count": null,
   "metadata": {},
   "outputs": [],
   "source": []
  },
  {
   "cell_type": "code",
   "execution_count": null,
   "metadata": {},
   "outputs": [],
   "source": []
  },
  {
   "cell_type": "code",
   "execution_count": null,
   "metadata": {},
   "outputs": [],
   "source": []
  },
  {
   "cell_type": "code",
   "execution_count": null,
   "metadata": {},
   "outputs": [],
   "source": []
  },
  {
   "cell_type": "code",
   "execution_count": null,
   "metadata": {},
   "outputs": [],
   "source": []
  },
  {
   "cell_type": "markdown",
   "metadata": {},
   "source": [
    "## Incorporate with `hkexoi` module"
   ]
  },
  {
   "cell_type": "code",
   "execution_count": null,
   "metadata": {},
   "outputs": [],
   "source": [
    "def gethkstratdf(symbol, strat, optype1, month1, strike1, optype2, month2, strike2, startstr, endstr, \n",
    "                 side='LONG', style='regular'):\n",
    "    \"\"\"Obtain the option strat price and greeks.\"\"\"\n",
    "    assert style in ['regular', 'settle'], AttributeError('Inappropriate session style!')\n",
    "    assert side in ['LONG', 'SHORT'], AttributeError('Must be LONG or SHORT!')\n",
    "    sign = lambda x: 1 if x == 'LONG' else -1  \n",
    "    dfop1 = get_oneop(symbol, optype1, month1, strike1, startstr, endstr, style)\n",
    "    dfop2 = get_oneop(symbol, optype2, month2, strike2, startstr, endstr, style)\n",
    "    if style == 'regular':\n",
    "        closefield = 'td_close'\n",
    "    else:\n",
    "        closefield = 'day_close'\n",
    "    # Strategy dataframe columns\n",
    "    opfields = ['month', 'strike', 'optype', 'sig', 'ftclose']\n",
    "    specfields = [closefield, 'delta', 'theta', 'vega']\n",
    "    stratcol = [f'{field}{num}' for field, num in product(opfields, range(1, 3))] + specfields\n",
    "    dfstrat = pd.DataFrame()\n",
    "    for field in opfields:\n",
    "        dfstrat[f'{field}1'] = dfop1[field]\n",
    "        dfstrat[f'{field}2'] = dfop2[field]\n",
    "    ratiopair = stratdict[strat]\n",
    "    for field in specfields:\n",
    "        dfstrat[field] = (dfop1[field] * ratiopair[0] + dfop2[field] * ratiopair[1]) * sign(side)\n",
    "    \n",
    "    return dfstrat"
   ]
  },
  {
   "cell_type": "markdown",
   "metadata": {},
   "source": [
    "### Sample : call spread"
   ]
  },
  {
   "cell_type": "code",
   "execution_count": null,
   "metadata": {},
   "outputs": [],
   "source": [
    "strattest = 'spread'\n",
    "op1test = 'C'\n",
    "str1test = 29000\n",
    "month1test = (2021, 4)\n",
    "op2test = 'C'\n",
    "str2test = 30000\n",
    "month2test = month1test\n",
    "startstr = '2021-04-01'\n",
    "endstr = '2021-04-30'\n",
    "dfstrattest = gethkstratdf('hsi', strattest, op1test, month1test, str1test, op2test, month2test, str2test, startstr, endstr)\n",
    "dfstrattest"
   ]
  },
  {
   "cell_type": "markdown",
   "metadata": {},
   "source": [
    "### Sample: strangle"
   ]
  },
  {
   "cell_type": "code",
   "execution_count": null,
   "metadata": {},
   "outputs": [],
   "source": [
    "strattest = 'strangle'\n",
    "op1test = 'C'\n",
    "str1test = 29000\n",
    "month1test = (2021, 4)\n",
    "op2test = 'P'\n",
    "str2test = 28000\n",
    "month2test = month1test\n",
    "startstr = '2021-04-01'\n",
    "endstr = '2021-04-30'\n",
    "dfstrattest2 = gethkstratdf('hsi', strattest, op1test, month1test, str1test, op2test, month2test, str2test, startstr, endstr)\n",
    "dfstrattest2"
   ]
  },
  {
   "cell_type": "markdown",
   "metadata": {},
   "source": [
    "### Sample: Calendar spread"
   ]
  },
  {
   "cell_type": "code",
   "execution_count": null,
   "metadata": {},
   "outputs": [],
   "source": [
    "strattest = 'spread'\n",
    "op1test = 'C'\n",
    "str1test = 28400\n",
    "month1test = (2021, 2)\n",
    "op2test = 'C'\n",
    "str2test = 28400\n",
    "month2test = (2021, 1)\n",
    "startstr = '2021-01-01'\n",
    "endstr = '2021-01-28'\n",
    "dfstrattest4 = gethkstratdf('hsi', strattest, op1test, month1test, str1test, op2test, month2test, str2test, \n",
    "                            startstr, endstr)\n",
    "dfstrattest4"
   ]
  },
  {
   "cell_type": "markdown",
   "metadata": {},
   "source": [
    "## Option equity curve"
   ]
  },
  {
   "cell_type": "markdown",
   "metadata": {},
   "source": [
    "### Function"
   ]
  },
  {
   "cell_type": "code",
   "execution_count": null,
   "metadata": {},
   "outputs": [],
   "source": [
    "def getopstratcurve(dfop, style='regular'):\n",
    "    \"\"\"Obtain option strategy price curve.\"\"\"\n",
    "    assert style in ['regular', 'settle'], AttributeError('Inappropriate session style!')\n",
    "    if style == 'regular':\n",
    "        closefield = 'td_close'\n",
    "    else:\n",
    "        closefield = 'day_close'\n",
    "    fig = make_subplots(rows=5, cols=1, shared_xaxes=True, vertical_spacing=0.04, \n",
    "                        row_heights=[0.32, 0.32, 0.12, 0.12, 0.12], specs=[[{\"type\": \"scatter\"}]] * 5,\n",
    "                        subplot_titles=(\"Strategy\", \"Underlying\", \"Delta\", \"Theta\", \"Vega\"))\n",
    "    # Option price curve\n",
    "    fig.add_trace(go.Scatter(x=dfop.index, y=dfop[closefield],\n",
    "                  mode=\"lines\", name=\"Strategy\", line_color = '#43b117'), row=1, col=1)\n",
    "    # Underlying Futures price curve\n",
    "    fig.add_trace(go.Scatter(x=dfop.index, y=dfop['ftclose1'],\n",
    "                  mode=\"lines\", name=\"Underlying\", line_color = '#c557d2'), row=2, col=1)\n",
    "    fig.add_trace(go.Scatter(x=dfop.index, y=dfop['ftclose2'],\n",
    "                  mode=\"lines\", name=\"Underlying\", line_color = '#1756b1'), row=2, col=1)\n",
    "    # Delta curve\n",
    "    fig.add_trace(go.Scatter(x=dfop.index, y=dfop['delta'],\n",
    "                  mode=\"lines\", name=\"Delta\", line_color = '#b119b1'), row=3, col=1)\n",
    "    # Theta curve\n",
    "    fig.add_trace(go.Scatter(x=dfop.index, y=dfop['theta'],\n",
    "                  mode=\"lines\", name=\"Theta\", line_color = '#c50c47'), row=4, col=1)\n",
    "    # Vega curve\n",
    "    fig.add_trace(go.Scatter(x=dfop.index, y=dfop['vega'],\n",
    "                  mode=\"lines\", name=\"Vega\", line_color = '#34d0dd'), row=5, col=1)    \n",
    "    # Chart title\n",
    "    fig.update_layout(height=800, showlegend=False, title_text=\"Option Strategy\", title_x=0.5)\n",
    "    fig.show()"
   ]
  },
  {
   "cell_type": "markdown",
   "metadata": {},
   "source": [
    "### Sample: spread"
   ]
  },
  {
   "cell_type": "code",
   "execution_count": null,
   "metadata": {},
   "outputs": [],
   "source": [
    "strattest = 'spread'\n",
    "op1test = 'C'\n",
    "str1test = 29000\n",
    "month1test = (2021, 4)\n",
    "op2test = 'C'\n",
    "str2test = 30000\n",
    "month2test = month1test\n",
    "startstr = '2021-04-01'\n",
    "endstr = '2021-04-30'\n",
    "dfstrattest1 = gethkstratdf('hsi', strattest, op1test, month1test, str1test, op2test, month2test, str2test, startstr, endstr)\n",
    "getopstratcurve(dfstrattest1)"
   ]
  },
  {
   "cell_type": "markdown",
   "metadata": {},
   "source": [
    "### Sample: Calendar spread"
   ]
  },
  {
   "cell_type": "code",
   "execution_count": null,
   "metadata": {},
   "outputs": [],
   "source": [
    "getopstratcurve(dfstrattest4)"
   ]
  },
  {
   "cell_type": "markdown",
   "metadata": {},
   "source": [
    "### Sample: strangle"
   ]
  },
  {
   "cell_type": "code",
   "execution_count": null,
   "metadata": {},
   "outputs": [],
   "source": [
    "strattest = 'strangle'\n",
    "op1test = 'C'\n",
    "str1test = 29000\n",
    "month1test = (2021, 4)\n",
    "op2test = 'P'\n",
    "str2test = 28000\n",
    "month2test = month1test\n",
    "startstr = '2021-04-01'\n",
    "endstr = '2021-04-30'\n",
    "dfstrattest2 = gethkstratdf('hsi', strattest, op1test, month1test, str1test, op2test, month2test, str2test, startstr, endstr)\n",
    "getopstratcurve(dfstrattest2)"
   ]
  }
 ],
 "metadata": {
  "kernelspec": {
   "display_name": "Python 3",
   "language": "python",
   "name": "python3"
  },
  "language_info": {
   "codemirror_mode": {
    "name": "ipython",
    "version": 3
   },
   "file_extension": ".py",
   "mimetype": "text/x-python",
   "name": "python",
   "nbconvert_exporter": "python",
   "pygments_lexer": "ipython3",
   "version": "3.8.5"
  }
 },
 "nbformat": 4,
 "nbformat_minor": 4
}
