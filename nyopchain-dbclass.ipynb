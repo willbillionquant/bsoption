{
 "cells": [
  {
   "cell_type": "markdown",
   "metadata": {},
   "source": [
    "## Modules"
   ]
  },
  {
   "cell_type": "code",
   "execution_count": null,
   "metadata": {},
   "outputs": [],
   "source": [
    "import os\n",
    "import sys\n",
    "sys.path.append('..')\n",
    "\n",
    "from datetime import datetime\n",
    "import numpy as np\n",
    "import pandas as pd\n",
    "from pandas import ExcelWriter"
   ]
  },
  {
   "cell_type": "code",
   "execution_count": null,
   "metadata": {},
   "outputs": [],
   "source": []
  },
  {
   "cell_type": "code",
   "execution_count": null,
   "metadata": {},
   "outputs": [],
   "source": []
  },
  {
   "cell_type": "code",
   "execution_count": null,
   "metadata": {},
   "outputs": [],
   "source": [
    "class NYopchain():\n",
    "\n",
    "    def __init__(self):\n",
    "        self.engine = create_engine(f'sqlite:///{os.path.join(chainpath, \"nyopchain.db\")}')\n",
    "        self.collist = ['tradedate', 'contract', 'asset', 'optype', 'expiry', 'strike',\n",
    "                        'last', 'bid', 'ask', 'chg', 'pctchg', 'iv', 'vol', 'oi']\n",
    "\n",
    "    def getopchainyahoo(self, asset):\n",
    "        \"\"\"Obtain most recent trading day option chain data from yahoo finance API.\"\"\"\n",
    "        Ticker = yf.Ticker(asset)\n",
    "        expdaylist = Ticker.options\n",
    "        df1d = Ticker.history(period='1d')\n",
    "        lasttd = df1d.index[0].strftime('%Y-%m-%d')\n",
    "\n",
    "        chaindict = {}\n",
    "        for daystr in expdaylist:\n",
    "            expday = datetime.strptime(daystr, '%Y-%m-%d')\n",
    "            if expday.weekday() == 4:\n",
    "                chainlist = Ticker.option_chain(daystr)\n",
    "                dfcall = chainlist[0]\n",
    "                dfcall['optype'] = 'C'\n",
    "                dfput = chainlist[1]\n",
    "                dfput['optype'] = 'P'\n",
    "                renamedict = {'contractSymbol': 'contract', 'lastTradeDate': 'ltdate', 'lastPrice': 'last',\n",
    "                              'change': 'chg', 'percentChange': 'pctchg', 'volume': 'vol', 'openInterest': 'oi',\n",
    "                              'impliedVolatility': 'iv'}\n",
    "                for df in [dfcall, dfput]:\n",
    "                    df.drop(['inTheMoney', 'contractSize', 'currency'], axis=1, inplace=True)\n",
    "                    df.rename(columns=renamedict, inplace=True)\n",
    "                    df['asset'] = asset\n",
    "                    df['expiry'] = expday\n",
    "                dfchain = pd.concat([dfcall, dfput], axis=0)\n",
    "                dfchain = dfchain[self.collist]\n",
    "                for col in self.collist[5:]:\n",
    "                    dfchain[col] = pd.to_numeric(dfchain[col])\n",
    "                dfchain['chg'] = np.round(dfchain['chg'], 2)\n",
    "                dfchain['pctchg'] = np.round(dfchain['pctchg'], 4)\n",
    "                dfchain['iv'] = np.round(100 * dfchain['iv'], 2)\n",
    "                dfchain['tradedate'] = lasttd\n",
    "                dfchain.set_index('contract', inplace=True)\n",
    "                dfchain.sort_index(inplace=True)\n",
    "                chaindict[daystr] = dfchain\n",
    "\n",
    "        return chaindict"
   ]
  },
  {
   "cell_type": "code",
   "execution_count": null,
   "metadata": {},
   "outputs": [],
   "source": []
  },
  {
   "cell_type": "code",
   "execution_count": null,
   "metadata": {},
   "outputs": [],
   "source": []
  },
  {
   "cell_type": "code",
   "execution_count": null,
   "metadata": {},
   "outputs": [],
   "source": []
  },
  {
   "cell_type": "code",
   "execution_count": null,
   "metadata": {},
   "outputs": [],
   "source": []
  },
  {
   "cell_type": "code",
   "execution_count": null,
   "metadata": {},
   "outputs": [],
   "source": []
  }
 ],
 "metadata": {
  "kernelspec": {
   "display_name": "Python 3",
   "language": "python",
   "name": "python3"
  },
  "language_info": {
   "codemirror_mode": {
    "name": "ipython",
    "version": 3
   },
   "file_extension": ".py",
   "mimetype": "text/x-python",
   "name": "python",
   "nbconvert_exporter": "python",
   "pygments_lexer": "ipython3",
   "version": "3.8.5"
  }
 },
 "nbformat": 4,
 "nbformat_minor": 4
}
