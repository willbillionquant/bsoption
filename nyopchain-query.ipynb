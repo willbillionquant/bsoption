{
 "cells": [
  {
   "cell_type": "markdown",
   "metadata": {},
   "source": [
    "## Modules"
   ]
  },
  {
   "cell_type": "code",
   "execution_count": 1,
   "metadata": {},
   "outputs": [],
   "source": [
    "import os\n",
    "import sys\n",
    "sys.path.append('..')\n",
    "from glob import glob\n",
    "\n",
    "from time import time\n",
    "from datetime import datetime\n",
    "import numpy as np\n",
    "import pandas as pd\n",
    "from sqlalchemy import create_engine\n",
    "\n",
    "from configparser import ConfigParser\n",
    "configchain = ConfigParser()\n",
    "configchain.read('setting_yahoochain.ini')\n",
    "chainpath = configchain['paths'].get('chainpath')\n",
    "\n",
    "from bsoption.nyopchain import NYopchain\n",
    "Opchain = NYopchain()"
   ]
  },
  {
   "cell_type": "markdown",
   "metadata": {},
   "source": [
    "## Single-day Option Chain"
   ]
  },
  {
   "cell_type": "code",
   "execution_count": null,
   "metadata": {},
   "outputs": [],
   "source": [
    "inputdict1 = {\n",
    "    'style': 'regular',  # trading hour style: regular, night, settle or entire\n",
    "    'month': [(2022, 1), (2022, 2), ], # list of option expiry month in the form (yyyy, mm)\n",
    "    'asset': 'HSI',      # asset symbol (\"HSI\" or \"HHI\", must be upper)\n",
    "    'strike_lowerbound': 20000,  # Lower bound for range of strike prices (inclusive)\n",
    "    'strike_upperbound': 26000,  # Upper bound for range of strike prices (inclusive)\n",
    "    'optype': ('C', 'P'), # Option type: (\"C\", \"C\") = CALL only, (\"P\", \"P\") = PUT only, (\"C\", \"P\") = CALL & PUT\n",
    "    'startdate': '2022-01-24',  # query period startdate (inclusive)\n",
    "    'enddate': '2022-01-24'  # query period startdate (inclusive) \n",
    "    }\n",
    "\n",
    "orderfield = ('tradedate', 'month', 'optype', 'strike', )\n",
    "\n",
    "dfop1 = loadopdata(inputdict1, orderfield)\n",
    "dfop1.head(20)"
   ]
  },
  {
   "cell_type": "code",
   "execution_count": null,
   "metadata": {},
   "outputs": [],
   "source": []
  },
  {
   "cell_type": "code",
   "execution_count": null,
   "metadata": {},
   "outputs": [],
   "source": []
  },
  {
   "cell_type": "code",
   "execution_count": null,
   "metadata": {},
   "outputs": [],
   "source": []
  }
 ],
 "metadata": {
  "kernelspec": {
   "display_name": "Python 3",
   "language": "python",
   "name": "python3"
  },
  "language_info": {
   "codemirror_mode": {
    "name": "ipython",
    "version": 3
   },
   "file_extension": ".py",
   "mimetype": "text/x-python",
   "name": "python",
   "nbconvert_exporter": "python",
   "pygments_lexer": "ipython3",
   "version": "3.8.5"
  }
 },
 "nbformat": 4,
 "nbformat_minor": 4
}
